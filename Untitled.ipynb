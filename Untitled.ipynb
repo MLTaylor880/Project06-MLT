{
 "cells": [
  {
   "cell_type": "code",
   "execution_count": 24,
   "metadata": {
    "collapsed": false
   },
   "outputs": [],
   "source": [
    "from bs4 import BeautifulSoup\n",
    "import requests\n",
    "import re\n",
    "import time\n",
    "\n",
    "\n",
    "# Download IMDB's Top 250 data\n",
    "url = 'http://www.imdb.com/chart/top'\n",
    "response = requests.get(url)\n",
    "soup = BeautifulSoup(response.text, 'lxml')\n",
    "\n",
    "movies = soup.select('td.titleColumn')\n",
    "links = [a.attrs.get('href') for a in soup.select('td.titleColumn a')]\n",
    "crew = [a.attrs.get('title') for a in soup.select('td.titleColumn a')]\n",
    "ratings = [b.attrs.get('data-value') for b in soup.select('td.posterColumn span[name=ir]')]\n",
    "votes = [b.attrs.get('data-value') for b in soup.select('td.ratingColumn strong')]\n",
    "\n",
    "imdb = []\n",
    "\n",
    "# Store each item into dictionary (data), then put those into a list (imdb)\n",
    "for index in range(0, len(movies)):\n",
    "    # Seperate movie into: 'place', 'title', 'year'\n",
    "    # Instead of \"2.       The Godfather        (1972)\"\n",
    "    movie_string = movies[index].get_text()\n",
    "    movie = (' '.join(movie_string.split()).replace('.', ''))\n",
    "    movie_title = movie[len(str(index))+1:-7]\n",
    "    year = re.search('\\((.*?)\\)', movie_string).group(1)\n",
    "    place = movie[:len(str(index))-(len(movie))]\n",
    "    data = {\"movie_title\": movie_title,\n",
    "            \"year\": year,\n",
    "            \"place\": place,\n",
    "            \"star_cast\": crew[index],\n",
    "            \"rating\": ratings[index],\n",
    "            \"vote\": votes[index],\n",
    "            \"link\": links[index]}\n",
    "    imdb.append(data)\n",
    "    time.sleep(1)\n"
   ]
  },
  {
   "cell_type": "code",
   "execution_count": 25,
   "metadata": {
    "collapsed": true
   },
   "outputs": [],
   "source": [
    "Rank=[]\n",
    "Actors=[]\n",
    "Awards=[]\n",
    "Country=[]\n",
    "Director=[]\n",
    "Genre=[]\n",
    "Language=[]\n",
    "Metascore=[]\n",
    "Plot=[]\n",
    "Rated=[]\n",
    "Released=[]\n",
    "Response=[]\n",
    "Runtime=[]\n",
    "Title=[]\n",
    "Type=[]\n",
    "Writer=[]\n",
    "Year=[]\n",
    "imdbID=[]\n",
    "\n",
    "\n",
    "\n",
    "imdbVotes=[]\n",
    "imdbRating=[]\n",
    "starCast=[]\n",
    "place=[]\n",
    "title=[]"
   ]
  },
  {
   "cell_type": "code",
   "execution_count": 9,
   "metadata": {
    "collapsed": false,
    "scrolled": false
   },
   "outputs": [],
   "source": [
    "# for item in imdb:\n",
    "#     print(item['place'], '-', item['movie_title'], '('+item['year']+') -', 'Starring:', item['star_cast'])\n"
   ]
  },
  {
   "cell_type": "code",
   "execution_count": 26,
   "metadata": {
    "collapsed": true
   },
   "outputs": [],
   "source": [
    "import pandas as pd"
   ]
  },
  {
   "cell_type": "code",
   "execution_count": 27,
   "metadata": {
    "collapsed": false
   },
   "outputs": [],
   "source": [
    "#  data = {\"movie_title\": movie_title,\n",
    "#             \"year\": year,\n",
    "#             \"place\": place,\n",
    "#             \"star_cast\": crew[index],\n",
    "#             \"rating\": ratings[index],\n",
    "#             \"vote\": votes[index],\n",
    "#             \"link\": links[index]}\n",
    "\n",
    "for item in imdb:\n",
    "    place.append(item['place'] )\n",
    "    title.append(item['movie_title'])\n",
    "    starCast.append(item['star_cast'])\n",
    "    imdbRating.append(item['rating'])\n",
    "    imdbVotes.append(item['vote'])\n",
    "    \n",
    "    \n",
    "#     Actors.append(movie[1]['Actors'])\n",
    "#     Awards.append(movie[1]['Awards'])\n",
    "#     Country.append(movie[1]['Country'])\n",
    "#     Director.append(movie[1]['Director'])\n",
    "#     Genre.append(movie[1]['Genre'])\n",
    "#     Language.append(movie[1]['Language'])\n",
    "#     Metascore.append(movie[1]['Metascore'])\n",
    "#     Plot.append(movie[1]['Plot'])\n",
    "#     Rated.append(movie[1]['Rated'])\n",
    "#     Released.append(movie[1]['Released'])\n",
    "#     Response.append(movie[1]['Response'])\n",
    "#     Runtime.append(movie[1]['Runtime'])\n",
    "#     Title.append(movie[1]['Title'])\n",
    "#     Type.append(movie[1]['Type'])\n",
    "#     Writer.append(movie[1]['Writer'])\n",
    "#     Year.append(movie[1]['Year'])\n",
    "#     imdbID.append(movie[1]['imdbID'])\n",
    "#     imdbRating.append(movie[1]['imdbRating'])\n",
    "#     imdbVotes.append(movie[1]['imdbVotes'])"
   ]
  },
  {
   "cell_type": "code",
   "execution_count": 30,
   "metadata": {
    "collapsed": false
   },
   "outputs": [
    {
     "name": "stdout",
     "output_type": "stream",
     "text": [
      "250 250 250 250 250 0\n"
     ]
    }
   ],
   "source": [
    "print len(imdbRating), len(place), len( title), len(starCast), len(imdbVotes), len(Rank)"
   ]
  },
  {
   "cell_type": "code",
   "execution_count": null,
   "metadata": {
    "collapsed": true
   },
   "outputs": [],
   "source": []
  },
  {
   "cell_type": "code",
   "execution_count": 31,
   "metadata": {
    "collapsed": false
   },
   "outputs": [],
   "source": [
    "dictMovies={'Actors':starCast,\n",
    "     'Title':title,\n",
    "     'imdbVotes':imdbVotes,\n",
    "     'Place':place,\n",
    "     'imdbRating':imdbRating}\n",
    "            \n",
    "movieData=pd.DataFrame(dictMovies)"
   ]
  },
  {
   "cell_type": "code",
   "execution_count": 33,
   "metadata": {
    "collapsed": false
   },
   "outputs": [
    {
     "data": {
      "text/html": [
       "<div>\n",
       "<table border=\"1\" class=\"dataframe\">\n",
       "  <thead>\n",
       "    <tr style=\"text-align: right;\">\n",
       "      <th></th>\n",
       "      <th>Actors</th>\n",
       "      <th>Place</th>\n",
       "      <th>Title</th>\n",
       "      <th>imdbRating</th>\n",
       "      <th>imdbVotes</th>\n",
       "    </tr>\n",
       "  </thead>\n",
       "  <tbody>\n",
       "    <tr>\n",
       "      <th>245</th>\n",
       "      <td>Tom Hooper (dir.), Colin Firth, Geoffrey Rush</td>\n",
       "      <td>246</td>\n",
       "      <td>The King's Speech</td>\n",
       "      <td>8.002469814491285</td>\n",
       "      <td>None</td>\n",
       "    </tr>\n",
       "    <tr>\n",
       "      <th>246</th>\n",
       "      <td>Joss Whedon (dir.), Robert Downey Jr., Chris E...</td>\n",
       "      <td>247</td>\n",
       "      <td>The Avengers</td>\n",
       "      <td>7.999348431543066</td>\n",
       "      <td>None</td>\n",
       "    </tr>\n",
       "    <tr>\n",
       "      <th>247</th>\n",
       "      <td>Wim Wenders (dir.), Harry Dean Stanton, Nastas...</td>\n",
       "      <td>248</td>\n",
       "      <td>Paris, Texas</td>\n",
       "      <td>7.9987346754250535</td>\n",
       "      <td>None</td>\n",
       "    </tr>\n",
       "    <tr>\n",
       "      <th>248</th>\n",
       "      <td>Ashutosh Gowariker (dir.), Aamir Khan, Gracy S...</td>\n",
       "      <td>249</td>\n",
       "      <td>Lagaan: Once Upon a Time in India</td>\n",
       "      <td>7.998622493976697</td>\n",
       "      <td>None</td>\n",
       "    </tr>\n",
       "    <tr>\n",
       "      <th>249</th>\n",
       "      <td>Gary Trousdale (dir.), Paige O'Hara, Robby Benson</td>\n",
       "      <td>250</td>\n",
       "      <td>Beauty and the Beast</td>\n",
       "      <td>7.998388161522098</td>\n",
       "      <td>None</td>\n",
       "    </tr>\n",
       "  </tbody>\n",
       "</table>\n",
       "</div>"
      ],
      "text/plain": [
       "                                                Actors Place  \\\n",
       "245      Tom Hooper (dir.), Colin Firth, Geoffrey Rush   246   \n",
       "246  Joss Whedon (dir.), Robert Downey Jr., Chris E...   247   \n",
       "247  Wim Wenders (dir.), Harry Dean Stanton, Nastas...   248   \n",
       "248  Ashutosh Gowariker (dir.), Aamir Khan, Gracy S...   249   \n",
       "249  Gary Trousdale (dir.), Paige O'Hara, Robby Benson   250   \n",
       "\n",
       "                                 Title          imdbRating imdbVotes  \n",
       "245                  The King's Speech   8.002469814491285      None  \n",
       "246                       The Avengers   7.999348431543066      None  \n",
       "247                       Paris, Texas  7.9987346754250535      None  \n",
       "248  Lagaan: Once Upon a Time in India   7.998622493976697      None  \n",
       "249               Beauty and the Beast   7.998388161522098      None  "
      ]
     },
     "execution_count": 33,
     "metadata": {},
     "output_type": "execute_result"
    }
   ],
   "source": [
    "movieData.tail()"
   ]
  },
  {
   "cell_type": "code",
   "execution_count": null,
   "metadata": {
    "collapsed": true
   },
   "outputs": [],
   "source": []
  }
 ],
 "metadata": {
  "kernelspec": {
   "display_name": "Python [Root]",
   "language": "python",
   "name": "Python [Root]"
  },
  "language_info": {
   "codemirror_mode": {
    "name": "ipython",
    "version": 2
   },
   "file_extension": ".py",
   "mimetype": "text/x-python",
   "name": "python",
   "nbconvert_exporter": "python",
   "pygments_lexer": "ipython2",
   "version": "2.7.12"
  }
 },
 "nbformat": 4,
 "nbformat_minor": 0
}
