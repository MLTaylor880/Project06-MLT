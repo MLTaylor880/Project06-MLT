{
 "cells": [
  {
   "cell_type": "code",
   "execution_count": null,
   "metadata": {
    "collapsed": true
   },
   "outputs": [],
   "source": [
    "#project 6"
   ]
  },
  {
   "cell_type": "code",
   "execution_count": 27,
   "metadata": {
    "collapsed": false
   },
   "outputs": [],
   "source": [
    "import requests\n",
    "from bs4 import BeautifulSoup\n",
    "import urllib2 \n",
    "import time\n",
    "import json\n",
    "import pandas as pd\n",
    "import ijson\n",
    "\n",
    "#in command line install ijson"
   ]
  },
  {
   "cell_type": "code",
   "execution_count": 28,
   "metadata": {
    "collapsed": false
   },
   "outputs": [],
   "source": [
    "soup = BeautifulSoup(urllib2.urlopen('http://www.imdb.com/chart/top?ref_=ft_250').read())"
   ]
  },
  {
   "cell_type": "code",
   "execution_count": 29,
   "metadata": {
    "collapsed": false
   },
   "outputs": [],
   "source": [
    "#print soup.prettify()"
   ]
  },
  {
   "cell_type": "code",
   "execution_count": 30,
   "metadata": {
    "collapsed": true
   },
   "outputs": [],
   "source": [
    "list_of_movies = []\n",
    "counter = 0 \n",
    "\n",
    "for title in soup('td', {'class' : 'titleColumn'}):\n",
    "    for actual_title in title('a'):\n",
    "        list_of_movies.append((counter, actual_title.text))\n",
    "        counter += 1"
   ]
  },
  {
   "cell_type": "code",
   "execution_count": 31,
   "metadata": {
    "collapsed": false
   },
   "outputs": [
    {
     "name": "stdout",
     "output_type": "stream",
     "text": [
      "(0, u'The Shawshank Redemption')\n",
      "(1, u'The Godfather')\n",
      "(2, u'The Godfather: Part II')\n",
      "(3, u'The Dark Knight')\n",
      "(4, u'12 Angry Men')\n"
     ]
    }
   ],
   "source": [
    "for movie in list_of_movies[0:5]:\n",
    "    print movie"
   ]
  },
  {
   "cell_type": "code",
   "execution_count": 32,
   "metadata": {
    "collapsed": true
   },
   "outputs": [],
   "source": [
    "r = requests.get('http://www.omdbapi.com/?type=movie&t=the+shawshank+redemption')"
   ]
  },
  {
   "cell_type": "code",
   "execution_count": 33,
   "metadata": {
    "collapsed": false
   },
   "outputs": [
    {
     "data": {
      "text/plain": [
       "{u'Actors': u'Tim Robbins, Morgan Freeman, Bob Gunton, William Sadler',\n",
       " u'Awards': u'Nominated for 7 Oscars. Another 18 wins & 30 nominations.',\n",
       " u'Country': u'USA',\n",
       " u'Director': u'Frank Darabont',\n",
       " u'Genre': u'Crime, Drama',\n",
       " u'Language': u'English',\n",
       " u'Metascore': u'80',\n",
       " u'Plot': u'Two imprisoned men bond over a number of years, finding solace and eventual redemption through acts of common decency.',\n",
       " u'Poster': u'https://images-na.ssl-images-amazon.com/images/M/MV5BODU4MjU4NjIwNl5BMl5BanBnXkFtZTgwMDU2MjEyMDE@._V1_SX300.jpg',\n",
       " u'Rated': u'R',\n",
       " u'Released': u'14 Oct 1994',\n",
       " u'Response': u'True',\n",
       " u'Runtime': u'142 min',\n",
       " u'Title': u'The Shawshank Redemption',\n",
       " u'Type': u'movie',\n",
       " u'Writer': u'Stephen King (short story \"Rita Hayworth and Shawshank Redemption\"), Frank Darabont (screenplay)',\n",
       " u'Year': u'1994',\n",
       " u'imdbID': u'tt0111161',\n",
       " u'imdbRating': u'9.3',\n",
       " u'imdbVotes': u'1,711,064'}"
      ]
     },
     "execution_count": 33,
     "metadata": {},
     "output_type": "execute_result"
    }
   ],
   "source": [
    "r.json()"
   ]
  },
  {
   "cell_type": "code",
   "execution_count": 34,
   "metadata": {
    "collapsed": false
   },
   "outputs": [
    {
     "name": "stdout",
     "output_type": "stream",
     "text": [
      "next set\n",
      "next set\n",
      "next set\n",
      "next set\n",
      "next set\n",
      "next set\n",
      "next set\n",
      "next set\n",
      "next set\n",
      "next set\n"
     ]
    }
   ],
   "source": [
    "movies_plus_json = []\n",
    "\n",
    "for movie in list_of_movies[70:80]:\n",
    "    title = movie[1].replace(' ', '+')\n",
    "    url = 'http://www.omdbapi.com/?type=movie&t=' + title\n",
    "    r = requests.get(url)\n",
    "    movies_plus_json.append((movie[0], r.json()))\n",
    "    print 'next set'\n",
    "    time.sleep(1)"
   ]
  },
  {
   "cell_type": "code",
   "execution_count": 35,
   "metadata": {
    "collapsed": false
   },
   "outputs": [
    {
     "data": {
      "text/plain": [
       "[(70,\n",
       "  {u'Actors': u'Cary Grant, Eva Marie Saint, James Mason, Jessie Royce Landis',\n",
       "   u'Awards': u'Nominated for 3 Oscars. Another 8 wins & 4 nominations.',\n",
       "   u'Country': u'USA',\n",
       "   u'Director': u'Alfred Hitchcock',\n",
       "   u'Genre': u'Action, Adventure, Crime',\n",
       "   u'Language': u'English',\n",
       "   u'Metascore': u'N/A',\n",
       "   u'Plot': u'A hapless New York advertising executive is mistaken for a government agent by a group of foreign spies, and is pursued across the country while he looks for a way to survive.',\n",
       "   u'Poster': u'https://images-na.ssl-images-amazon.com/images/M/MV5BMjQwMTQ0MzgwNl5BMl5BanBnXkFtZTgwNjc4ODE4MzE@._V1_SX300.jpg',\n",
       "   u'Rated': u'APPROVED',\n",
       "   u'Released': u'26 Sep 1959',\n",
       "   u'Response': u'True',\n",
       "   u'Runtime': u'136 min',\n",
       "   u'Title': u'North by Northwest',\n",
       "   u'Type': u'movie',\n",
       "   u'Writer': u'Ernest Lehman',\n",
       "   u'Year': u'1959',\n",
       "   u'imdbID': u'tt0053125',\n",
       "   u'imdbRating': u'8.4',\n",
       "   u'imdbVotes': u'223,945'}),\n",
       " (71,\n",
       "  {u'Actors': u'James Stewart, Kim Novak, Barbara Bel Geddes, Tom Helmore',\n",
       "   u'Awards': u'Nominated for 2 Oscars. Another 8 wins & 3 nominations.',\n",
       "   u'Country': u'USA',\n",
       "   u'Director': u'Alfred Hitchcock',\n",
       "   u'Genre': u'Mystery, Romance, Thriller',\n",
       "   u'Language': u'English',\n",
       "   u'Metascore': u'N/A',\n",
       "   u'Plot': u\"A San Francisco detective suffering from acrophobia investigates the strange activities of an old friend's wife, all the while becoming dangerously obsessed with her.\",\n",
       "   u'Poster': u'https://images-na.ssl-images-amazon.com/images/M/MV5BNzY0NzQyNzQzOF5BMl5BanBnXkFtZTcwMTgwNTk4OQ@@._V1_SX300.jpg',\n",
       "   u'Rated': u'PG',\n",
       "   u'Released': u'21 Jul 1958',\n",
       "   u'Response': u'True',\n",
       "   u'Runtime': u'128 min',\n",
       "   u'Title': u'Vertigo',\n",
       "   u'Type': u'movie',\n",
       "   u'Writer': u'Alec Coppel (screenplay), Samuel A. Taylor (screenplay), Pierre Boileau (novel), Thomas Narcejac (novel)',\n",
       "   u'Year': u'1958',\n",
       "   u'imdbID': u'tt0052357',\n",
       "   u'imdbRating': u'8.4',\n",
       "   u'imdbVotes': u'254,260'}),\n",
       " (72,\n",
       "  {u'Actors': u'Mark Hamill, Harrison Ford, Carrie Fisher, Billy Dee Williams',\n",
       "   u'Awards': u'Nominated for 4 Oscars. Another 18 wins & 16 nominations.',\n",
       "   u'Country': u'USA',\n",
       "   u'Director': u'Richard Marquand',\n",
       "   u'Genre': u'Action, Adventure, Fantasy',\n",
       "   u'Language': u'English',\n",
       "   u'Metascore': u'53',\n",
       "   u'Plot': u'After rescuing Han Solo from the palace of Jabba the Hutt, the rebels attempt to destroy the second Death Star, while Luke struggles to make Vader return from the dark side of the Force.',\n",
       "   u'Poster': u'https://images-na.ssl-images-amazon.com/images/M/MV5BODllZjg2YjUtNWEzNy00ZGY2LTgyZmQtYTkxNDYyOWM3OTUyXkEyXkFqcGdeQXVyMTQxNzMzNDI@._V1_SX300.jpg',\n",
       "   u'Rated': u'PG',\n",
       "   u'Released': u'25 May 1983',\n",
       "   u'Response': u'True',\n",
       "   u'Runtime': u'131 min',\n",
       "   u'Title': u'Star Wars: Episode VI - Return of the Jedi',\n",
       "   u'Type': u'movie',\n",
       "   u'Writer': u'Lawrence Kasdan (screenplay), George Lucas (screenplay), George Lucas (story by)',\n",
       "   u'Year': u'1983',\n",
       "   u'imdbID': u'tt0086190',\n",
       "   u'imdbRating': u'8.4',\n",
       "   u'imdbVotes': u'691,701'}),\n",
       " (73,\n",
       "  {u'Error': u'Must provide more than one character.', u'Response': u'False'}),\n",
       " (74,\n",
       "  {u'Actors': u'Harvey Keitel, Tim Roth, Michael Madsen, Chris Penn',\n",
       "   u'Awards': u'9 wins & 15 nominations.',\n",
       "   u'Country': u'USA',\n",
       "   u'Director': u'Quentin Tarantino',\n",
       "   u'Genre': u'Crime, Drama, Thriller',\n",
       "   u'Language': u'English',\n",
       "   u'Metascore': u'78',\n",
       "   u'Plot': u'After a simple jewelry heist goes terribly wrong, the surviving criminals begin to suspect that one of them is a police informant.',\n",
       "   u'Poster': u'https://images-na.ssl-images-amazon.com/images/M/MV5BNjE5ZDJiZTQtOGE2YS00ZTc5LTk0OGUtOTg2NjdjZmVlYzE2XkEyXkFqcGdeQXVyMzM4MjM0Nzg@._V1_SX300.jpg',\n",
       "   u'Rated': u'R',\n",
       "   u'Released': u'02 Sep 1992',\n",
       "   u'Response': u'True',\n",
       "   u'Runtime': u'99 min',\n",
       "   u'Title': u'Reservoir Dogs',\n",
       "   u'Type': u'movie',\n",
       "   u'Writer': u'Quentin Tarantino, Roger Avary (background radio dialog), Quentin Tarantino (background radio dialog)',\n",
       "   u'Year': u'1992',\n",
       "   u'imdbID': u'tt0105236',\n",
       "   u'imdbRating': u'8.4',\n",
       "   u'imdbVotes': u'673,300'}),\n",
       " (75,\n",
       "  {u'Actors': u'James Robinson, Sean Lawlor, Sandy Nelson, James Cosmo',\n",
       "   u'Awards': u'Won 5 Oscars. Another 26 wins & 29 nominations.',\n",
       "   u'Country': u'USA',\n",
       "   u'Director': u'Mel Gibson',\n",
       "   u'Genre': u'Biography, Drama, History',\n",
       "   u'Language': u'English, French, Latin, Scottish Gaelic',\n",
       "   u'Metascore': u'68',\n",
       "   u'Plot': u'When his secret bride is executed for assaulting an English soldier who tried to rape her, William Wallace begins a revolt against King Edward I of England.',\n",
       "   u'Poster': u'https://images-na.ssl-images-amazon.com/images/M/MV5BNTMyNGE1ODQtYTNiNS00ZTUyLThhZjktMTgyOGZkZThlYTc3XkEyXkFqcGdeQXVyMTQxNzMzNDI@._V1_SX300.jpg',\n",
       "   u'Rated': u'R',\n",
       "   u'Released': u'24 May 1995',\n",
       "   u'Response': u'True',\n",
       "   u'Runtime': u'178 min',\n",
       "   u'Title': u'Braveheart',\n",
       "   u'Type': u'movie',\n",
       "   u'Writer': u'Randall Wallace',\n",
       "   u'Year': u'1995',\n",
       "   u'imdbID': u'tt0112573',\n",
       "   u'imdbRating': u'8.4',\n",
       "   u'imdbVotes': u'746,574'}),\n",
       " (76,\n",
       "  {u'Actors': u'Audrey Tautou, Mathieu Kassovitz, Rufus, Lorella Cravotta',\n",
       "   u'Awards': u'Nominated for 5 Oscars. Another 56 wins & 61 nominations.',\n",
       "   u'Country': u'France, Germany',\n",
       "   u'Director': u'Jean-Pierre Jeunet',\n",
       "   u'Genre': u'Comedy, Romance',\n",
       "   u'Language': u'French, Russian',\n",
       "   u'Metascore': u'69',\n",
       "   u'Plot': u'Am\\xe9lie is an innocent and naive girl in Paris with her own sense of justice. She decides to help those around her and, along the way, discovers love.',\n",
       "   u'Poster': u'https://images-na.ssl-images-amazon.com/images/M/MV5BMTA3MjVkMWMtYTQ4ZC00ODczLWFjYmQtMDFkZDQ2Y2M0NDVmXkEyXkFqcGdeQXVyMTQxNzMzNDI@._V1_SX300.jpg',\n",
       "   u'Rated': u'R',\n",
       "   u'Released': u'08 Feb 2002',\n",
       "   u'Response': u'True',\n",
       "   u'Runtime': u'122 min',\n",
       "   u'Title': u'Am\\xe9lie',\n",
       "   u'Type': u'movie',\n",
       "   u'Writer': u'Guillaume Laurant (scenario), Jean-Pierre Jeunet (scenario), Guillaume Laurant (dialogue)',\n",
       "   u'Year': u'2001',\n",
       "   u'imdbID': u'tt0211915',\n",
       "   u'imdbRating': u'8.4',\n",
       "   u'imdbVotes': u'544,458'}),\n",
       " (77,\n",
       "  {u'Actors': u'Ellen Burstyn, Jared Leto, Jennifer Connelly, Marlon Wayans',\n",
       "   u'Awards': u'Nominated for 1 Oscar. Another 32 wins & 61 nominations.',\n",
       "   u'Country': u'USA',\n",
       "   u'Director': u'Darren Aronofsky',\n",
       "   u'Genre': u'Drama',\n",
       "   u'Language': u'English',\n",
       "   u'Metascore': u'68',\n",
       "   u'Plot': u'The drug-induced utopias of four Coney Island people are shattered when their addictions run deep.',\n",
       "   u'Poster': u'https://images-na.ssl-images-amazon.com/images/M/MV5BMTkzODMzODYwOF5BMl5BanBnXkFtZTcwODM2NjA2NQ@@._V1_SX300.jpg',\n",
       "   u'Rated': u'R',\n",
       "   u'Released': u'15 Dec 2000',\n",
       "   u'Response': u'True',\n",
       "   u'Runtime': u'102 min',\n",
       "   u'Title': u'Requiem for a Dream',\n",
       "   u'Type': u'movie',\n",
       "   u'Writer': u'Hubert Selby Jr. (based on the book by), Hubert Selby Jr. (screenplay), Darren Aronofsky (screenplay)',\n",
       "   u'Year': u'2000',\n",
       "   u'imdbID': u'tt0180093',\n",
       "   u'imdbRating': u'8.4',\n",
       "   u'imdbVotes': u'580,879'}),\n",
       " (78, {u'Error': u'Movie not found!', u'Response': u'False'}),\n",
       " (79, {u'Error': u'Movie not found!', u'Response': u'False'})]"
      ]
     },
     "execution_count": 35,
     "metadata": {},
     "output_type": "execute_result"
    }
   ],
   "source": [
    "movies_plus_json"
   ]
  },
  {
   "cell_type": "code",
   "execution_count": 38,
   "metadata": {
    "collapsed": false
   },
   "outputs": [
    {
     "data": {
      "text/plain": [
       "list"
      ]
     },
     "execution_count": 38,
     "metadata": {},
     "output_type": "execute_result"
    }
   ],
   "source": [
    "type(movies_plus_json)"
   ]
  },
  {
   "cell_type": "code",
   "execution_count": 39,
   "metadata": {
    "collapsed": false
   },
   "outputs": [
    {
     "data": {
      "text/plain": [
       "(70,\n",
       " {u'Actors': u'Cary Grant, Eva Marie Saint, James Mason, Jessie Royce Landis',\n",
       "  u'Awards': u'Nominated for 3 Oscars. Another 8 wins & 4 nominations.',\n",
       "  u'Country': u'USA',\n",
       "  u'Director': u'Alfred Hitchcock',\n",
       "  u'Genre': u'Action, Adventure, Crime',\n",
       "  u'Language': u'English',\n",
       "  u'Metascore': u'N/A',\n",
       "  u'Plot': u'A hapless New York advertising executive is mistaken for a government agent by a group of foreign spies, and is pursued across the country while he looks for a way to survive.',\n",
       "  u'Poster': u'https://images-na.ssl-images-amazon.com/images/M/MV5BMjQwMTQ0MzgwNl5BMl5BanBnXkFtZTgwNjc4ODE4MzE@._V1_SX300.jpg',\n",
       "  u'Rated': u'APPROVED',\n",
       "  u'Released': u'26 Sep 1959',\n",
       "  u'Response': u'True',\n",
       "  u'Runtime': u'136 min',\n",
       "  u'Title': u'North by Northwest',\n",
       "  u'Type': u'movie',\n",
       "  u'Writer': u'Ernest Lehman',\n",
       "  u'Year': u'1959',\n",
       "  u'imdbID': u'tt0053125',\n",
       "  u'imdbRating': u'8.4',\n",
       "  u'imdbVotes': u'223,945'})"
      ]
     },
     "execution_count": 39,
     "metadata": {},
     "output_type": "execute_result"
    }
   ],
   "source": [
    "movies_plus_json[0]"
   ]
  },
  {
   "cell_type": "code",
   "execution_count": 13,
   "metadata": {
    "collapsed": false
   },
   "outputs": [
    {
     "data": {
      "text/plain": [
       "tuple"
      ]
     },
     "execution_count": 13,
     "metadata": {},
     "output_type": "execute_result"
    }
   ],
   "source": [
    "type(movies_plus_json[1])"
   ]
  },
  {
   "cell_type": "code",
   "execution_count": 40,
   "metadata": {
    "collapsed": true
   },
   "outputs": [],
   "source": [
    "title=[]\n",
    "Rank=[]\n",
    "Actors=[]\n",
    "Awards=[]\n",
    "Country=[]\n",
    "Director=[]\n",
    "Genre=[]\n",
    "Language=[]\n",
    "Metascore=[]\n",
    "Plot=[]\n",
    "Rated=[]\n",
    "Released=[]\n",
    "Response=[]\n",
    "Runtime=[]\n",
    "Title=[]\n",
    "Type=[]\n",
    "Writer=[]\n",
    "Year=[]\n",
    "imdbID=[]\n",
    "imdbRating=[]\n",
    "imdbVotes=[]"
   ]
  },
  {
   "cell_type": "code",
   "execution_count": null,
   "metadata": {
    "collapsed": true
   },
   "outputs": [],
   "source": []
  },
  {
   "cell_type": "code",
   "execution_count": 41,
   "metadata": {
    "collapsed": false
   },
   "outputs": [
    {
     "name": "stdout",
     "output_type": "stream",
     "text": [
      "0\n",
      "0\n"
     ]
    }
   ],
   "source": [
    "print len(Actors)\n",
    "print len(Rank)"
   ]
  },
  {
   "cell_type": "code",
   "execution_count": 105,
   "metadata": {
    "collapsed": false
   },
   "outputs": [],
   "source": [
    "dictMovies={'Ranking':Rank,\n",
    "     'Actors':Actors,\n",
    "     'Awards':Awards,\n",
    "     'Country':Country,\n",
    "     'Director':Director,\n",
    "     'Genre':Genre,\n",
    "     'Language':Language,\n",
    "     'Metascore':Metascore,\n",
    "     'Plot':Plot,\n",
    "     'Rated':Rated,\n",
    "     'Released':Released,\n",
    "     'Response':Response,\n",
    "     'Runtime':Runtime,\n",
    "     'Title':Title,\n",
    "     'Type':Type,\n",
    "     'Writer':Writer,\n",
    "     'Year':Year,\n",
    "     'imdbID':imdbID,\n",
    "     'imdbRating':imdbRating,\n",
    "     'imdbVotes':imdbVotes}\n",
    "movieData=pd.DataFrame(dictMovies)"
   ]
  },
  {
   "cell_type": "code",
   "execution_count": 109,
   "metadata": {
    "collapsed": false
   },
   "outputs": [
    {
     "data": {
      "text/plain": [
       "[(70,\n",
       "  {u'Actors': u'Cary Grant, Eva Marie Saint, James Mason, Jessie Royce Landis',\n",
       "   u'Awards': u'Nominated for 3 Oscars. Another 8 wins & 4 nominations.',\n",
       "   u'Country': u'USA',\n",
       "   u'Director': u'Alfred Hitchcock',\n",
       "   u'Genre': u'Action, Adventure, Crime',\n",
       "   u'Language': u'English',\n",
       "   u'Metascore': u'N/A',\n",
       "   u'Plot': u'A hapless New York advertising executive is mistaken for a government agent by a group of foreign spies, and is pursued across the country while he looks for a way to survive.',\n",
       "   u'Poster': u'https://images-na.ssl-images-amazon.com/images/M/MV5BMjQwMTQ0MzgwNl5BMl5BanBnXkFtZTgwNjc4ODE4MzE@._V1_SX300.jpg',\n",
       "   u'Rated': u'APPROVED',\n",
       "   u'Released': u'26 Sep 1959',\n",
       "   u'Response': u'True',\n",
       "   u'Runtime': u'136 min',\n",
       "   u'Title': u'North by Northwest',\n",
       "   u'Type': u'movie',\n",
       "   u'Writer': u'Ernest Lehman',\n",
       "   u'Year': u'1959',\n",
       "   u'imdbID': u'tt0053125',\n",
       "   u'imdbRating': u'8.4',\n",
       "   u'imdbVotes': u'223,945'}),\n",
       " (71,\n",
       "  {u'Actors': u'James Stewart, Kim Novak, Barbara Bel Geddes, Tom Helmore',\n",
       "   u'Awards': u'Nominated for 2 Oscars. Another 8 wins & 3 nominations.',\n",
       "   u'Country': u'USA',\n",
       "   u'Director': u'Alfred Hitchcock',\n",
       "   u'Genre': u'Mystery, Romance, Thriller',\n",
       "   u'Language': u'English',\n",
       "   u'Metascore': u'N/A',\n",
       "   u'Plot': u\"A San Francisco detective suffering from acrophobia investigates the strange activities of an old friend's wife, all the while becoming dangerously obsessed with her.\",\n",
       "   u'Poster': u'https://images-na.ssl-images-amazon.com/images/M/MV5BNzY0NzQyNzQzOF5BMl5BanBnXkFtZTcwMTgwNTk4OQ@@._V1_SX300.jpg',\n",
       "   u'Rated': u'PG',\n",
       "   u'Released': u'21 Jul 1958',\n",
       "   u'Response': u'True',\n",
       "   u'Runtime': u'128 min',\n",
       "   u'Title': u'Vertigo',\n",
       "   u'Type': u'movie',\n",
       "   u'Writer': u'Alec Coppel (screenplay), Samuel A. Taylor (screenplay), Pierre Boileau (novel), Thomas Narcejac (novel)',\n",
       "   u'Year': u'1958',\n",
       "   u'imdbID': u'tt0052357',\n",
       "   u'imdbRating': u'8.4',\n",
       "   u'imdbVotes': u'254,260'}),\n",
       " (72,\n",
       "  {u'Actors': u'Mark Hamill, Harrison Ford, Carrie Fisher, Billy Dee Williams',\n",
       "   u'Awards': u'Nominated for 4 Oscars. Another 18 wins & 16 nominations.',\n",
       "   u'Country': u'USA',\n",
       "   u'Director': u'Richard Marquand',\n",
       "   u'Genre': u'Action, Adventure, Fantasy',\n",
       "   u'Language': u'English',\n",
       "   u'Metascore': u'53',\n",
       "   u'Plot': u'After rescuing Han Solo from the palace of Jabba the Hutt, the rebels attempt to destroy the second Death Star, while Luke struggles to make Vader return from the dark side of the Force.',\n",
       "   u'Poster': u'https://images-na.ssl-images-amazon.com/images/M/MV5BODllZjg2YjUtNWEzNy00ZGY2LTgyZmQtYTkxNDYyOWM3OTUyXkEyXkFqcGdeQXVyMTQxNzMzNDI@._V1_SX300.jpg',\n",
       "   u'Rated': u'PG',\n",
       "   u'Released': u'25 May 1983',\n",
       "   u'Response': u'True',\n",
       "   u'Runtime': u'131 min',\n",
       "   u'Title': u'Star Wars: Episode VI - Return of the Jedi',\n",
       "   u'Type': u'movie',\n",
       "   u'Writer': u'Lawrence Kasdan (screenplay), George Lucas (screenplay), George Lucas (story by)',\n",
       "   u'Year': u'1983',\n",
       "   u'imdbID': u'tt0086190',\n",
       "   u'imdbRating': u'8.4',\n",
       "   u'imdbVotes': u'691,701'}),\n",
       " (73,\n",
       "  {u'Error': u'Must provide more than one character.', u'Response': u'False'}),\n",
       " (74,\n",
       "  {u'Actors': u'Harvey Keitel, Tim Roth, Michael Madsen, Chris Penn',\n",
       "   u'Awards': u'9 wins & 15 nominations.',\n",
       "   u'Country': u'USA',\n",
       "   u'Director': u'Quentin Tarantino',\n",
       "   u'Genre': u'Crime, Drama, Thriller',\n",
       "   u'Language': u'English',\n",
       "   u'Metascore': u'78',\n",
       "   u'Plot': u'After a simple jewelry heist goes terribly wrong, the surviving criminals begin to suspect that one of them is a police informant.',\n",
       "   u'Poster': u'https://images-na.ssl-images-amazon.com/images/M/MV5BNjE5ZDJiZTQtOGE2YS00ZTc5LTk0OGUtOTg2NjdjZmVlYzE2XkEyXkFqcGdeQXVyMzM4MjM0Nzg@._V1_SX300.jpg',\n",
       "   u'Rated': u'R',\n",
       "   u'Released': u'02 Sep 1992',\n",
       "   u'Response': u'True',\n",
       "   u'Runtime': u'99 min',\n",
       "   u'Title': u'Reservoir Dogs',\n",
       "   u'Type': u'movie',\n",
       "   u'Writer': u'Quentin Tarantino, Roger Avary (background radio dialog), Quentin Tarantino (background radio dialog)',\n",
       "   u'Year': u'1992',\n",
       "   u'imdbID': u'tt0105236',\n",
       "   u'imdbRating': u'8.4',\n",
       "   u'imdbVotes': u'673,300'}),\n",
       " (75,\n",
       "  {u'Actors': u'James Robinson, Sean Lawlor, Sandy Nelson, James Cosmo',\n",
       "   u'Awards': u'Won 5 Oscars. Another 26 wins & 29 nominations.',\n",
       "   u'Country': u'USA',\n",
       "   u'Director': u'Mel Gibson',\n",
       "   u'Genre': u'Biography, Drama, History',\n",
       "   u'Language': u'English, French, Latin, Scottish Gaelic',\n",
       "   u'Metascore': u'68',\n",
       "   u'Plot': u'When his secret bride is executed for assaulting an English soldier who tried to rape her, William Wallace begins a revolt against King Edward I of England.',\n",
       "   u'Poster': u'https://images-na.ssl-images-amazon.com/images/M/MV5BNTMyNGE1ODQtYTNiNS00ZTUyLThhZjktMTgyOGZkZThlYTc3XkEyXkFqcGdeQXVyMTQxNzMzNDI@._V1_SX300.jpg',\n",
       "   u'Rated': u'R',\n",
       "   u'Released': u'24 May 1995',\n",
       "   u'Response': u'True',\n",
       "   u'Runtime': u'178 min',\n",
       "   u'Title': u'Braveheart',\n",
       "   u'Type': u'movie',\n",
       "   u'Writer': u'Randall Wallace',\n",
       "   u'Year': u'1995',\n",
       "   u'imdbID': u'tt0112573',\n",
       "   u'imdbRating': u'8.4',\n",
       "   u'imdbVotes': u'746,574'}),\n",
       " (76,\n",
       "  {u'Actors': u'Audrey Tautou, Mathieu Kassovitz, Rufus, Lorella Cravotta',\n",
       "   u'Awards': u'Nominated for 5 Oscars. Another 56 wins & 61 nominations.',\n",
       "   u'Country': u'France, Germany',\n",
       "   u'Director': u'Jean-Pierre Jeunet',\n",
       "   u'Genre': u'Comedy, Romance',\n",
       "   u'Language': u'French, Russian',\n",
       "   u'Metascore': u'69',\n",
       "   u'Plot': u'Am\\xe9lie is an innocent and naive girl in Paris with her own sense of justice. She decides to help those around her and, along the way, discovers love.',\n",
       "   u'Poster': u'https://images-na.ssl-images-amazon.com/images/M/MV5BMTA3MjVkMWMtYTQ4ZC00ODczLWFjYmQtMDFkZDQ2Y2M0NDVmXkEyXkFqcGdeQXVyMTQxNzMzNDI@._V1_SX300.jpg',\n",
       "   u'Rated': u'R',\n",
       "   u'Released': u'08 Feb 2002',\n",
       "   u'Response': u'True',\n",
       "   u'Runtime': u'122 min',\n",
       "   u'Title': u'Am\\xe9lie',\n",
       "   u'Type': u'movie',\n",
       "   u'Writer': u'Guillaume Laurant (scenario), Jean-Pierre Jeunet (scenario), Guillaume Laurant (dialogue)',\n",
       "   u'Year': u'2001',\n",
       "   u'imdbID': u'tt0211915',\n",
       "   u'imdbRating': u'8.4',\n",
       "   u'imdbVotes': u'544,458'}),\n",
       " (77,\n",
       "  {u'Actors': u'Ellen Burstyn, Jared Leto, Jennifer Connelly, Marlon Wayans',\n",
       "   u'Awards': u'Nominated for 1 Oscar. Another 32 wins & 61 nominations.',\n",
       "   u'Country': u'USA',\n",
       "   u'Director': u'Darren Aronofsky',\n",
       "   u'Genre': u'Drama',\n",
       "   u'Language': u'English',\n",
       "   u'Metascore': u'68',\n",
       "   u'Plot': u'The drug-induced utopias of four Coney Island people are shattered when their addictions run deep.',\n",
       "   u'Poster': u'https://images-na.ssl-images-amazon.com/images/M/MV5BMTkzODMzODYwOF5BMl5BanBnXkFtZTcwODM2NjA2NQ@@._V1_SX300.jpg',\n",
       "   u'Rated': u'R',\n",
       "   u'Released': u'15 Dec 2000',\n",
       "   u'Response': u'True',\n",
       "   u'Runtime': u'102 min',\n",
       "   u'Title': u'Requiem for a Dream',\n",
       "   u'Type': u'movie',\n",
       "   u'Writer': u'Hubert Selby Jr. (based on the book by), Hubert Selby Jr. (screenplay), Darren Aronofsky (screenplay)',\n",
       "   u'Year': u'2000',\n",
       "   u'imdbID': u'tt0180093',\n",
       "   u'imdbRating': u'8.4',\n",
       "   u'imdbVotes': u'580,879'}),\n",
       " (78,\n",
       "  {u'Actors': u'Malcolm McDowell, Patrick Magee, Michael Bates, Warren Clarke',\n",
       "   u'Awards': u'Nominated for 4 Oscars. Another 8 wins & 17 nominations.',\n",
       "   u'Country': u'UK, USA',\n",
       "   u'Director': u'Stanley Kubrick',\n",
       "   u'Genre': u'Crime, Drama, Sci-Fi',\n",
       "   u'Language': u'English',\n",
       "   u'Metascore': u'78',\n",
       "   u'Plot': u\"In future Britain, charismatic delinquent Alex DeLarge is jailed and volunteers for an experimental aversion therapy developed by the government in an effort to solve society's crime problem - but not all goes according to plan.\",\n",
       "   u'Poster': u'https://images-na.ssl-images-amazon.com/images/M/MV5BMTY3MjM1Mzc4N15BMl5BanBnXkFtZTgwODM0NzAxMDE@._V1_SX300.jpg',\n",
       "   u'Rated': u'R',\n",
       "   u'Released': u'02 Feb 1972',\n",
       "   u'Response': u'True',\n",
       "   u'Runtime': u'136 min',\n",
       "   u'Title': u'A Clockwork Orange',\n",
       "   u'Type': u'movie',\n",
       "   u'Writer': u'Stanley Kubrick (screenplay), Anthony Burgess (novel)',\n",
       "   u'Year': u'1971',\n",
       "   u'imdbID': u'tt0066921',\n",
       "   u'imdbRating': u'8.3',\n",
       "   u'imdbVotes': u'568,519'}),\n",
       " (79,\n",
       "  {u'Actors': u'Diahnne Abbott, Frank Adu, Victor Argo, Gino Ardito',\n",
       "   u'Awards': u'Nominated for 4 Oscars. Another 21 wins & 15 nominations.',\n",
       "   u'Country': u'USA',\n",
       "   u'Director': u'Martin Scorsese',\n",
       "   u'Genre': u'Crime, Drama',\n",
       "   u'Language': u'English, Spanish',\n",
       "   u'Metascore': u'93',\n",
       "   u'Plot': u'A mentally unstable Vietnam War veteran works as a night-time taxi driver in New York City where the perceived decadence and sleaze feeds his urge for violent action, attempting to save a preadolescent prostitute in the process.',\n",
       "   u'Poster': u'https://images-na.ssl-images-amazon.com/images/M/MV5BNGQxNDgzZWQtZTNjNi00M2RkLWExZmEtNmE1NjEyZDEwMzA5XkEyXkFqcGdeQXVyMTQxNzMzNDI@._V1_SX300.jpg',\n",
       "   u'Rated': u'R',\n",
       "   u'Released': u'08 Feb 1976',\n",
       "   u'Response': u'True',\n",
       "   u'Runtime': u'113 min',\n",
       "   u'Title': u'Taxi Driver',\n",
       "   u'Type': u'movie',\n",
       "   u'Writer': u'Paul Schrader',\n",
       "   u'Year': u'1976',\n",
       "   u'imdbID': u'tt0075314',\n",
       "   u'imdbRating': u'8.3',\n",
       "   u'imdbVotes': u'515,479'})]"
      ]
     },
     "execution_count": 109,
     "metadata": {},
     "output_type": "execute_result"
    }
   ],
   "source": [
    "movies_plus_json"
   ]
  },
  {
   "cell_type": "code",
   "execution_count": 14,
   "metadata": {
    "collapsed": false
   },
   "outputs": [
    {
     "name": "stdout",
     "output_type": "stream",
     "text": [
      "ranking is 70\n",
      "title is North by Northwest\n",
      "It has a genre Action\n",
      "It has a genre Adventure\n",
      "It has a genre Crime\n",
      "runtime in minutes is 136\n",
      "8.4\n",
      "223,945\n",
      "ranking is 71\n",
      "title is Vertigo\n",
      "It has a genre Mystery\n",
      "It has a genre Romance\n",
      "It has a genre Thriller\n",
      "runtime in minutes is 128\n",
      "8.4\n",
      "254,260\n",
      "ranking is 72\n",
      "title is Star Wars: Episode VI - Return of the Jedi\n",
      "It has a genre Action\n",
      "It has a genre Adventure\n",
      "It has a genre Fantasy\n",
      "runtime in minutes is 131\n",
      "8.4\n",
      "691,701\n",
      "ranking is 73\n"
     ]
    },
    {
     "ename": "KeyError",
     "evalue": "'Title'",
     "output_type": "error",
     "traceback": [
      "\u001b[0;31m---------------------------------------------------------------------------\u001b[0m",
      "\u001b[0;31mKeyError\u001b[0m                                  Traceback (most recent call last)",
      "\u001b[0;32m<ipython-input-14-6bfca5c7efc3>\u001b[0m in \u001b[0;36m<module>\u001b[0;34m()\u001b[0m\n\u001b[1;32m      1\u001b[0m \u001b[0;32mfor\u001b[0m \u001b[0mmovie\u001b[0m \u001b[0;32min\u001b[0m \u001b[0mmovies_plus_json\u001b[0m\u001b[0;34m:\u001b[0m\u001b[0;34m\u001b[0m\u001b[0m\n\u001b[1;32m      2\u001b[0m     \u001b[0;32mprint\u001b[0m \u001b[0;34m'ranking is '\u001b[0m \u001b[0;34m+\u001b[0m \u001b[0mstr\u001b[0m\u001b[0;34m(\u001b[0m\u001b[0mmovie\u001b[0m\u001b[0;34m[\u001b[0m\u001b[0;36m0\u001b[0m\u001b[0;34m]\u001b[0m\u001b[0;34m)\u001b[0m\u001b[0;34m\u001b[0m\u001b[0m\n\u001b[0;32m----> 3\u001b[0;31m     \u001b[0;32mprint\u001b[0m \u001b[0;34m'title is '\u001b[0m \u001b[0;34m+\u001b[0m \u001b[0mmovie\u001b[0m\u001b[0;34m[\u001b[0m\u001b[0;36m1\u001b[0m\u001b[0;34m]\u001b[0m\u001b[0;34m[\u001b[0m\u001b[0;34m'Title'\u001b[0m\u001b[0;34m]\u001b[0m\u001b[0;34m\u001b[0m\u001b[0m\n\u001b[0m\u001b[1;32m      4\u001b[0m     \u001b[0;32mfor\u001b[0m \u001b[0mgenre\u001b[0m \u001b[0;32min\u001b[0m \u001b[0mmovie\u001b[0m\u001b[0;34m[\u001b[0m\u001b[0;36m1\u001b[0m\u001b[0;34m]\u001b[0m\u001b[0;34m[\u001b[0m\u001b[0;34m'Genre'\u001b[0m\u001b[0;34m]\u001b[0m\u001b[0;34m.\u001b[0m\u001b[0msplit\u001b[0m\u001b[0;34m(\u001b[0m\u001b[0;34m','\u001b[0m\u001b[0;34m)\u001b[0m\u001b[0;34m:\u001b[0m\u001b[0;34m\u001b[0m\u001b[0m\n\u001b[1;32m      5\u001b[0m         \u001b[0;32mprint\u001b[0m \u001b[0;34m'It has a genre '\u001b[0m \u001b[0;34m+\u001b[0m \u001b[0mgenre\u001b[0m\u001b[0;34m.\u001b[0m\u001b[0mstrip\u001b[0m\u001b[0;34m(\u001b[0m\u001b[0;34m)\u001b[0m\u001b[0;34m\u001b[0m\u001b[0m\n",
      "\u001b[0;31mKeyError\u001b[0m: 'Title'"
     ]
    }
   ],
   "source": [
    "for movie in movies_plus_json:\n",
    "    print 'ranking is ' + str(movie[0])\n",
    "    print 'title is ' + movie[1]['Title']\n",
    "    for genre in movie[1]['Genre'].split(','):\n",
    "        print 'It has a genre ' + genre.strip()\n",
    "    print 'runtime in minutes is ' + movie[1]['Runtime'].replace(' min', '')\n",
    "    print movie[1]['imdbRating']\n",
    "    print movie[1]['imdbVotes']"
   ]
  },
  {
   "cell_type": "code",
   "execution_count": null,
   "metadata": {
    "collapsed": true
   },
   "outputs": [],
   "source": []
  },
  {
   "cell_type": "code",
   "execution_count": 24,
   "metadata": {
    "collapsed": false
   },
   "outputs": [],
   "source": [
    "#I didn't use this it was worthless\n",
    "from imdbpie import Imdb\n",
    "imdb = Imdb()\n",
    "imdb = Imdb(anonymize=True) # to proxy requests"
   ]
  },
  {
   "cell_type": "code",
   "execution_count": 114,
   "metadata": {
    "collapsed": false
   },
   "outputs": [],
   "source": [
    "movie = imdb.top_250()"
   ]
  },
  {
   "cell_type": "code",
   "execution_count": 113,
   "metadata": {
    "collapsed": false
   },
   "outputs": [
    {
     "data": {
      "text/plain": [
       "(73,\n",
       " {u'Error': u'Must provide more than one character.', u'Response': u'False'})"
      ]
     },
     "execution_count": 113,
     "metadata": {},
     "output_type": "execute_result"
    }
   ],
   "source": [
    "movie"
   ]
  },
  {
   "cell_type": "code",
   "execution_count": 37,
   "metadata": {
    "collapsed": false
   },
   "outputs": [
    {
     "data": {
      "text/plain": [
       "list"
      ]
     },
     "execution_count": 37,
     "metadata": {},
     "output_type": "execute_result"
    }
   ],
   "source": [
    "type(movie)"
   ]
  },
  {
   "cell_type": "code",
   "execution_count": 40,
   "metadata": {
    "collapsed": false
   },
   "outputs": [
    {
     "data": {
      "text/plain": [
       "dict"
      ]
     },
     "execution_count": 40,
     "metadata": {},
     "output_type": "execute_result"
    }
   ],
   "source": [
    "type(movie[0])"
   ]
  },
  {
   "cell_type": "code",
   "execution_count": 41,
   "metadata": {
    "collapsed": false
   },
   "outputs": [
    {
     "data": {
      "text/plain": [
       "u'The Shawshank Redemption'"
      ]
     },
     "execution_count": 41,
     "metadata": {},
     "output_type": "execute_result"
    }
   ],
   "source": [
    "movie[0]['title']"
   ]
  },
  {
   "cell_type": "code",
   "execution_count": 60,
   "metadata": {
    "collapsed": false
   },
   "outputs": [],
   "source": [
    "for i in range(0,249):\n",
    "    title.append(movie[i]['title']) \n",
    "    imdbVotes.append(movie[i]['num_votes'])\n",
    "    imdbRating.append(movie[i]['rating'])\n",
    "    imdbID.append(movie[i]['tconst'])\n",
    "    Type.append(movie[i]['type'])\n",
    "    Year.append(movie[i]['year'])\n",
    "    "
   ]
  },
  {
   "cell_type": "code",
   "execution_count": 61,
   "metadata": {
    "collapsed": false
   },
   "outputs": [
    {
     "name": "stdout",
     "output_type": "stream",
     "text": [
      "249\n",
      "249\n",
      "249\n",
      "249\n",
      "249\n",
      "249\n"
     ]
    }
   ],
   "source": [
    "print len(title) \n",
    "print len(imdbVotes)\n",
    "print len(imdbRating)\n",
    "print len(imdbID)\n",
    "print len(Type)\n",
    "print len(Year)\n",
    "\n"
   ]
  },
  {
   "cell_type": "code",
   "execution_count": null,
   "metadata": {
    "collapsed": false
   },
   "outputs": [],
   "source": []
  },
  {
   "cell_type": "code",
   "execution_count": null,
   "metadata": {
    "collapsed": true
   },
   "outputs": [],
   "source": [
    "Rank=[]\n",
    "Actors=[]\n",
    "Awards=[]\n",
    "Country=[]\n",
    "Director=[]\n",
    "Genre=[]\n",
    "Language=[]\n",
    "Metascore=[]\n",
    "Plot=[]\n",
    "Rated=[]\n",
    "Released=[]\n",
    "Response=[]\n",
    "Runtime=[]\n",
    "Title=[]\n",
    "Type=[]\n",
    "Writer=[]\n",
    "Year=[]\n",
    "imdbID=[]\n",
    "imdbRating=[]\n",
    "imdbVotes=[]\n",
    "canRank=[]"
   ]
  },
  {
   "cell_type": "code",
   "execution_count": 28,
   "metadata": {
    "collapsed": false
   },
   "outputs": [],
   "source": [
    "\n",
    "\n",
    "for item in movie:   \n",
    "    Title.append(movie[1]['title'])    \n",
    "#     Actors.append(movie[1]['Actors'])\n",
    "#     Awards.append(movie[1]['Awards'])\n",
    "#     Country.append(movie[1]['Country'])\n",
    "#     Director.append(movie[1]['Director'])\n",
    "    Genre.append(movie[1]['type'])\n",
    "#     Language.append(movie[1]['Language'])\n",
    "#     Metascore.append(movie[1]['Metascore'])\n",
    "#     Plot.append(movie[1]['Plot'])\n",
    "#     Rated.append(movie[1]['Rated'])\n",
    "#     Released.append(movie[1]['Released'])\n",
    "#     Response.append(movie[1]['Response'])\n",
    "#     Runtime.append(movie[1]['Runtime'])\n",
    "#     Title.append(movie[1]['Title'])\n",
    "#     Type.append(movie[1]['Type'])\n",
    "#     Writer.append(movie[1]['Writer'])\n",
    "    Year.append(movie[1]['year'])\n",
    "#    imdbID.append(movie[1]['imdbID'])\n",
    "    imdbRating.append(movie[1]['rating'])\n",
    "    imdbVotes.append(movie[1]['num_votes'])\n",
    "\n"
   ]
  },
  {
   "cell_type": "code",
   "execution_count": 146,
   "metadata": {
    "collapsed": false
   },
   "outputs": [],
   "source": [
    "#imdbRating\n"
   ]
  },
  {
   "cell_type": "code",
   "execution_count": 143,
   "metadata": {
    "collapsed": false
   },
   "outputs": [],
   "source": [
    "#list_of_movies"
   ]
  },
  {
   "cell_type": "code",
   "execution_count": 43,
   "metadata": {
    "collapsed": false
   },
   "outputs": [],
   "source": [
    "movies3_plus_json=[]\n",
    "\n",
    "\n",
    "for movie in list_of_movies[74:80]:\n",
    "    title = movie[1].replace(' ', '+')\n",
    "    url = 'http://www.omdbapi.com/?type=movie&t=' + title\n",
    "    r = requests.get(url)\n",
    "    movies3_plus_json.append((movie[0], r.json()))\n",
    "    time.sleep(1)"
   ]
  },
  {
   "cell_type": "code",
   "execution_count": 44,
   "metadata": {
    "collapsed": false
   },
   "outputs": [
    {
     "data": {
      "text/plain": [
       "[(74,\n",
       "  {u'Actors': u'Harvey Keitel, Tim Roth, Michael Madsen, Chris Penn',\n",
       "   u'Awards': u'9 wins & 15 nominations.',\n",
       "   u'Country': u'USA',\n",
       "   u'Director': u'Quentin Tarantino',\n",
       "   u'Genre': u'Crime, Drama, Thriller',\n",
       "   u'Language': u'English',\n",
       "   u'Metascore': u'78',\n",
       "   u'Plot': u'After a simple jewelry heist goes terribly wrong, the surviving criminals begin to suspect that one of them is a police informant.',\n",
       "   u'Poster': u'https://images-na.ssl-images-amazon.com/images/M/MV5BNjE5ZDJiZTQtOGE2YS00ZTc5LTk0OGUtOTg2NjdjZmVlYzE2XkEyXkFqcGdeQXVyMzM4MjM0Nzg@._V1_SX300.jpg',\n",
       "   u'Rated': u'R',\n",
       "   u'Released': u'02 Sep 1992',\n",
       "   u'Response': u'True',\n",
       "   u'Runtime': u'99 min',\n",
       "   u'Title': u'Reservoir Dogs',\n",
       "   u'Type': u'movie',\n",
       "   u'Writer': u'Quentin Tarantino, Roger Avary (background radio dialog), Quentin Tarantino (background radio dialog)',\n",
       "   u'Year': u'1992',\n",
       "   u'imdbID': u'tt0105236',\n",
       "   u'imdbRating': u'8.4',\n",
       "   u'imdbVotes': u'673,300'}),\n",
       " (75,\n",
       "  {u'Actors': u'James Robinson, Sean Lawlor, Sandy Nelson, James Cosmo',\n",
       "   u'Awards': u'Won 5 Oscars. Another 26 wins & 29 nominations.',\n",
       "   u'Country': u'USA',\n",
       "   u'Director': u'Mel Gibson',\n",
       "   u'Genre': u'Biography, Drama, History',\n",
       "   u'Language': u'English, French, Latin, Scottish Gaelic',\n",
       "   u'Metascore': u'68',\n",
       "   u'Plot': u'When his secret bride is executed for assaulting an English soldier who tried to rape her, William Wallace begins a revolt against King Edward I of England.',\n",
       "   u'Poster': u'https://images-na.ssl-images-amazon.com/images/M/MV5BNTMyNGE1ODQtYTNiNS00ZTUyLThhZjktMTgyOGZkZThlYTc3XkEyXkFqcGdeQXVyMTQxNzMzNDI@._V1_SX300.jpg',\n",
       "   u'Rated': u'R',\n",
       "   u'Released': u'24 May 1995',\n",
       "   u'Response': u'True',\n",
       "   u'Runtime': u'178 min',\n",
       "   u'Title': u'Braveheart',\n",
       "   u'Type': u'movie',\n",
       "   u'Writer': u'Randall Wallace',\n",
       "   u'Year': u'1995',\n",
       "   u'imdbID': u'tt0112573',\n",
       "   u'imdbRating': u'8.4',\n",
       "   u'imdbVotes': u'746,574'}),\n",
       " (76,\n",
       "  {u'Actors': u'Audrey Tautou, Mathieu Kassovitz, Rufus, Lorella Cravotta',\n",
       "   u'Awards': u'Nominated for 5 Oscars. Another 56 wins & 61 nominations.',\n",
       "   u'Country': u'France, Germany',\n",
       "   u'Director': u'Jean-Pierre Jeunet',\n",
       "   u'Genre': u'Comedy, Romance',\n",
       "   u'Language': u'French, Russian',\n",
       "   u'Metascore': u'69',\n",
       "   u'Plot': u'Am\\xe9lie is an innocent and naive girl in Paris with her own sense of justice. She decides to help those around her and, along the way, discovers love.',\n",
       "   u'Poster': u'https://images-na.ssl-images-amazon.com/images/M/MV5BMTA3MjVkMWMtYTQ4ZC00ODczLWFjYmQtMDFkZDQ2Y2M0NDVmXkEyXkFqcGdeQXVyMTQxNzMzNDI@._V1_SX300.jpg',\n",
       "   u'Rated': u'R',\n",
       "   u'Released': u'08 Feb 2002',\n",
       "   u'Response': u'True',\n",
       "   u'Runtime': u'122 min',\n",
       "   u'Title': u'Am\\xe9lie',\n",
       "   u'Type': u'movie',\n",
       "   u'Writer': u'Guillaume Laurant (scenario), Jean-Pierre Jeunet (scenario), Guillaume Laurant (dialogue)',\n",
       "   u'Year': u'2001',\n",
       "   u'imdbID': u'tt0211915',\n",
       "   u'imdbRating': u'8.4',\n",
       "   u'imdbVotes': u'544,458'}),\n",
       " (77,\n",
       "  {u'Actors': u'Ellen Burstyn, Jared Leto, Jennifer Connelly, Marlon Wayans',\n",
       "   u'Awards': u'Nominated for 1 Oscar. Another 32 wins & 61 nominations.',\n",
       "   u'Country': u'USA',\n",
       "   u'Director': u'Darren Aronofsky',\n",
       "   u'Genre': u'Drama',\n",
       "   u'Language': u'English',\n",
       "   u'Metascore': u'68',\n",
       "   u'Plot': u'The drug-induced utopias of four Coney Island people are shattered when their addictions run deep.',\n",
       "   u'Poster': u'https://images-na.ssl-images-amazon.com/images/M/MV5BMTkzODMzODYwOF5BMl5BanBnXkFtZTcwODM2NjA2NQ@@._V1_SX300.jpg',\n",
       "   u'Rated': u'R',\n",
       "   u'Released': u'15 Dec 2000',\n",
       "   u'Response': u'True',\n",
       "   u'Runtime': u'102 min',\n",
       "   u'Title': u'Requiem for a Dream',\n",
       "   u'Type': u'movie',\n",
       "   u'Writer': u'Hubert Selby Jr. (based on the book by), Hubert Selby Jr. (screenplay), Darren Aronofsky (screenplay)',\n",
       "   u'Year': u'2000',\n",
       "   u'imdbID': u'tt0180093',\n",
       "   u'imdbRating': u'8.4',\n",
       "   u'imdbVotes': u'580,879'}),\n",
       " (78, {u'Error': u'Movie not found!', u'Response': u'False'}),\n",
       " (79, {u'Error': u'Movie not found!', u'Response': u'False'})]"
      ]
     },
     "execution_count": 44,
     "metadata": {},
     "output_type": "execute_result"
    }
   ],
   "source": [
    "movies3_plus_json"
   ]
  },
  {
   "cell_type": "code",
   "execution_count": 147,
   "metadata": {
    "collapsed": true
   },
   "outputs": [],
   "source": [
    "#lists to collect data\n",
    "Rank=[]\n",
    "Actors=[]\n",
    "Awards=[]\n",
    "Country=[]\n",
    "Director=[]\n",
    "Genre=[]\n",
    "Language=[]\n",
    "Metascore=[]\n",
    "Plot=[]\n",
    "Rated=[]\n",
    "Released=[]\n",
    "Response=[]\n",
    "Runtime=[]\n",
    "Title=[]\n",
    "Type=[]\n",
    "Writer=[]\n",
    "Year=[]\n",
    "imdbID=[]\n",
    "imdbRating=[]\n",
    "imdbVotes=[]\n",
    "canRank=[]\n",
    "\n"
   ]
  },
  {
   "cell_type": "code",
   "execution_count": 45,
   "metadata": {
    "collapsed": false
   },
   "outputs": [],
   "source": [
    "for movie in movies3_plus_json:  \n",
    "   if movie[0] == 103 or movie[0] == 188 or movie[0] == 237:\n",
    "      print 'stop'\n",
    "      continue\n",
    "  \n"
   ]
  },
  {
   "cell_type": "code",
   "execution_count": 54,
   "metadata": {
    "collapsed": false
   },
   "outputs": [
    {
     "ename": "TypeError",
     "evalue": "list indices must be integers, not str",
     "output_type": "error",
     "traceback": [
      "\u001b[0;31m---------------------------------------------------------------------------\u001b[0m",
      "\u001b[0;31mTypeError\u001b[0m                                 Traceback (most recent call last)",
      "\u001b[0;32m<ipython-input-54-da396e4bc246>\u001b[0m in \u001b[0;36m<module>\u001b[0;34m()\u001b[0m\n\u001b[0;32m----> 1\u001b[0;31m \u001b[0mmovies3_plus_json\u001b[0m\u001b[0;34m[\u001b[0m\u001b[0;34m[\u001b[0m\u001b[0;36m1\u001b[0m\u001b[0;34m]\u001b[0m\u001b[0;34m[\u001b[0m\u001b[0;34m'title'\u001b[0m\u001b[0;34m]\u001b[0m\u001b[0;34m]\u001b[0m\u001b[0;34m\u001b[0m\u001b[0m\n\u001b[0m",
      "\u001b[0;31mTypeError\u001b[0m: list indices must be integers, not str"
     ]
    }
   ],
   "source": []
  },
  {
   "cell_type": "code",
   "execution_count": 58,
   "metadata": {
    "collapsed": false
   },
   "outputs": [
    {
     "ename": "IndexError",
     "evalue": "invalid index to scalar variable.",
     "output_type": "error",
     "traceback": [
      "\u001b[0;31m---------------------------------------------------------------------------\u001b[0m",
      "\u001b[0;31mIndexError\u001b[0m                                Traceback (most recent call last)",
      "\u001b[0;32m<ipython-input-58-8147a741cedf>\u001b[0m in \u001b[0;36m<module>\u001b[0;34m()\u001b[0m\n\u001b[1;32m      2\u001b[0m \u001b[0;34m\u001b[0m\u001b[0m\n\u001b[1;32m      3\u001b[0m \u001b[0;34m\u001b[0m\u001b[0m\n\u001b[0;32m----> 4\u001b[0;31m     \u001b[0mRank\u001b[0m\u001b[0;34m.\u001b[0m\u001b[0mappend\u001b[0m\u001b[0;34m(\u001b[0m\u001b[0mmovie\u001b[0m\u001b[0;34m[\u001b[0m\u001b[0;36m0\u001b[0m\u001b[0;34m]\u001b[0m\u001b[0;34m)\u001b[0m\u001b[0;34m\u001b[0m\u001b[0m\n\u001b[0m\u001b[1;32m      5\u001b[0m     \u001b[0mActors\u001b[0m\u001b[0;34m.\u001b[0m\u001b[0mappend\u001b[0m\u001b[0;34m(\u001b[0m\u001b[0mmovie\u001b[0m\u001b[0;34m[\u001b[0m\u001b[0;36m1\u001b[0m\u001b[0;34m]\u001b[0m\u001b[0;34m[\u001b[0m\u001b[0;34m'Actors'\u001b[0m\u001b[0;34m]\u001b[0m\u001b[0;34m)\u001b[0m\u001b[0;34m\u001b[0m\u001b[0m\n\u001b[1;32m      6\u001b[0m     \u001b[0mAwards\u001b[0m\u001b[0;34m.\u001b[0m\u001b[0mappend\u001b[0m\u001b[0;34m(\u001b[0m\u001b[0mmovie\u001b[0m\u001b[0;34m[\u001b[0m\u001b[0;36m1\u001b[0m\u001b[0;34m]\u001b[0m\u001b[0;34m[\u001b[0m\u001b[0;34m'Awards'\u001b[0m\u001b[0;34m]\u001b[0m\u001b[0;34m)\u001b[0m\u001b[0;34m\u001b[0m\u001b[0m\n",
      "\u001b[0;31mIndexError\u001b[0m: invalid index to scalar variable."
     ]
    }
   ],
   "source": [
    "for movie in pd.DataFrame(movies_plus_json):\n",
    "   \n",
    "    \n",
    "    Rank.append(movie[0])   \n",
    "    Actors.append(movie[1]['Actors'])\n",
    "    Awards.append(movie[1]['Awards'])\n",
    "    Country.append(movie[1]['Country'])\n",
    "    Director.append(movie[1]['Director'])\n",
    "    Genre.append(movie[1]['Genre'])\n",
    "    Language.append(movie[1]['Language'])\n",
    "    Metascore.append(movie[1]['Metascore'])\n",
    "    Plot.append(movie[1]['Plot'])\n",
    "    Rated.append(movie[1]['Rated'])\n",
    "    Released.append(movie[1]['Released'])\n",
    "    Response.append(movie[1]['Response'])\n",
    "    Runtime.append(movie[1]['Runtime'])\n",
    "    Title.append(movie[1]['Title'])\n",
    "    Type.append(movie[1]['Type'])\n",
    "    Writer.append(movie[1]['Writer'])\n",
    "    Year.append(movie[1]['Year'])\n",
    "    imdbID.append(movie[1]['imdbID'])\n",
    "    imdbRating.append(movie[1]['imdbRating'])\n",
    "    imdbVotes.append(movie[1]['imdbVotes'])\n"
   ]
  },
  {
   "cell_type": "code",
   "execution_count": 59,
   "metadata": {
    "collapsed": false
   },
   "outputs": [
    {
     "data": {
      "text/html": [
       "<div>\n",
       "<table border=\"1\" class=\"dataframe\">\n",
       "  <thead>\n",
       "    <tr style=\"text-align: right;\">\n",
       "      <th></th>\n",
       "      <th>0</th>\n",
       "      <th>1</th>\n",
       "    </tr>\n",
       "  </thead>\n",
       "  <tbody>\n",
       "    <tr>\n",
       "      <th>0</th>\n",
       "      <td>70</td>\n",
       "      <td>{u'Plot': u'A hapless New York advertising exe...</td>\n",
       "    </tr>\n",
       "    <tr>\n",
       "      <th>1</th>\n",
       "      <td>71</td>\n",
       "      <td>{u'Plot': u'A San Francisco detective sufferin...</td>\n",
       "    </tr>\n",
       "    <tr>\n",
       "      <th>2</th>\n",
       "      <td>72</td>\n",
       "      <td>{u'Plot': u'After rescuing Han Solo from the p...</td>\n",
       "    </tr>\n",
       "    <tr>\n",
       "      <th>3</th>\n",
       "      <td>73</td>\n",
       "      <td>{u'Response': u'False', u'Error': u'Must provi...</td>\n",
       "    </tr>\n",
       "    <tr>\n",
       "      <th>4</th>\n",
       "      <td>74</td>\n",
       "      <td>{u'Plot': u'After a simple jewelry heist goes ...</td>\n",
       "    </tr>\n",
       "    <tr>\n",
       "      <th>5</th>\n",
       "      <td>75</td>\n",
       "      <td>{u'Plot': u'When his secret bride is executed ...</td>\n",
       "    </tr>\n",
       "    <tr>\n",
       "      <th>6</th>\n",
       "      <td>76</td>\n",
       "      <td>{u'Plot': u'Amélie is an innocent and naive gi...</td>\n",
       "    </tr>\n",
       "    <tr>\n",
       "      <th>7</th>\n",
       "      <td>77</td>\n",
       "      <td>{u'Plot': u'The drug-induced utopias of four C...</td>\n",
       "    </tr>\n",
       "    <tr>\n",
       "      <th>8</th>\n",
       "      <td>78</td>\n",
       "      <td>{u'Response': u'False', u'Error': u'Movie not ...</td>\n",
       "    </tr>\n",
       "    <tr>\n",
       "      <th>9</th>\n",
       "      <td>79</td>\n",
       "      <td>{u'Response': u'False', u'Error': u'Movie not ...</td>\n",
       "    </tr>\n",
       "  </tbody>\n",
       "</table>\n",
       "</div>"
      ],
      "text/plain": [
       "    0                                                  1\n",
       "0  70  {u'Plot': u'A hapless New York advertising exe...\n",
       "1  71  {u'Plot': u'A San Francisco detective sufferin...\n",
       "2  72  {u'Plot': u'After rescuing Han Solo from the p...\n",
       "3  73  {u'Response': u'False', u'Error': u'Must provi...\n",
       "4  74  {u'Plot': u'After a simple jewelry heist goes ...\n",
       "5  75  {u'Plot': u'When his secret bride is executed ...\n",
       "6  76  {u'Plot': u'Amélie is an innocent and naive gi...\n",
       "7  77  {u'Plot': u'The drug-induced utopias of four C...\n",
       "8  78  {u'Response': u'False', u'Error': u'Movie not ...\n",
       "9  79  {u'Response': u'False', u'Error': u'Movie not ..."
      ]
     },
     "execution_count": 59,
     "metadata": {},
     "output_type": "execute_result"
    }
   ],
   "source": [
    "pd.DataFrame(movies_plus_json)"
   ]
  },
  {
   "cell_type": "code",
   "execution_count": 181,
   "metadata": {
    "collapsed": true
   },
   "outputs": [],
   "source": [
    "dictMovies2={'Ranking':Rank,\n",
    "     'Actors':Actors,\n",
    "     'Awards':Awards,\n",
    "     'Country':Country,\n",
    "     'Director':Director,\n",
    "     'Genre':Genre,\n",
    "     'Language':Language,\n",
    "     'Metascore':Metascore,\n",
    "     'Plot':Plot,\n",
    "     'Rated':Rated,\n",
    "     'Released':Released,\n",
    "     'Response':Response,\n",
    "     'Runtime':Runtime,\n",
    "     'Title':Title,\n",
    "     'Type':Type,\n",
    "     'Writer':Writer,\n",
    "     'Year':Year,\n",
    "     'imdbID':imdbID,\n",
    "     'imdbRating':imdbRating,\n",
    "     'imdbVotes':imdbVotes}\n",
    "movieData=pd.DataFrame(dictMovies2)"
   ]
  },
  {
   "cell_type": "code",
   "execution_count": 15,
   "metadata": {
    "collapsed": false
   },
   "outputs": [
    {
     "ename": "NameError",
     "evalue": "name 'movieData' is not defined",
     "output_type": "error",
     "traceback": [
      "\u001b[0;31m---------------------------------------------------------------------------\u001b[0m",
      "\u001b[0;31mNameError\u001b[0m                                 Traceback (most recent call last)",
      "\u001b[0;32m<ipython-input-15-24a5651302d0>\u001b[0m in \u001b[0;36m<module>\u001b[0;34m()\u001b[0m\n\u001b[0;32m----> 1\u001b[0;31m \u001b[0mlen\u001b[0m\u001b[0;34m(\u001b[0m\u001b[0mmovieData\u001b[0m\u001b[0;34m)\u001b[0m\u001b[0;34m\u001b[0m\u001b[0m\n\u001b[0m",
      "\u001b[0;31mNameError\u001b[0m: name 'movieData' is not defined"
     ]
    }
   ],
   "source": [
    "len(movieData)"
   ]
  },
  {
   "cell_type": "code",
   "execution_count": 141,
   "metadata": {
    "collapsed": false
   },
   "outputs": [
    {
     "name": "stdout",
     "output_type": "stream",
     "text": [
      "0\n",
      "The Shawshank Redemption\n",
      "Crime, Drama\n",
      "142\n",
      "\n",
      "\n",
      "1\n",
      "The Godfather\n",
      "Crime, Drama\n",
      "175\n",
      "\n",
      "\n",
      "2\n",
      "The Godfather: Part II\n",
      "Crime, Drama\n",
      "202\n",
      "\n",
      "\n",
      "3\n",
      "The Dark Knight\n",
      "Action, Crime, Drama\n",
      "152\n",
      "\n",
      "\n",
      "4\n",
      "12 Angry Men\n",
      "Crime, Drama\n",
      "96\n",
      "\n",
      "\n",
      "5\n",
      "Schindler's List\n",
      "Biography, Drama, History\n",
      "195\n",
      "\n",
      "\n",
      "6\n",
      "Pulp Fiction\n",
      "Crime, Drama\n",
      "154\n",
      "\n",
      "\n",
      "7\n",
      "The Lord of the Rings: The Return of the King\n",
      "Action, Adventure, Drama\n",
      "201\n",
      "\n",
      "\n",
      "8\n",
      "The Good, the Bad and the Ugly\n",
      "Western\n",
      "161\n",
      "\n",
      "\n",
      "9\n",
      "Fight Club\n",
      "Drama\n",
      "139\n",
      "\n",
      "\n",
      "10\n",
      "The Lord of the Rings: The Fellowship of the Ring\n",
      "Action, Adventure, Drama\n",
      "178\n",
      "\n",
      "\n",
      "11\n",
      "Star Wars: Episode V - The Empire Strikes Back\n",
      "Action, Adventure, Fantasy\n",
      "124\n",
      "\n",
      "\n",
      "12\n",
      "Forrest Gump\n",
      "Comedy, Drama\n",
      "142\n",
      "\n",
      "\n",
      "13\n",
      "Inception\n",
      "Action, Adventure, Sci-Fi\n",
      "148\n",
      "\n",
      "\n",
      "14\n",
      "The Lord of the Rings: The Two Towers\n",
      "Adventure, Drama, Fantasy\n",
      "179\n",
      "\n",
      "\n",
      "15\n",
      "One Flew Over the Cuckoo's Nest\n",
      "Drama\n",
      "133\n",
      "\n",
      "\n",
      "16\n",
      "Goodfellas\n",
      "Biography, Crime, Drama\n",
      "146\n",
      "\n",
      "\n",
      "17\n",
      "The Matrix\n",
      "Action, Sci-Fi\n",
      "136\n",
      "\n",
      "\n",
      "18\n",
      "Seven Samurai\n",
      "Action, Adventure, Drama\n",
      "207\n",
      "\n",
      "\n",
      "19\n",
      "Star Wars: Episode IV - A New Hope\n",
      "Action, Adventure, Fantasy\n",
      "121\n",
      "\n",
      "\n",
      "20\n",
      "City of God\n",
      "Crime, Drama\n",
      "130\n",
      "\n",
      "\n",
      "21\n",
      "Se7en\n",
      "Crime, Drama, Mystery\n",
      "127\n",
      "\n",
      "\n",
      "22\n",
      "The Silence of the Lambs\n",
      "Crime, Drama, Thriller\n",
      "118\n",
      "\n",
      "\n",
      "23\n",
      "It's a Wonderful Life\n",
      "Drama, Family, Fantasy\n",
      "130\n",
      "\n",
      "\n",
      "24\n",
      "The Usual Suspects\n",
      "Crime, Drama, Mystery\n",
      "106\n",
      "\n",
      "\n",
      "25\n",
      "Life Is Beautiful\n",
      "Comedy, Drama, War\n",
      "116\n",
      "\n",
      "\n",
      "26\n",
      "Léon: The Professional\n",
      "Crime, Drama, Thriller\n",
      "110\n",
      "\n",
      "\n",
      "27\n",
      "Spirited Away\n",
      "Animation, Adventure, Family\n",
      "125\n",
      "\n",
      "\n",
      "28\n",
      "Saving Private Ryan\n",
      "Action, Drama, War\n",
      "169\n",
      "\n",
      "\n",
      "29\n",
      "Once Upon a Time in the West\n",
      "Western\n",
      "175\n",
      "\n",
      "\n",
      "30\n",
      "American History X\n",
      "Crime, Drama\n",
      "119\n",
      "\n",
      "\n",
      "31\n",
      "Interstellar\n",
      "Adventure, Drama, Sci-Fi\n",
      "169\n",
      "\n",
      "\n",
      "32\n",
      "Casablanca\n",
      "Drama, Romance, War\n",
      "102\n",
      "\n",
      "\n",
      "33\n",
      "Psycho\n",
      "Horror, Mystery, Thriller\n",
      "109\n",
      "\n",
      "\n",
      "34\n",
      "City Lights\n",
      "Comedy, Drama, Romance\n",
      "87\n",
      "\n",
      "\n",
      "35\n",
      "Raiders of the Lost Ark\n",
      "Action, Adventure\n",
      "115\n",
      "\n",
      "\n",
      "36\n",
      "The Green Mile\n",
      "Crime, Drama, Fantasy\n",
      "189\n",
      "\n",
      "\n",
      "37\n",
      "The Intouchables\n",
      "Biography, Comedy, Drama\n",
      "112\n",
      "\n",
      "\n",
      "38\n",
      "Modern Times\n",
      "Comedy, Drama, Family\n",
      "87\n",
      "\n",
      "\n",
      "39\n",
      "Rear Window\n",
      "Mystery, Thriller\n",
      "112\n",
      "\n",
      "\n",
      "40\n",
      "Terminator 2: Judgment Day\n",
      "Action, Sci-Fi, Thriller\n",
      "137\n",
      "\n",
      "\n",
      "41\n",
      "The Departed\n",
      "Crime, Drama, Thriller\n",
      "151\n",
      "\n",
      "\n",
      "42\n",
      "The Pianist\n",
      "Biography, Drama, War\n",
      "150\n",
      "\n",
      "\n",
      "43\n",
      "Back to the Future\n",
      "Adventure, Comedy, Sci-Fi\n",
      "116\n",
      "\n",
      "\n",
      "44\n",
      "Whiplash\n",
      "Drama, Music\n",
      "107\n",
      "\n",
      "\n",
      "45\n",
      "Gladiator\n",
      "Action, Adventure, Drama\n",
      "155\n",
      "\n",
      "\n",
      "46\n",
      "Memento\n",
      "Mystery, Thriller\n",
      "113\n",
      "\n",
      "\n",
      "47\n",
      "Apocalypse Now\n",
      "Drama, War\n",
      "153\n",
      "\n",
      "\n",
      "48\n",
      "The Prestige\n",
      "Drama, Mystery, Sci-Fi\n",
      "130\n",
      "\n",
      "\n",
      "49\n",
      "The Lion King\n",
      "Animation, Adventure, Drama\n",
      "89\n",
      "\n",
      "\n"
     ]
    }
   ],
   "source": [
    "# for movie in movies2_plus_json:\n",
    "#     movieName=str(movie[0])\n",
    "#     print movieName      \n",
    "#     movieTitle=movie[1]['Title']   \n",
    "#     print movieTitle\n",
    "#     movieGenre=movie[1]['Genre']\n",
    "#     print movieGenre\n",
    "#     movieRuntime=movie[1]['Runtime'].replace(' min', '')\n",
    "#     print movieRuntime\n",
    "#     print '\\n'"
   ]
  },
  {
   "cell_type": "code",
   "execution_count": 184,
   "metadata": {
    "collapsed": false
   },
   "outputs": [],
   "source": [
    "movieData.to_csv('movieData.csv', encoding='utf-8')"
   ]
  },
  {
   "cell_type": "code",
   "execution_count": null,
   "metadata": {
    "collapsed": true
   },
   "outputs": [],
   "source": []
  },
  {
   "cell_type": "code",
   "execution_count": null,
   "metadata": {
    "collapsed": true
   },
   "outputs": [],
   "source": [
    "#lets get some crummy films"
   ]
  },
  {
   "cell_type": "code",
   "execution_count": 16,
   "metadata": {
    "collapsed": true
   },
   "outputs": [],
   "source": [
    "soup2 = BeautifulSoup(urllib2.urlopen('http://www.imdb.com/chart/bottom').read())"
   ]
  },
  {
   "cell_type": "code",
   "execution_count": 17,
   "metadata": {
    "collapsed": true
   },
   "outputs": [],
   "source": [
    "list_of_movies2 = []\n",
    "counter = 0 \n",
    "\n",
    "for title in soup2('td', {'class' : 'titleColumn'}):\n",
    "    for actual_title in title('a'):\n",
    "        list_of_movies2.append((counter, actual_title.text))\n",
    "        counter += 1\n"
   ]
  },
  {
   "cell_type": "code",
   "execution_count": 21,
   "metadata": {
    "collapsed": false
   },
   "outputs": [
    {
     "name": "stdout",
     "output_type": "stream",
     "text": [
      "(90, u'Devil Fish')\n",
      "(91, u'Survival Island')\n",
      "(92, u'Theodore Rex')\n",
      "(93, u'Time Chasers')\n",
      "(94, u\"It's Pat\")\n",
      "(95, u'Warrior of the Lost World')\n",
      "(96, u'Troll 2')\n",
      "(97, u'The Bat People')\n",
      "(98, u'Date Movie')\n",
      "(99, u\"Ghosts Can't Do It\")\n"
     ]
    }
   ],
   "source": [
    "for movie in list_of_movies2[90:100]:\n",
    "    print movie"
   ]
  },
  {
   "cell_type": "code",
   "execution_count": null,
   "metadata": {
    "collapsed": true
   },
   "outputs": [],
   "source": []
  },
  {
   "cell_type": "code",
   "execution_count": 25,
   "metadata": {
    "collapsed": false
   },
   "outputs": [
    {
     "name": "stdout",
     "output_type": "stream",
     "text": [
      "next set\n",
      "next set\n",
      "next set\n",
      "next set\n",
      "next set\n",
      "next set\n",
      "next set\n",
      "next set\n",
      "next set\n",
      "next set\n"
     ]
    }
   ],
   "source": [
    "movies_plus_json2 = []\n",
    "\n",
    "for movie in list_of_movies2[0:10]:\n",
    "    title = movie[1].replace(' ', '+')\n",
    "    url = 'http://www.omdbapi.com/?type=movie&t=' + title\n",
    "    r = requests.get(url)\n",
    "    movies_plus_json2.append((movie[0], r.json()))\n",
    "    print 'next set'\n",
    "    time.sleep(1)"
   ]
  },
  {
   "cell_type": "code",
   "execution_count": 24,
   "metadata": {
    "collapsed": false
   },
   "outputs": [
    {
     "name": "stdout",
     "output_type": "stream",
     "text": [
      "next set\n",
      "next set\n",
      "next set\n",
      "next set\n",
      "next set\n",
      "next set\n",
      "next set\n",
      "next set\n",
      "next set\n",
      "next set\n",
      "next set\n",
      "next set\n",
      "next set\n",
      "next set\n",
      "next set\n",
      "next set\n",
      "next set\n",
      "next set\n",
      "next set\n"
     ]
    }
   ],
   "source": [
    "movies_plus_json3 = []\n",
    "\n",
    "for movie in list_of_movies2[11:30]:\n",
    "    title = movie[1].replace(' ', '+')\n",
    "    url = 'http://www.omdbapi.com/?type=movie&t=' + title\n",
    "    r = requests.get(url)\n",
    "    movies_plus_json2.append((movie[0], r.json()))\n",
    "    print 'next set'\n",
    "    time.sleep(1)"
   ]
  },
  {
   "cell_type": "code",
   "execution_count": 23,
   "metadata": {
    "collapsed": false
   },
   "outputs": [
    {
     "data": {
      "text/plain": [
       "12"
      ]
     },
     "execution_count": 23,
     "metadata": {},
     "output_type": "execute_result"
    }
   ],
   "source": [
    "len(movies_plus_json2)\n",
    "len(movies_plus_json3)"
   ]
  },
  {
   "cell_type": "code",
   "execution_count": 26,
   "metadata": {
    "collapsed": false
   },
   "outputs": [
    {
     "name": "stdout",
     "output_type": "stream",
     "text": [
      "next set\n",
      "next set\n",
      "next set\n",
      "next set\n",
      "next set\n",
      "next set\n",
      "next set\n",
      "next set\n",
      "next set\n",
      "next set\n",
      "next set\n",
      "next set\n",
      "next set\n",
      "next set\n",
      "next set\n"
     ]
    },
    {
     "ename": "ValueError",
     "evalue": "No JSON object could be decoded",
     "output_type": "error",
     "traceback": [
      "\u001b[0;31m---------------------------------------------------------------------------\u001b[0m",
      "\u001b[0;31mValueError\u001b[0m                                Traceback (most recent call last)",
      "\u001b[0;32m<ipython-input-26-e3dfcfcfa456>\u001b[0m in \u001b[0;36m<module>\u001b[0;34m()\u001b[0m\n\u001b[1;32m      5\u001b[0m     \u001b[0murl\u001b[0m \u001b[0;34m=\u001b[0m \u001b[0;34m'http://www.omdbapi.com/?type=movie&t='\u001b[0m \u001b[0;34m+\u001b[0m \u001b[0mtitle\u001b[0m\u001b[0;34m\u001b[0m\u001b[0m\n\u001b[1;32m      6\u001b[0m     \u001b[0mr\u001b[0m \u001b[0;34m=\u001b[0m \u001b[0mrequests\u001b[0m\u001b[0;34m.\u001b[0m\u001b[0mget\u001b[0m\u001b[0;34m(\u001b[0m\u001b[0murl\u001b[0m\u001b[0;34m)\u001b[0m\u001b[0;34m\u001b[0m\u001b[0m\n\u001b[0;32m----> 7\u001b[0;31m     \u001b[0mmovies_plus_json2\u001b[0m\u001b[0;34m.\u001b[0m\u001b[0mappend\u001b[0m\u001b[0;34m(\u001b[0m\u001b[0;34m(\u001b[0m\u001b[0mmovie\u001b[0m\u001b[0;34m[\u001b[0m\u001b[0;36m0\u001b[0m\u001b[0;34m]\u001b[0m\u001b[0;34m,\u001b[0m \u001b[0mr\u001b[0m\u001b[0;34m.\u001b[0m\u001b[0mjson\u001b[0m\u001b[0;34m(\u001b[0m\u001b[0;34m)\u001b[0m\u001b[0;34m)\u001b[0m\u001b[0;34m)\u001b[0m\u001b[0;34m\u001b[0m\u001b[0m\n\u001b[0m\u001b[1;32m      8\u001b[0m     \u001b[0;32mprint\u001b[0m \u001b[0;34m'next set'\u001b[0m\u001b[0;34m\u001b[0m\u001b[0m\n\u001b[1;32m      9\u001b[0m     \u001b[0mtime\u001b[0m\u001b[0;34m.\u001b[0m\u001b[0msleep\u001b[0m\u001b[0;34m(\u001b[0m\u001b[0;36m1\u001b[0m\u001b[0;34m)\u001b[0m\u001b[0;34m\u001b[0m\u001b[0m\n",
      "\u001b[0;32m//anaconda/lib/python2.7/site-packages/requests/models.pyc\u001b[0m in \u001b[0;36mjson\u001b[0;34m(self, **kwargs)\u001b[0m\n\u001b[1;32m    810\u001b[0m                     \u001b[0;31m# used.\u001b[0m\u001b[0;34m\u001b[0m\u001b[0;34m\u001b[0m\u001b[0m\n\u001b[1;32m    811\u001b[0m                     \u001b[0;32mpass\u001b[0m\u001b[0;34m\u001b[0m\u001b[0m\n\u001b[0;32m--> 812\u001b[0;31m         \u001b[0;32mreturn\u001b[0m \u001b[0mcomplexjson\u001b[0m\u001b[0;34m.\u001b[0m\u001b[0mloads\u001b[0m\u001b[0;34m(\u001b[0m\u001b[0mself\u001b[0m\u001b[0;34m.\u001b[0m\u001b[0mtext\u001b[0m\u001b[0;34m,\u001b[0m \u001b[0;34m**\u001b[0m\u001b[0mkwargs\u001b[0m\u001b[0;34m)\u001b[0m\u001b[0;34m\u001b[0m\u001b[0m\n\u001b[0m\u001b[1;32m    813\u001b[0m \u001b[0;34m\u001b[0m\u001b[0m\n\u001b[1;32m    814\u001b[0m     \u001b[0;34m@\u001b[0m\u001b[0mproperty\u001b[0m\u001b[0;34m\u001b[0m\u001b[0m\n",
      "\u001b[0;32m//anaconda/lib/python2.7/json/__init__.pyc\u001b[0m in \u001b[0;36mloads\u001b[0;34m(s, encoding, cls, object_hook, parse_float, parse_int, parse_constant, object_pairs_hook, **kw)\u001b[0m\n\u001b[1;32m    337\u001b[0m             \u001b[0mparse_int\u001b[0m \u001b[0;32mis\u001b[0m \u001b[0mNone\u001b[0m \u001b[0;32mand\u001b[0m \u001b[0mparse_float\u001b[0m \u001b[0;32mis\u001b[0m \u001b[0mNone\u001b[0m \u001b[0;32mand\u001b[0m\u001b[0;34m\u001b[0m\u001b[0m\n\u001b[1;32m    338\u001b[0m             parse_constant is None and object_pairs_hook is None and not kw):\n\u001b[0;32m--> 339\u001b[0;31m         \u001b[0;32mreturn\u001b[0m \u001b[0m_default_decoder\u001b[0m\u001b[0;34m.\u001b[0m\u001b[0mdecode\u001b[0m\u001b[0;34m(\u001b[0m\u001b[0ms\u001b[0m\u001b[0;34m)\u001b[0m\u001b[0;34m\u001b[0m\u001b[0m\n\u001b[0m\u001b[1;32m    340\u001b[0m     \u001b[0;32mif\u001b[0m \u001b[0mcls\u001b[0m \u001b[0;32mis\u001b[0m \u001b[0mNone\u001b[0m\u001b[0;34m:\u001b[0m\u001b[0;34m\u001b[0m\u001b[0m\n\u001b[1;32m    341\u001b[0m         \u001b[0mcls\u001b[0m \u001b[0;34m=\u001b[0m \u001b[0mJSONDecoder\u001b[0m\u001b[0;34m\u001b[0m\u001b[0m\n",
      "\u001b[0;32m//anaconda/lib/python2.7/json/decoder.pyc\u001b[0m in \u001b[0;36mdecode\u001b[0;34m(self, s, _w)\u001b[0m\n\u001b[1;32m    362\u001b[0m \u001b[0;34m\u001b[0m\u001b[0m\n\u001b[1;32m    363\u001b[0m         \"\"\"\n\u001b[0;32m--> 364\u001b[0;31m         \u001b[0mobj\u001b[0m\u001b[0;34m,\u001b[0m \u001b[0mend\u001b[0m \u001b[0;34m=\u001b[0m \u001b[0mself\u001b[0m\u001b[0;34m.\u001b[0m\u001b[0mraw_decode\u001b[0m\u001b[0;34m(\u001b[0m\u001b[0ms\u001b[0m\u001b[0;34m,\u001b[0m \u001b[0midx\u001b[0m\u001b[0;34m=\u001b[0m\u001b[0m_w\u001b[0m\u001b[0;34m(\u001b[0m\u001b[0ms\u001b[0m\u001b[0;34m,\u001b[0m \u001b[0;36m0\u001b[0m\u001b[0;34m)\u001b[0m\u001b[0;34m.\u001b[0m\u001b[0mend\u001b[0m\u001b[0;34m(\u001b[0m\u001b[0;34m)\u001b[0m\u001b[0;34m)\u001b[0m\u001b[0;34m\u001b[0m\u001b[0m\n\u001b[0m\u001b[1;32m    365\u001b[0m         \u001b[0mend\u001b[0m \u001b[0;34m=\u001b[0m \u001b[0m_w\u001b[0m\u001b[0;34m(\u001b[0m\u001b[0ms\u001b[0m\u001b[0;34m,\u001b[0m \u001b[0mend\u001b[0m\u001b[0;34m)\u001b[0m\u001b[0;34m.\u001b[0m\u001b[0mend\u001b[0m\u001b[0;34m(\u001b[0m\u001b[0;34m)\u001b[0m\u001b[0;34m\u001b[0m\u001b[0m\n\u001b[1;32m    366\u001b[0m         \u001b[0;32mif\u001b[0m \u001b[0mend\u001b[0m \u001b[0;34m!=\u001b[0m \u001b[0mlen\u001b[0m\u001b[0;34m(\u001b[0m\u001b[0ms\u001b[0m\u001b[0;34m)\u001b[0m\u001b[0;34m:\u001b[0m\u001b[0;34m\u001b[0m\u001b[0m\n",
      "\u001b[0;32m//anaconda/lib/python2.7/json/decoder.pyc\u001b[0m in \u001b[0;36mraw_decode\u001b[0;34m(self, s, idx)\u001b[0m\n\u001b[1;32m    380\u001b[0m             \u001b[0mobj\u001b[0m\u001b[0;34m,\u001b[0m \u001b[0mend\u001b[0m \u001b[0;34m=\u001b[0m \u001b[0mself\u001b[0m\u001b[0;34m.\u001b[0m\u001b[0mscan_once\u001b[0m\u001b[0;34m(\u001b[0m\u001b[0ms\u001b[0m\u001b[0;34m,\u001b[0m \u001b[0midx\u001b[0m\u001b[0;34m)\u001b[0m\u001b[0;34m\u001b[0m\u001b[0m\n\u001b[1;32m    381\u001b[0m         \u001b[0;32mexcept\u001b[0m \u001b[0mStopIteration\u001b[0m\u001b[0;34m:\u001b[0m\u001b[0;34m\u001b[0m\u001b[0m\n\u001b[0;32m--> 382\u001b[0;31m             \u001b[0;32mraise\u001b[0m \u001b[0mValueError\u001b[0m\u001b[0;34m(\u001b[0m\u001b[0;34m\"No JSON object could be decoded\"\u001b[0m\u001b[0;34m)\u001b[0m\u001b[0;34m\u001b[0m\u001b[0m\n\u001b[0m\u001b[1;32m    383\u001b[0m         \u001b[0;32mreturn\u001b[0m \u001b[0mobj\u001b[0m\u001b[0;34m,\u001b[0m \u001b[0mend\u001b[0m\u001b[0;34m\u001b[0m\u001b[0m\n",
      "\u001b[0;31mValueError\u001b[0m: No JSON object could be decoded"
     ]
    }
   ],
   "source": [
    "movies_plus_json4 = []\n",
    "\n",
    "for movie in list_of_movies2[31:50]:\n",
    "    title = movie[1].replace(' ', '+')\n",
    "    url = 'http://www.omdbapi.com/?type=movie&t=' + title\n",
    "    r = requests.get(url)\n",
    "    movies_plus_json2.append((movie[0], r.json()))\n",
    "    print 'next set'\n",
    "    time.sleep(1)"
   ]
  },
  {
   "cell_type": "code",
   "execution_count": null,
   "metadata": {
    "collapsed": true
   },
   "outputs": [],
   "source": [
    "movies_plus_json5 = []\n",
    "\n",
    "for movie in list_of_movies2[51:100]:\n",
    "    title = movie[1].replace(' ', '+')\n",
    "    url = 'http://www.omdbapi.com/?type=movie&t=' + title\n",
    "    r = requests.get(url)\n",
    "    movies_plus_json2.append((movie[0], r.json()))\n",
    "    print 'next set'\n",
    "    time.sleep(1)"
   ]
  },
  {
   "cell_type": "code",
   "execution_count": null,
   "metadata": {
    "collapsed": true
   },
   "outputs": [],
   "source": [
    "dictMovies2={'Ranking':Rank,\n",
    "     'Actors':Actors,\n",
    "     'Awards':Awards,\n",
    "     'Country':Country,\n",
    "     'Director':Director,\n",
    "     'Genre':Genre,\n",
    "     'Language':Language,\n",
    "     'Metascore':Metascore,\n",
    "     'Plot':Plot,\n",
    "     'Rated':Rated,\n",
    "     'Released':Released,\n",
    "     'Response':Response,\n",
    "     'Runtime':Runtime,\n",
    "     'Title':Title,\n",
    "     'Type':Type,\n",
    "     'Writer':Writer,\n",
    "     'Year':Year,\n",
    "     'imdbID':imdbID,\n",
    "     'imdbRating':imdbRating,\n",
    "     'imdbVotes':imdbVotes}\n",
    "movieData=pd.DataFrame(dictMovies2)"
   ]
  }
 ],
 "metadata": {
  "anaconda-cloud": {},
  "kernelspec": {
   "display_name": "Python [Root]",
   "language": "python",
   "name": "Python [Root]"
  },
  "language_info": {
   "codemirror_mode": {
    "name": "ipython",
    "version": 2
   },
   "file_extension": ".py",
   "mimetype": "text/x-python",
   "name": "python",
   "nbconvert_exporter": "python",
   "pygments_lexer": "ipython2",
   "version": "2.7.12"
  }
 },
 "nbformat": 4,
 "nbformat_minor": 0
}
