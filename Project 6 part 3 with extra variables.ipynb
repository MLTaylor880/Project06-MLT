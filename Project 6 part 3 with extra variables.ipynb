{
 "cells": [
  {
   "cell_type": "code",
   "execution_count": 4,
   "metadata": {
    "collapsed": true
   },
   "outputs": [],
   "source": [
    "import pandas as pd\n",
    "import numpy as np\n",
    "#csv so I can read in my 2 csv file\n",
    "import csv\n",
    "#matplotlib for plotting\n",
    "import matplotlib.pyplot as plt\n",
    "%matplotlib inline\n",
    "#cv so models can be tested for overfitting\n",
    "from sklearn.cross_validation import cross_val_score, StratifiedKFold\n",
    "from sklearn.cross_validation import cross_val_score\n",
    "\n",
    "#knn\n",
    "from sklearn.preprocessing import StandardScaler\n",
    "from sklearn.neighbors import KNeighborsClassifier\n",
    "\n",
    "#create a dt model\n",
    "from sklearn.tree import DecisionTreeClassifier\n",
    "from sklearn.tree import DecisionTreeRegressor\n",
    "#for bagging\n",
    "from sklearn.ensemble import BaggingClassifier\n",
    "from sklearn.cross_validation import cross_val_score, StratifiedKFold\n",
    "from sklearn.ensemble import RandomForestClassifier, ExtraTreesClassifier\n",
    "\n",
    "from sklearn.externals.six import StringIO\n",
    "from sklearn.tree import export_graphviz\n",
    "import pydot\n",
    "from IPython.display import Image\n",
    "\n",
    "\n",
    "from sklearn.feature_extraction.text import CountVectorizer\n",
    "from sklearn.cross_validation import train_test_split\n",
    "from sklearn.feature_selection import RFE\n",
    "from sklearn.cross_validation import KFold\n",
    "from sklearn.metrics import confusion_matrix, classification_report\n",
    "from sklearn import metrics\n",
    "from sklearn.metrics import confusion_matrix\n",
    "\n",
    "from sklearn.grid_search import GridSearchCV\n",
    "from sklearn.linear_model import LogisticRegression"
   ]
  },
  {
   "cell_type": "code",
   "execution_count": 5,
   "metadata": {
    "collapsed": true
   },
   "outputs": [],
   "source": [
    "movieData=pd.read_csv('movieData.csv')"
   ]
  },
  {
   "cell_type": "code",
   "execution_count": 6,
   "metadata": {
    "collapsed": true
   },
   "outputs": [],
   "source": [
    "movieDataLow=pd.read_csv('movieDataLow.csv')"
   ]
  },
  {
   "cell_type": "code",
   "execution_count": 7,
   "metadata": {
    "collapsed": false
   },
   "outputs": [
    {
     "data": {
      "text/html": [
       "<div>\n",
       "<table border=\"1\" class=\"dataframe\">\n",
       "  <thead>\n",
       "    <tr style=\"text-align: right;\">\n",
       "      <th></th>\n",
       "      <th>Unnamed: 0</th>\n",
       "      <th>Actors</th>\n",
       "      <th>Awards</th>\n",
       "      <th>Country</th>\n",
       "      <th>Director</th>\n",
       "      <th>Genre</th>\n",
       "      <th>Language</th>\n",
       "      <th>Metascore</th>\n",
       "      <th>Plot</th>\n",
       "      <th>Ranking</th>\n",
       "      <th>...</th>\n",
       "      <th>Released</th>\n",
       "      <th>Response</th>\n",
       "      <th>Runtime</th>\n",
       "      <th>Title</th>\n",
       "      <th>Type</th>\n",
       "      <th>Writer</th>\n",
       "      <th>Year</th>\n",
       "      <th>imdbID</th>\n",
       "      <th>imdbRating</th>\n",
       "      <th>imdbVotes</th>\n",
       "    </tr>\n",
       "  </thead>\n",
       "  <tbody>\n",
       "    <tr>\n",
       "      <th>84</th>\n",
       "      <td>84</td>\n",
       "      <td>Bo Derek, Anthony Quinn, Don Murray, Julie Newmar</td>\n",
       "      <td>4 wins &amp; 6 nominations.</td>\n",
       "      <td>USA</td>\n",
       "      <td>John Derek</td>\n",
       "      <td>Comedy, Crime, Fantasy</td>\n",
       "      <td>English</td>\n",
       "      <td>NaN</td>\n",
       "      <td>Elderly Scott kills himself after a heart atta...</td>\n",
       "      <td>99</td>\n",
       "      <td>...</td>\n",
       "      <td>01 Jun 1990</td>\n",
       "      <td>True</td>\n",
       "      <td>90 min</td>\n",
       "      <td>Ghosts Can't Do It</td>\n",
       "      <td>movie</td>\n",
       "      <td>John Derek (by)</td>\n",
       "      <td>1989</td>\n",
       "      <td>tt0099656</td>\n",
       "      <td>2.3</td>\n",
       "      <td>1,964</td>\n",
       "    </tr>\n",
       "  </tbody>\n",
       "</table>\n",
       "<p>1 rows × 21 columns</p>\n",
       "</div>"
      ],
      "text/plain": [
       "    Unnamed: 0                                             Actors  \\\n",
       "84          84  Bo Derek, Anthony Quinn, Don Murray, Julie Newmar   \n",
       "\n",
       "                     Awards Country    Director                   Genre  \\\n",
       "84  4 wins & 6 nominations.     USA  John Derek  Comedy, Crime, Fantasy   \n",
       "\n",
       "   Language  Metascore                                               Plot  \\\n",
       "84  English        NaN  Elderly Scott kills himself after a heart atta...   \n",
       "\n",
       "    Ranking    ...         Released Response Runtime               Title  \\\n",
       "84       99    ...      01 Jun 1990     True  90 min  Ghosts Can't Do It   \n",
       "\n",
       "     Type           Writer  Year     imdbID imdbRating  imdbVotes  \n",
       "84  movie  John Derek (by)  1989  tt0099656        2.3      1,964  \n",
       "\n",
       "[1 rows x 21 columns]"
      ]
     },
     "execution_count": 7,
     "metadata": {},
     "output_type": "execute_result"
    }
   ],
   "source": [
    "movieDataLow.tail(1)\n"
   ]
  },
  {
   "cell_type": "code",
   "execution_count": null,
   "metadata": {
    "collapsed": false
   },
   "outputs": [],
   "source": []
  },
  {
   "cell_type": "code",
   "execution_count": 8,
   "metadata": {
    "collapsed": false
   },
   "outputs": [],
   "source": [
    "movieDataAll= pd.concat([movieData, movieDataLow], ignore_index=True)"
   ]
  },
  {
   "cell_type": "code",
   "execution_count": 9,
   "metadata": {
    "collapsed": false
   },
   "outputs": [
    {
     "data": {
      "text/html": [
       "<div>\n",
       "<table border=\"1\" class=\"dataframe\">\n",
       "  <thead>\n",
       "    <tr style=\"text-align: right;\">\n",
       "      <th></th>\n",
       "      <th>Unnamed: 0</th>\n",
       "      <th>Actors</th>\n",
       "      <th>Awards</th>\n",
       "      <th>Country</th>\n",
       "      <th>Director</th>\n",
       "      <th>Genre</th>\n",
       "      <th>Language</th>\n",
       "      <th>Metascore</th>\n",
       "      <th>Plot</th>\n",
       "      <th>Ranking</th>\n",
       "      <th>...</th>\n",
       "      <th>Released</th>\n",
       "      <th>Response</th>\n",
       "      <th>Runtime</th>\n",
       "      <th>Title</th>\n",
       "      <th>Type</th>\n",
       "      <th>Writer</th>\n",
       "      <th>Year</th>\n",
       "      <th>imdbID</th>\n",
       "      <th>imdbRating</th>\n",
       "      <th>imdbVotes</th>\n",
       "    </tr>\n",
       "  </thead>\n",
       "  <tbody>\n",
       "    <tr>\n",
       "      <th>327</th>\n",
       "      <td>84</td>\n",
       "      <td>Bo Derek, Anthony Quinn, Don Murray, Julie Newmar</td>\n",
       "      <td>4 wins &amp; 6 nominations.</td>\n",
       "      <td>USA</td>\n",
       "      <td>John Derek</td>\n",
       "      <td>Comedy, Crime, Fantasy</td>\n",
       "      <td>English</td>\n",
       "      <td>NaN</td>\n",
       "      <td>Elderly Scott kills himself after a heart atta...</td>\n",
       "      <td>99</td>\n",
       "      <td>...</td>\n",
       "      <td>01 Jun 1990</td>\n",
       "      <td>True</td>\n",
       "      <td>90 min</td>\n",
       "      <td>Ghosts Can't Do It</td>\n",
       "      <td>movie</td>\n",
       "      <td>John Derek (by)</td>\n",
       "      <td>1989</td>\n",
       "      <td>tt0099656</td>\n",
       "      <td>2.3</td>\n",
       "      <td>1,964</td>\n",
       "    </tr>\n",
       "  </tbody>\n",
       "</table>\n",
       "<p>1 rows × 21 columns</p>\n",
       "</div>"
      ],
      "text/plain": [
       "     Unnamed: 0                                             Actors  \\\n",
       "327          84  Bo Derek, Anthony Quinn, Don Murray, Julie Newmar   \n",
       "\n",
       "                      Awards Country    Director                   Genre  \\\n",
       "327  4 wins & 6 nominations.     USA  John Derek  Comedy, Crime, Fantasy   \n",
       "\n",
       "    Language  Metascore                                               Plot  \\\n",
       "327  English        NaN  Elderly Scott kills himself after a heart atta...   \n",
       "\n",
       "     Ranking    ...         Released Response Runtime               Title  \\\n",
       "327       99    ...      01 Jun 1990     True  90 min  Ghosts Can't Do It   \n",
       "\n",
       "      Type           Writer  Year     imdbID imdbRating  imdbVotes  \n",
       "327  movie  John Derek (by)  1989  tt0099656        2.3      1,964  \n",
       "\n",
       "[1 rows x 21 columns]"
      ]
     },
     "execution_count": 9,
     "metadata": {},
     "output_type": "execute_result"
    }
   ],
   "source": [
    "movieDataAll.tail(1)"
   ]
  },
  {
   "cell_type": "code",
   "execution_count": 10,
   "metadata": {
    "collapsed": false
   },
   "outputs": [],
   "source": [
    "#tempGenreD['']"
   ]
  },
  {
   "cell_type": "code",
   "execution_count": null,
   "metadata": {
    "collapsed": true
   },
   "outputs": [],
   "source": []
  },
  {
   "cell_type": "code",
   "execution_count": 11,
   "metadata": {
    "collapsed": false
   },
   "outputs": [
    {
     "data": {
      "text/plain": [
       "Index([u'Unnamed: 0', u'Actors', u'Awards', u'Country', u'Director', u'Genre',\n",
       "       u'Language', u'Metascore', u'Plot', u'Ranking', u'Rated', u'Released',\n",
       "       u'Response', u'Runtime', u'Title', u'Type', u'Writer', u'Year',\n",
       "       u'imdbID', u'imdbRating', u'imdbVotes'],\n",
       "      dtype='object')"
      ]
     },
     "execution_count": 11,
     "metadata": {},
     "output_type": "execute_result"
    }
   ],
   "source": [
    "movieDataAll.columns"
   ]
  },
  {
   "cell_type": "code",
   "execution_count": 12,
   "metadata": {
    "collapsed": true
   },
   "outputs": [],
   "source": [
    "movieDataEdited=movieDataAll.copy()"
   ]
  },
  {
   "cell_type": "code",
   "execution_count": 13,
   "metadata": {
    "collapsed": false
   },
   "outputs": [
    {
     "data": {
      "text/html": [
       "<div>\n",
       "<table border=\"1\" class=\"dataframe\">\n",
       "  <thead>\n",
       "    <tr style=\"text-align: right;\">\n",
       "      <th></th>\n",
       "      <th>Unnamed: 0</th>\n",
       "      <th>Actors</th>\n",
       "      <th>Awards</th>\n",
       "      <th>Country</th>\n",
       "      <th>Director</th>\n",
       "      <th>Genre</th>\n",
       "      <th>Language</th>\n",
       "      <th>Metascore</th>\n",
       "      <th>Plot</th>\n",
       "      <th>Ranking</th>\n",
       "      <th>...</th>\n",
       "      <th>Released</th>\n",
       "      <th>Response</th>\n",
       "      <th>Runtime</th>\n",
       "      <th>Title</th>\n",
       "      <th>Type</th>\n",
       "      <th>Writer</th>\n",
       "      <th>Year</th>\n",
       "      <th>imdbID</th>\n",
       "      <th>imdbRating</th>\n",
       "      <th>imdbVotes</th>\n",
       "    </tr>\n",
       "  </thead>\n",
       "  <tbody>\n",
       "    <tr>\n",
       "      <th>327</th>\n",
       "      <td>84</td>\n",
       "      <td>Bo Derek, Anthony Quinn, Don Murray, Julie Newmar</td>\n",
       "      <td>4 wins &amp; 6 nominations.</td>\n",
       "      <td>USA</td>\n",
       "      <td>John Derek</td>\n",
       "      <td>Comedy, Crime, Fantasy</td>\n",
       "      <td>English</td>\n",
       "      <td>NaN</td>\n",
       "      <td>Elderly Scott kills himself after a heart atta...</td>\n",
       "      <td>99</td>\n",
       "      <td>...</td>\n",
       "      <td>01 Jun 1990</td>\n",
       "      <td>True</td>\n",
       "      <td>90 min</td>\n",
       "      <td>Ghosts Can't Do It</td>\n",
       "      <td>movie</td>\n",
       "      <td>John Derek (by)</td>\n",
       "      <td>1989</td>\n",
       "      <td>tt0099656</td>\n",
       "      <td>2.3</td>\n",
       "      <td>1,964</td>\n",
       "    </tr>\n",
       "  </tbody>\n",
       "</table>\n",
       "<p>1 rows × 21 columns</p>\n",
       "</div>"
      ],
      "text/plain": [
       "     Unnamed: 0                                             Actors  \\\n",
       "327          84  Bo Derek, Anthony Quinn, Don Murray, Julie Newmar   \n",
       "\n",
       "                      Awards Country    Director                   Genre  \\\n",
       "327  4 wins & 6 nominations.     USA  John Derek  Comedy, Crime, Fantasy   \n",
       "\n",
       "    Language  Metascore                                               Plot  \\\n",
       "327  English        NaN  Elderly Scott kills himself after a heart atta...   \n",
       "\n",
       "     Ranking    ...         Released Response Runtime               Title  \\\n",
       "327       99    ...      01 Jun 1990     True  90 min  Ghosts Can't Do It   \n",
       "\n",
       "      Type           Writer  Year     imdbID imdbRating  imdbVotes  \n",
       "327  movie  John Derek (by)  1989  tt0099656        2.3      1,964  \n",
       "\n",
       "[1 rows x 21 columns]"
      ]
     },
     "execution_count": 13,
     "metadata": {},
     "output_type": "execute_result"
    }
   ],
   "source": [
    "movieDataEdited.tail(1)"
   ]
  },
  {
   "cell_type": "markdown",
   "metadata": {},
   "source": [
    "imdbRating = float\n",
    "imdbVotes = object - need to convert to integer\n",
    "\n",
    "1 missing\n",
    "Language\n",
    "imdbRating\n",
    "imdbVotes\n",
    "\n",
    "2 missing from rating, runtime \n",
    "metascore missing 80\n",
    "plot missing 3\n",
    "rating 4"
   ]
  },
  {
   "cell_type": "code",
   "execution_count": 14,
   "metadata": {
    "collapsed": false
   },
   "outputs": [
    {
     "name": "stdout",
     "output_type": "stream",
     "text": [
      "For Unnamed: 0\n",
      "0\n",
      "count    328.000000\n",
      "mean     100.527439\n",
      "std       70.816638\n",
      "min        0.000000\n",
      "25%       40.750000\n",
      "50%       81.500000\n",
      "75%      160.250000\n",
      "max      242.000000\n",
      "Name: Unnamed: 0, dtype: float64\n",
      " \n",
      "For Actors\n",
      "0\n",
      "count                                                   328\n",
      "unique                                                  327\n",
      "top       Mark Hamill, Harrison Ford, Carrie Fisher, Bil...\n",
      "freq                                                      2\n",
      "Name: Actors, dtype: object\n",
      " \n",
      "For Awards\n",
      "54\n",
      "count        274\n",
      "unique       244\n",
      "top       1 win.\n",
      "freq           8\n",
      "Name: Awards, dtype: object\n",
      " \n",
      "For Country\n",
      "0\n",
      "count     328\n",
      "unique     67\n",
      "top       USA\n",
      "freq      176\n",
      "Name: Country, dtype: object\n",
      " \n",
      "For Director\n",
      "0\n",
      "count                   328\n",
      "unique                  232\n",
      "top       Christopher Nolan\n",
      "freq                      7\n",
      "Name: Director, dtype: object\n",
      " \n",
      "For Genre\n",
      "0\n",
      "count       328\n",
      "unique      143\n",
      "top       Drama\n",
      "freq         22\n",
      "Name: Genre, dtype: object\n",
      " \n",
      "For Language\n",
      "1\n",
      "count         327\n",
      "unique         90\n",
      "top       English\n",
      "freq          167\n",
      "Name: Language, dtype: object\n",
      " \n",
      "For Metascore\n",
      "144\n",
      "count    184.000000\n",
      "mean      73.233696\n",
      "std       22.743876\n",
      "min        1.000000\n",
      "25%             NaN\n",
      "50%             NaN\n",
      "75%             NaN\n",
      "max      100.000000\n",
      "Name: Metascore, dtype: float64\n",
      " \n",
      "For Plot\n",
      "3\n",
      "count                                                   325\n",
      "unique                                                  325\n",
      "top       A young F.B.I. cadet must confide in an incarc...\n",
      "freq                                                      1\n",
      "Name: Plot, dtype: object\n",
      " \n",
      "For Ranking\n",
      "0\n",
      "count    328.000000\n",
      "mean     105.570122\n",
      "std       70.995679\n",
      "min        0.000000\n",
      "25%       45.750000\n",
      "50%       90.500000\n",
      "75%      164.250000\n",
      "max      248.000000\n",
      "Name: Ranking, dtype: float64\n",
      " \n",
      "For Rated\n",
      "19\n",
      "count     309\n",
      "unique     11\n",
      "top         R\n",
      "freq      120\n",
      "Name: Rated, dtype: object\n",
      " \n",
      "For Released\n",
      "6\n",
      "count             322\n",
      "unique            312\n",
      "top       22 Nov 1995\n",
      "freq                2\n",
      "Name: Released, dtype: object\n",
      " \n",
      "For Response\n",
      "0\n",
      "count      328\n",
      "unique       1\n",
      "top       True\n",
      "freq       328\n",
      "Name: Response, dtype: object\n",
      " \n",
      "For Runtime\n",
      "3\n",
      "count        325\n",
      "unique       114\n",
      "top       91 min\n",
      "freq          10\n",
      "Name: Runtime, dtype: object\n",
      " \n",
      "For Title\n",
      "0\n",
      "count         328\n",
      "unique        328\n",
      "top       Network\n",
      "freq            1\n",
      "Name: Title, dtype: object\n",
      " \n",
      "For Type\n",
      "0\n",
      "count       328\n",
      "unique        1\n",
      "top       movie\n",
      "freq        328\n",
      "Name: Type, dtype: object\n",
      " \n",
      "For Writer\n",
      "1\n",
      "count                 327\n",
      "unique                308\n",
      "top       Charles Chaplin\n",
      "freq                    5\n",
      "Name: Writer, dtype: object\n",
      " \n",
      "For Year\n",
      "0\n",
      "count     328.000000\n",
      "mean     1986.079268\n",
      "std        22.971857\n",
      "min      1921.000000\n",
      "25%      1968.000000\n",
      "50%      1993.000000\n",
      "75%      2005.000000\n",
      "max      2016.000000\n",
      "Name: Year, dtype: float64\n",
      " \n",
      "For imdbID\n",
      "0\n",
      "count           328\n",
      "unique          328\n",
      "top       tt0092297\n",
      "freq              1\n",
      "Name: imdbID, dtype: object\n",
      " \n",
      "For imdbRating\n",
      "1\n",
      "count    327.000000\n",
      "mean       6.763914\n",
      "std        2.643997\n",
      "min        1.200000\n",
      "25%             NaN\n",
      "50%             NaN\n",
      "75%             NaN\n",
      "max        9.300000\n",
      "Name: imdbRating, dtype: float64\n",
      " \n",
      "For imdbVotes\n",
      "1\n",
      "count        327\n",
      "unique       327\n",
      "top       14,067\n",
      "freq           1\n",
      "Name: imdbVotes, dtype: object\n",
      " \n"
     ]
    },
    {
     "name": "stderr",
     "output_type": "stream",
     "text": [
      "//anaconda/lib/python2.7/site-packages/numpy/lib/function_base.py:3834: RuntimeWarning: Invalid value encountered in percentile\n",
      "  RuntimeWarning)\n"
     ]
    }
   ],
   "source": [
    "tColumms = []\n",
    "i=0\n",
    "for labels in movieDataEdited.columns:  \n",
    "    if i >=0:\n",
    "        tColumms.append(labels)\n",
    "        i = i+1\n",
    "    else:\n",
    "        i=i+1\n",
    "\n",
    "for item in tColumms:\n",
    "    print 'For %s' %item\n",
    "    print movieDataEdited[item].isnull().sum()\n",
    "    print movieDataEdited[item].describe()\n",
    "    print ' '"
   ]
  },
  {
   "cell_type": "code",
   "execution_count": null,
   "metadata": {
    "collapsed": true
   },
   "outputs": [],
   "source": []
  },
  {
   "cell_type": "code",
   "execution_count": 15,
   "metadata": {
    "collapsed": false
   },
   "outputs": [],
   "source": [
    "\n",
    "# movieDataEdited['imdbVotes'] = movieDataEdited['imdbVotes'].convert_objects(convert_numeric=True)b"
   ]
  },
  {
   "cell_type": "code",
   "execution_count": 16,
   "metadata": {
    "collapsed": false
   },
   "outputs": [],
   "source": [
    "#one imdbVotes missing\n",
    "#strip the comma out of the number\n",
    "#movieDataEdited['imdbVotes'] = movieDataEdited['imdbVotes'].str.strip(',)\n",
    "movieDataEdited['imdbVotes']=movieDataEdited['imdbVotes'].str.replace(',','')\n",
    "movieDataEdited['imdbVotes'].fillna(0, inplace=True)\n",
    "movieDataEdited['imdbVotes']=movieDataEdited['imdbVotes'].astype(int)\n",
    "#movieDataEdited['imdbVotes']"
   ]
  },
  {
   "cell_type": "code",
   "execution_count": 17,
   "metadata": {
    "collapsed": false
   },
   "outputs": [],
   "source": [
    "#two run times missing\n",
    "\n",
    "movieDataEdited['Runtime']=movieDataEdited['Runtime'].str.replace(' min','')\n",
    "movieDataEdited['Runtime'].fillna(0, inplace=True)\n",
    "movieDataEdited['Runtime']=movieDataEdited['Runtime'].astype(int)"
   ]
  },
  {
   "cell_type": "code",
   "execution_count": 18,
   "metadata": {
    "collapsed": false
   },
   "outputs": [
    {
     "name": "stdout",
     "output_type": "stream",
     "text": [
      "(328, 21)\n",
      "(327, 21)\n"
     ]
    }
   ],
   "source": [
    "#drop the one record with imdbRating missing\n",
    "print movieDataEdited.shape\n",
    "movieDataEdited = movieDataEdited.dropna(subset=['imdbRating'])\n",
    "print movieDataEdited.shape"
   ]
  },
  {
   "cell_type": "code",
   "execution_count": 19,
   "metadata": {
    "collapsed": false
   },
   "outputs": [
    {
     "data": {
      "text/plain": [
       "0    142\n",
       "1    175\n",
       "2    202\n",
       "3    152\n",
       "4     96\n",
       "Name: Runtime, dtype: int64"
      ]
     },
     "execution_count": 19,
     "metadata": {},
     "output_type": "execute_result"
    }
   ],
   "source": [
    "movieDataEdited['Runtime'].head()"
   ]
  },
  {
   "cell_type": "code",
   "execution_count": 20,
   "metadata": {
    "collapsed": false
   },
   "outputs": [
    {
     "data": {
      "text/plain": [
       "RangeIndex(start=0, stop=3, step=1)"
      ]
     },
     "execution_count": 20,
     "metadata": {},
     "output_type": "execute_result"
    }
   ],
   "source": [
    "tempDF=movieDataEdited['Genre'].str[0:].str.split(',', expand=True )\n",
    "tempDF.columns"
   ]
  },
  {
   "cell_type": "code",
   "execution_count": 21,
   "metadata": {
    "collapsed": false
   },
   "outputs": [],
   "source": [
    "pd.melt?"
   ]
  },
  {
   "cell_type": "code",
   "execution_count": 22,
   "metadata": {
    "collapsed": true
   },
   "outputs": [],
   "source": [
    "pd.get_dummies?"
   ]
  },
  {
   "cell_type": "code",
   "execution_count": 25,
   "metadata": {
    "collapsed": false
   },
   "outputs": [],
   "source": [
    "tempGenre=pd.get_dummies(tempDF)\n"
   ]
  },
  {
   "cell_type": "code",
   "execution_count": 26,
   "metadata": {
    "collapsed": false,
    "scrolled": true
   },
   "outputs": [
    {
     "data": {
      "text/plain": [
       "Index([u'0_Action', u'0_Adventure', u'0_Animation', u'0_Biography',\n",
       "       u'0_Comedy', u'0_Crime', u'0_Drama', u'0_Fantasy', u'0_Film-Noir',\n",
       "       u'0_Horror', u'0_Mystery', u'0_Sci-Fi', u'0_Western', u'1_ Action',\n",
       "       u'1_ Adventure', u'1_ Biography', u'1_ Comedy', u'1_ Crime',\n",
       "       u'1_ Drama', u'1_ Family', u'1_ Fantasy', u'1_ Film-Noir',\n",
       "       u'1_ History', u'1_ Horror', u'1_ Music', u'1_ Musical', u'1_ Mystery',\n",
       "       u'1_ Romance', u'1_ Sci-Fi', u'1_ Sport', u'1_ Thriller', u'1_ War',\n",
       "       u'1_ Western', u'2_ Adventure', u'2_ Comedy', u'2_ Crime', u'2_ Drama',\n",
       "       u'2_ Family', u'2_ Fantasy', u'2_ Film-Noir', u'2_ History',\n",
       "       u'2_ Horror', u'2_ Music', u'2_ Musical', u'2_ Mystery', u'2_ Romance',\n",
       "       u'2_ Sci-Fi', u'2_ Sport', u'2_ Thriller', u'2_ War', u'2_ Western'],\n",
       "      dtype='object')"
      ]
     },
     "execution_count": 26,
     "metadata": {},
     "output_type": "execute_result"
    }
   ],
   "source": [
    "tempGenre.columns"
   ]
  },
  {
   "cell_type": "code",
   "execution_count": 27,
   "metadata": {
    "collapsed": false
   },
   "outputs": [
    {
     "data": {
      "text/plain": [
       "(327, 51)"
      ]
     },
     "execution_count": 27,
     "metadata": {},
     "output_type": "execute_result"
    }
   ],
   "source": [
    "tempGenre.shape"
   ]
  },
  {
   "cell_type": "code",
   "execution_count": 28,
   "metadata": {
    "collapsed": false
   },
   "outputs": [],
   "source": [
    "tempGenre['gAction']=tempGenre['0_Action'] + tempGenre['1_ Action'] \n",
    "\n",
    "tempGenre['gAdventure']=tempGenre['0_Adventure'] + tempGenre['1_ Adventure']+tempGenre['2_ Adventure']\n",
    "\n",
    "tempGenre['gAnimation']=tempGenre['0_Animation'] \n",
    "\n",
    "tempGenre['gBiography']=tempGenre['0_Biography'] + tempGenre['1_ Biography']\n",
    "\n",
    "tempGenre['gComedy']=tempGenre['0_Comedy']+tempGenre['1_ Comedy'] + tempGenre['2_ Comedy']\n",
    "\n",
    "\n",
    "\n",
    "tempGenre['gCrime']=tempGenre['0_Crime']+tempGenre['1_ Crime'] + tempGenre['2_ Crime']\n",
    "\n",
    "tempGenre['gDrama']=tempGenre['0_Drama']+tempGenre['1_ Drama'] + tempGenre['2_ Drama']\n",
    "\n",
    "tempGenre['gFamily']=tempGenre['1_ Family'] + tempGenre['2_ Family']\n",
    "\n",
    "tempGenre['gFantasy']=tempGenre['0_Fantasy']+tempGenre['1_ Fantasy'] + tempGenre['2_ Fantasy']\n",
    "\n",
    "tempGenre['gFilmNoir']=tempGenre['0_Film-Noir']+tempGenre['1_ Film-Noir'] + tempGenre['2_ Film-Noir']\n",
    "tempGenre['gHistory']=tempGenre['1_ History'] + tempGenre['2_ History']\n",
    "\n",
    "tempGenre['gHorror']=tempGenre['0_Horror']+tempGenre['1_ Horror'] + tempGenre['2_ Horror']\n",
    "tempGenre['gMusic']=tempGenre['1_ Music'] + tempGenre['2_ Music']\n",
    "\n",
    "tempGenre['gMusical']=tempGenre['1_ Musical'] + tempGenre['2_ Musical']\n",
    "\n",
    "tempGenre['Mystery']=tempGenre['0_Mystery'] + tempGenre['1_ Mystery']+ tempGenre['2_ Mystery']\n",
    "\n",
    "tempGenre['gRomance']=tempGenre['1_ Romance'] + tempGenre['2_ Romance']\n",
    "\n",
    "tempGenre['gSciFi']=tempGenre['0_Sci-Fi']+tempGenre['1_ Sci-Fi'] + tempGenre['2_ Sci-Fi']\n",
    "\n",
    "tempGenre['gSport']=tempGenre['1_ Sport'] + tempGenre['2_ Sport']\n",
    "tempGenre['gThiller']=tempGenre['1_ Thriller'] + tempGenre['2_ Thriller']\n",
    "\n",
    "tempGenre['gWar']=tempGenre['1_ War'] + tempGenre['2_ War']\n",
    "tempGenre['gWestern']=tempGenre['0_Western'] + tempGenre['1_ Western'] + tempGenre['2_ Western']\n",
    "\n",
    "\n",
    "\n",
    "\n"
   ]
  },
  {
   "cell_type": "code",
   "execution_count": 29,
   "metadata": {
    "collapsed": false
   },
   "outputs": [],
   "source": [
    "tempGenre=tempGenre[['gAction','gAdventure','gAnimation','gComedy','gBiography',\n",
    "                     'gCrime','gDrama','gFamily','gFantasy','gFilmNoir','gHistory',\n",
    "                     'gHorror','gMusic','gMusical','Mystery',\n",
    "                     'gRomance','gSciFi','gSport','gThiller','gWar','gWestern']]\n"
   ]
  },
  {
   "cell_type": "code",
   "execution_count": 30,
   "metadata": {
    "collapsed": false
   },
   "outputs": [],
   "source": [
    "#did the code below to for checking it did add correctly\n",
    "# gColumms = []\n",
    "# i=0\n",
    "# for labels in tempGenre.columns:  \n",
    "#     if i >=0:\n",
    "#         gColumms.append(labels)\n",
    "#         i = i+1\n",
    "#     else:\n",
    "#         i=i+1\n",
    "# for item in gColumms:\n",
    "#     print 'For %s' %item\n",
    "#     print tempGenre[item].sum()\n",
    "#     print ' '"
   ]
  },
  {
   "cell_type": "code",
   "execution_count": 31,
   "metadata": {
    "collapsed": false
   },
   "outputs": [
    {
     "data": {
      "text/html": [
       "<div>\n",
       "<table border=\"1\" class=\"dataframe\">\n",
       "  <thead>\n",
       "    <tr style=\"text-align: right;\">\n",
       "      <th></th>\n",
       "      <th>gAction</th>\n",
       "      <th>gAdventure</th>\n",
       "      <th>gAnimation</th>\n",
       "      <th>gComedy</th>\n",
       "      <th>gBiography</th>\n",
       "      <th>gCrime</th>\n",
       "      <th>gDrama</th>\n",
       "      <th>gFamily</th>\n",
       "      <th>gFantasy</th>\n",
       "      <th>gFilmNoir</th>\n",
       "      <th>...</th>\n",
       "      <th>gHorror</th>\n",
       "      <th>gMusic</th>\n",
       "      <th>gMusical</th>\n",
       "      <th>Mystery</th>\n",
       "      <th>gRomance</th>\n",
       "      <th>gSciFi</th>\n",
       "      <th>gSport</th>\n",
       "      <th>gThiller</th>\n",
       "      <th>gWar</th>\n",
       "      <th>gWestern</th>\n",
       "    </tr>\n",
       "  </thead>\n",
       "  <tbody>\n",
       "    <tr>\n",
       "      <th>0</th>\n",
       "      <td>0.0</td>\n",
       "      <td>0.0</td>\n",
       "      <td>0.0</td>\n",
       "      <td>0.0</td>\n",
       "      <td>0.0</td>\n",
       "      <td>1.0</td>\n",
       "      <td>1.0</td>\n",
       "      <td>0.0</td>\n",
       "      <td>0.0</td>\n",
       "      <td>0.0</td>\n",
       "      <td>...</td>\n",
       "      <td>0.0</td>\n",
       "      <td>0.0</td>\n",
       "      <td>0.0</td>\n",
       "      <td>0.0</td>\n",
       "      <td>0.0</td>\n",
       "      <td>0.0</td>\n",
       "      <td>0.0</td>\n",
       "      <td>0.0</td>\n",
       "      <td>0.0</td>\n",
       "      <td>0.0</td>\n",
       "    </tr>\n",
       "  </tbody>\n",
       "</table>\n",
       "<p>1 rows × 21 columns</p>\n",
       "</div>"
      ],
      "text/plain": [
       "   gAction  gAdventure  gAnimation  gComedy  gBiography  gCrime  gDrama  \\\n",
       "0      0.0         0.0         0.0      0.0         0.0     1.0     1.0   \n",
       "\n",
       "   gFamily  gFantasy  gFilmNoir    ...     gHorror  gMusic  gMusical  Mystery  \\\n",
       "0      0.0       0.0        0.0    ...         0.0     0.0       0.0      0.0   \n",
       "\n",
       "   gRomance  gSciFi  gSport  gThiller  gWar  gWestern  \n",
       "0       0.0     0.0     0.0       0.0   0.0       0.0  \n",
       "\n",
       "[1 rows x 21 columns]"
      ]
     },
     "execution_count": 31,
     "metadata": {},
     "output_type": "execute_result"
    }
   ],
   "source": [
    "tempGenre.head(1)"
   ]
  },
  {
   "cell_type": "code",
   "execution_count": 32,
   "metadata": {
    "collapsed": false
   },
   "outputs": [
    {
     "data": {
      "text/plain": [
       "Index([u'Unnamed: 0', u'Actors', u'Awards', u'Country', u'Director', u'Genre',\n",
       "       u'Language', u'Metascore', u'Plot', u'Ranking', u'Rated', u'Released',\n",
       "       u'Response', u'Runtime', u'Title', u'Type', u'Writer', u'Year',\n",
       "       u'imdbID', u'imdbRating', u'imdbVotes'],\n",
       "      dtype='object')"
      ]
     },
     "execution_count": 32,
     "metadata": {},
     "output_type": "execute_result"
    }
   ],
   "source": [
    "movieDataEdited.columns"
   ]
  },
  {
   "cell_type": "code",
   "execution_count": 33,
   "metadata": {
    "collapsed": false
   },
   "outputs": [],
   "source": [
    "\n",
    "movieDataEdited=pd.DataFrame(movieDataEdited).join(pd.DataFrame(tempGenre))"
   ]
  },
  {
   "cell_type": "code",
   "execution_count": 34,
   "metadata": {
    "collapsed": false
   },
   "outputs": [
    {
     "data": {
      "text/plain": [
       "(327, 42)"
      ]
     },
     "execution_count": 34,
     "metadata": {},
     "output_type": "execute_result"
    }
   ],
   "source": [
    "movieDataEdited.shape\n"
   ]
  },
  {
   "cell_type": "code",
   "execution_count": 35,
   "metadata": {
    "collapsed": false
   },
   "outputs": [
    {
     "data": {
      "text/plain": [
       "Index([u'Unnamed: 0', u'Actors', u'Awards', u'Country', u'Director', u'Genre',\n",
       "       u'Language', u'Metascore', u'Plot', u'Ranking', u'Rated', u'Released',\n",
       "       u'Response', u'Runtime', u'Title', u'Type', u'Writer', u'Year',\n",
       "       u'imdbID', u'imdbRating', u'imdbVotes', u'gAction', u'gAdventure',\n",
       "       u'gAnimation', u'gComedy', u'gBiography', u'gCrime', u'gDrama',\n",
       "       u'gFamily', u'gFantasy', u'gFilmNoir', u'gHistory', u'gHorror',\n",
       "       u'gMusic', u'gMusical', u'Mystery', u'gRomance', u'gSciFi', u'gSport',\n",
       "       u'gThiller', u'gWar', u'gWestern'],\n",
       "      dtype='object')"
      ]
     },
     "execution_count": 35,
     "metadata": {},
     "output_type": "execute_result"
    }
   ],
   "source": [
    "movieDataEdited.columns"
   ]
  },
  {
   "cell_type": "code",
   "execution_count": null,
   "metadata": {
    "collapsed": true
   },
   "outputs": [],
   "source": []
  },
  {
   "cell_type": "code",
   "execution_count": 36,
   "metadata": {
    "collapsed": true
   },
   "outputs": [],
   "source": [
    "#movieDataEdited['Rated']=movieDataEdited['Rated']\n",
    "movieDataEdited['Rated'].fillna('Unknown', inplace=True)\n",
    "#movieDataEdited['Rated'] = titanic['Rated'].apply(lambda x: 1 if x =='Missing' else 0)"
   ]
  },
  {
   "cell_type": "code",
   "execution_count": 37,
   "metadata": {
    "collapsed": false
   },
   "outputs": [
    {
     "data": {
      "text/plain": [
       "count     327\n",
       "unique     12\n",
       "top         R\n",
       "freq      120\n",
       "Name: Rated, dtype: object"
      ]
     },
     "execution_count": 37,
     "metadata": {},
     "output_type": "execute_result"
    }
   ],
   "source": [
    "movieDataEdited['Rated'].describe()"
   ]
  },
  {
   "cell_type": "code",
   "execution_count": 38,
   "metadata": {
    "collapsed": true
   },
   "outputs": [],
   "source": [
    "#now to add dummies for 'Rated'. I first need to fillin withe word unknown for unknows\n",
    "#new dataframe to hold dummies "
   ]
  },
  {
   "cell_type": "code",
   "execution_count": 39,
   "metadata": {
    "collapsed": false
   },
   "outputs": [
    {
     "data": {
      "text/plain": [
       "(327, 12)"
      ]
     },
     "execution_count": 39,
     "metadata": {},
     "output_type": "execute_result"
    }
   ],
   "source": [
    "\n",
    "dummiedRated=pd.get_dummies(movieDataEdited['Rated'],prefix='Rated_')\n",
    "dummiedRated.shape"
   ]
  },
  {
   "cell_type": "code",
   "execution_count": 40,
   "metadata": {
    "collapsed": true
   },
   "outputs": [],
   "source": [
    "movieDataEdited=pd.DataFrame(movieDataEdited).join(pd.DataFrame(dummiedRated))"
   ]
  },
  {
   "cell_type": "code",
   "execution_count": 41,
   "metadata": {
    "collapsed": false
   },
   "outputs": [
    {
     "data": {
      "text/plain": [
       "Index([u'Unnamed: 0', u'Actors', u'Awards', u'Country', u'Director', u'Genre',\n",
       "       u'Language', u'Metascore', u'Plot', u'Ranking', u'Rated', u'Released',\n",
       "       u'Response', u'Runtime', u'Title', u'Type', u'Writer', u'Year',\n",
       "       u'imdbID', u'imdbRating', u'imdbVotes', u'gAction', u'gAdventure',\n",
       "       u'gAnimation', u'gComedy', u'gBiography', u'gCrime', u'gDrama',\n",
       "       u'gFamily', u'gFantasy', u'gFilmNoir', u'gHistory', u'gHorror',\n",
       "       u'gMusic', u'gMusical', u'Mystery', u'gRomance', u'gSciFi', u'gSport',\n",
       "       u'gThiller', u'gWar', u'gWestern', u'Rated__APPROVED', u'Rated__G',\n",
       "       u'Rated__M', u'Rated__NOT RATED', u'Rated__PASSED', u'Rated__PG',\n",
       "       u'Rated__PG-13', u'Rated__R', u'Rated__TV-MA', u'Rated__TV-PG',\n",
       "       u'Rated__UNRATED', u'Rated__Unknown'],\n",
       "      dtype='object')"
      ]
     },
     "execution_count": 41,
     "metadata": {},
     "output_type": "execute_result"
    }
   ],
   "source": [
    "movieDataEdited.columns"
   ]
  },
  {
   "cell_type": "code",
   "execution_count": 42,
   "metadata": {
    "collapsed": false
   },
   "outputs": [],
   "source": [
    "\n",
    "X=movieDataEdited[['Ranking','Runtime','Year',\n",
    "                  'imdbVotes', 'gAction', 'gAdventure',\n",
    "       'gAnimation', 'gComedy', 'gBiography', 'gCrime', 'gDrama',\n",
    "       'gFamily', u'gFantasy', 'gFilmNoir', 'gHistory', 'gHorror',\n",
    "       'gMusic', 'gMusical', 'Mystery', 'gRomance', 'gSciFi', 'gSport',\n",
    "       'gThiller', 'gWar', 'gWestern','Rated__APPROVED', 'Rated__G',\n",
    "       'Rated__M', 'Rated__NOT RATED', 'Rated__PASSED', 'Rated__PG',\n",
    "       'Rated__PG-13', 'Rated__R', 'Rated__TV-MA', 'Rated__TV-PG',\n",
    "       'Rated__UNRATED', 'Rated__Unknown']]"
   ]
  },
  {
   "cell_type": "code",
   "execution_count": 43,
   "metadata": {
    "collapsed": true
   },
   "outputs": [],
   "source": [
    "from sklearn.preprocessing import LabelEncoder"
   ]
  },
  {
   "cell_type": "code",
   "execution_count": 44,
   "metadata": {
    "collapsed": false
   },
   "outputs": [],
   "source": [
    "#Selected a rating or 8 or above to be indication of good or bad\n",
    "le = LabelEncoder()\n",
    "y = le.fit_transform(movieDataEdited['imdbRating'].apply(lambda x: 1 if x > 8.0 else 0))\n",
    "#y=movieDataEdited['imdbRating'].apply(lambda x: 1 if x > 8.0 else 0)\n",
    "\n"
   ]
  },
  {
   "cell_type": "code",
   "execution_count": 45,
   "metadata": {
    "collapsed": true
   },
   "outputs": [],
   "source": [
    "#see if the word in the awards matter - I am only going to pick up the oscars\n"
   ]
  },
  {
   "cell_type": "code",
   "execution_count": 46,
   "metadata": {
    "collapsed": false
   },
   "outputs": [],
   "source": [
    "\n",
    "v = CountVectorizer(\n",
    "    binary=True,  # Create binary features\n",
    "    stop_words='english', # Ignore common words such as 'the', 'and'\n",
    "    max_features=30, # Only use the top 50 most common words\n",
    ")"
   ]
  },
  {
   "cell_type": "code",
   "execution_count": 47,
   "metadata": {
    "collapsed": false
   },
   "outputs": [
    {
     "ename": "ValueError",
     "evalue": "np.nan is an invalid document, expected byte or unicode string.",
     "output_type": "error",
     "traceback": [
      "\u001b[0;31m---------------------------------------------------------------------------\u001b[0m",
      "\u001b[0;31mValueError\u001b[0m                                Traceback (most recent call last)",
      "\u001b[0;32m<ipython-input-47-78ed798306c9>\u001b[0m in \u001b[0;36m<module>\u001b[0;34m()\u001b[0m\n\u001b[0;32m----> 1\u001b[0;31m \u001b[0mwordsAward\u001b[0m \u001b[0;34m=\u001b[0m \u001b[0mv\u001b[0m\u001b[0;34m.\u001b[0m\u001b[0mfit_transform\u001b[0m\u001b[0;34m(\u001b[0m\u001b[0mmovieDataEdited\u001b[0m\u001b[0;34m[\u001b[0m\u001b[0;34m'Awards'\u001b[0m\u001b[0;34m]\u001b[0m\u001b[0;34m)\u001b[0m\u001b[0;34m.\u001b[0m\u001b[0mtodense\u001b[0m\u001b[0;34m(\u001b[0m\u001b[0;34m)\u001b[0m\u001b[0;34m\u001b[0m\u001b[0m\n\u001b[0m\u001b[1;32m      2\u001b[0m \u001b[0mwordsAward\u001b[0m \u001b[0;34m=\u001b[0m \u001b[0mpd\u001b[0m\u001b[0;34m.\u001b[0m\u001b[0mDataFrame\u001b[0m\u001b[0;34m(\u001b[0m\u001b[0mwordsJobTitle\u001b[0m\u001b[0;34m,\u001b[0m \u001b[0mcolumns\u001b[0m\u001b[0;34m=\u001b[0m\u001b[0mv\u001b[0m\u001b[0;34m.\u001b[0m\u001b[0mget_feature_names\u001b[0m\u001b[0;34m(\u001b[0m\u001b[0;34m)\u001b[0m\u001b[0;34m)\u001b[0m\u001b[0;34m\u001b[0m\u001b[0m\n",
      "\u001b[0;32m//anaconda/lib/python2.7/site-packages/sklearn/feature_extraction/text.pyc\u001b[0m in \u001b[0;36mfit_transform\u001b[0;34m(self, raw_documents, y)\u001b[0m\n\u001b[1;32m    815\u001b[0m \u001b[0;34m\u001b[0m\u001b[0m\n\u001b[1;32m    816\u001b[0m         vocabulary, X = self._count_vocab(raw_documents,\n\u001b[0;32m--> 817\u001b[0;31m                                           self.fixed_vocabulary_)\n\u001b[0m\u001b[1;32m    818\u001b[0m \u001b[0;34m\u001b[0m\u001b[0m\n\u001b[1;32m    819\u001b[0m         \u001b[0;32mif\u001b[0m \u001b[0mself\u001b[0m\u001b[0;34m.\u001b[0m\u001b[0mbinary\u001b[0m\u001b[0;34m:\u001b[0m\u001b[0;34m\u001b[0m\u001b[0m\n",
      "\u001b[0;32m//anaconda/lib/python2.7/site-packages/sklearn/feature_extraction/text.pyc\u001b[0m in \u001b[0;36m_count_vocab\u001b[0;34m(self, raw_documents, fixed_vocab)\u001b[0m\n\u001b[1;32m    750\u001b[0m         \u001b[0mindptr\u001b[0m\u001b[0;34m.\u001b[0m\u001b[0mappend\u001b[0m\u001b[0;34m(\u001b[0m\u001b[0;36m0\u001b[0m\u001b[0;34m)\u001b[0m\u001b[0;34m\u001b[0m\u001b[0m\n\u001b[1;32m    751\u001b[0m         \u001b[0;32mfor\u001b[0m \u001b[0mdoc\u001b[0m \u001b[0;32min\u001b[0m \u001b[0mraw_documents\u001b[0m\u001b[0;34m:\u001b[0m\u001b[0;34m\u001b[0m\u001b[0m\n\u001b[0;32m--> 752\u001b[0;31m             \u001b[0;32mfor\u001b[0m \u001b[0mfeature\u001b[0m \u001b[0;32min\u001b[0m \u001b[0manalyze\u001b[0m\u001b[0;34m(\u001b[0m\u001b[0mdoc\u001b[0m\u001b[0;34m)\u001b[0m\u001b[0;34m:\u001b[0m\u001b[0;34m\u001b[0m\u001b[0m\n\u001b[0m\u001b[1;32m    753\u001b[0m                 \u001b[0;32mtry\u001b[0m\u001b[0;34m:\u001b[0m\u001b[0;34m\u001b[0m\u001b[0m\n\u001b[1;32m    754\u001b[0m                     \u001b[0mj_indices\u001b[0m\u001b[0;34m.\u001b[0m\u001b[0mappend\u001b[0m\u001b[0;34m(\u001b[0m\u001b[0mvocabulary\u001b[0m\u001b[0;34m[\u001b[0m\u001b[0mfeature\u001b[0m\u001b[0;34m]\u001b[0m\u001b[0;34m)\u001b[0m\u001b[0;34m\u001b[0m\u001b[0m\n",
      "\u001b[0;32m//anaconda/lib/python2.7/site-packages/sklearn/feature_extraction/text.pyc\u001b[0m in \u001b[0;36m<lambda>\u001b[0;34m(doc)\u001b[0m\n\u001b[1;32m    236\u001b[0m \u001b[0;34m\u001b[0m\u001b[0m\n\u001b[1;32m    237\u001b[0m             return lambda doc: self._word_ngrams(\n\u001b[0;32m--> 238\u001b[0;31m                 tokenize(preprocess(self.decode(doc))), stop_words)\n\u001b[0m\u001b[1;32m    239\u001b[0m \u001b[0;34m\u001b[0m\u001b[0m\n\u001b[1;32m    240\u001b[0m         \u001b[0;32melse\u001b[0m\u001b[0;34m:\u001b[0m\u001b[0;34m\u001b[0m\u001b[0m\n",
      "\u001b[0;32m//anaconda/lib/python2.7/site-packages/sklearn/feature_extraction/text.pyc\u001b[0m in \u001b[0;36mdecode\u001b[0;34m(self, doc)\u001b[0m\n\u001b[1;32m    116\u001b[0m \u001b[0;34m\u001b[0m\u001b[0m\n\u001b[1;32m    117\u001b[0m         \u001b[0;32mif\u001b[0m \u001b[0mdoc\u001b[0m \u001b[0;32mis\u001b[0m \u001b[0mnp\u001b[0m\u001b[0;34m.\u001b[0m\u001b[0mnan\u001b[0m\u001b[0;34m:\u001b[0m\u001b[0;34m\u001b[0m\u001b[0m\n\u001b[0;32m--> 118\u001b[0;31m             raise ValueError(\"np.nan is an invalid document, expected byte or \"\n\u001b[0m\u001b[1;32m    119\u001b[0m                              \"unicode string.\")\n\u001b[1;32m    120\u001b[0m \u001b[0;34m\u001b[0m\u001b[0m\n",
      "\u001b[0;31mValueError\u001b[0m: np.nan is an invalid document, expected byte or unicode string."
     ]
    }
   ],
   "source": [
    "wordsAward = v.fit_transform(movieDataEdited['Awards']).todense()  \n",
    "wordsAward = pd.DataFrame(wordsJobTitle, columns=v.get_feature_names())"
   ]
  },
  {
   "cell_type": "markdown",
   "metadata": {},
   "source": [
    "# separating the file into train test\n",
    "Test dataset will prove that the model can be used for data other than what it was fitted for"
   ]
  },
  {
   "cell_type": "code",
   "execution_count": 44,
   "metadata": {
    "collapsed": false
   },
   "outputs": [
    {
     "data": {
      "text/plain": [
       "((196, 37), (131, 37), (196,), (131,))"
      ]
     },
     "execution_count": 44,
     "metadata": {},
     "output_type": "execute_result"
    }
   ],
   "source": [
    "# now we have our X and y - lets create the TTS\n",
    "x_train, x_test, y_train, y_test = train_test_split(X, y, test_size =.4)\n",
    "\n",
    "x_train.shape, x_test.shape, y_train.shape, y_test.shape"
   ]
  },
  {
   "cell_type": "markdown",
   "metadata": {},
   "source": [
    "# Model 1 knn  use to see if prediction can be made given\n",
    "# the closest neighbors\n",
    "after knn is done then will test it using CV"
   ]
  },
  {
   "cell_type": "code",
   "execution_count": 45,
   "metadata": {
    "collapsed": false
   },
   "outputs": [],
   "source": [
    "#knn on training set  starting with 5 of closest neighbors\n",
    "knn = KNeighborsClassifier(n_neighbors=5)"
   ]
  },
  {
   "cell_type": "code",
   "execution_count": 47,
   "metadata": {
    "collapsed": false
   },
   "outputs": [
    {
     "data": {
      "text/plain": [
       "KNeighborsClassifier(algorithm='auto', leaf_size=30, metric='minkowski',\n",
       "           metric_params=None, n_jobs=1, n_neighbors=5, p=2,\n",
       "           weights='uniform')"
      ]
     },
     "execution_count": 47,
     "metadata": {},
     "output_type": "execute_result"
    }
   ],
   "source": [
    "knn.fit(x_train, y_train)"
   ]
  },
  {
   "cell_type": "code",
   "execution_count": 49,
   "metadata": {
    "collapsed": false
   },
   "outputs": [
    {
     "name": "stdout",
     "output_type": "stream",
     "text": [
      "The knn score is 0.948979591837\n"
     ]
    }
   ],
   "source": [
    "print 'The knn score is ' + str(knn.score(x_train, y_train))"
   ]
  },
  {
   "cell_type": "code",
   "execution_count": 50,
   "metadata": {
    "collapsed": false
   },
   "outputs": [
    {
     "name": "stdout",
     "output_type": "stream",
     "text": [
      "[ 0.925       0.925       0.87179487  0.94871795  0.94736842]\n",
      "0.923576248313\n"
     ]
    }
   ],
   "source": [
    "#now runnng the model through CV 5 fold to check for overfitting.\n",
    "#looks like we do have some overfitting.\n",
    "scores=cross_val_score(knn, x_train, y_train,  cv=5, scoring ='accuracy')\n",
    "print scores\n",
    "print scores.mean()"
   ]
  },
  {
   "cell_type": "code",
   "execution_count": 124,
   "metadata": {
    "collapsed": false
   },
   "outputs": [
    {
     "name": "stdout",
     "output_type": "stream",
     "text": [
      "            Predicted High score  Low score\n",
      "High score                    39         10\n",
      "Low score                      0        147\n"
     ]
    }
   ],
   "source": [
    "#confusion matrix\n",
    "Y_pred = knn.predict(x_train)\n",
    "conmat = np.array(confusion_matrix(y_train, Y_pred))\n",
    "\n",
    "confusion = pd.DataFrame(conmat, index=['High score', 'Low score'],\n",
    "                         columns=['Predicted High score', 'Low score'])\n",
    "\n",
    "print(confusion)"
   ]
  },
  {
   "cell_type": "code",
   "execution_count": 126,
   "metadata": {
    "collapsed": false
   },
   "outputs": [
    {
     "name": "stdout",
     "output_type": "stream",
     "text": [
      "             precision    recall  f1-score   support\n",
      "\n",
      "          0       1.00      0.80      0.89        49\n",
      "          1       0.94      1.00      0.97       147\n",
      "\n",
      "avg / total       0.95      0.95      0.95       196\n",
      "\n"
     ]
    }
   ],
   "source": [
    "#Precision is tp/(tp + fp)  is the probabliy that some predicted to be high were not \n",
    "\n",
    "#recall = tp/(tp + fn)  that someone who predicted to be high was so\n",
    "\n",
    "cls_rep = classification_report(y_train, Y_pred)\n",
    "print(cls_rep)"
   ]
  },
  {
   "cell_type": "markdown",
   "metadata": {},
   "source": [
    "# Decision Trees"
   ]
  },
  {
   "cell_type": "code",
   "execution_count": 72,
   "metadata": {
    "collapsed": false
   },
   "outputs": [
    {
     "data": {
      "text/plain": [
       "DecisionTreeClassifier(class_weight=None, criterion='gini', max_depth=7,\n",
       "            max_features=None, max_leaf_nodes=None, min_samples_leaf=1,\n",
       "            min_samples_split=2, min_weight_fraction_leaf=0.0,\n",
       "            presort=False, random_state=None, splitter='best')"
      ]
     },
     "execution_count": 72,
     "metadata": {},
     "output_type": "execute_result"
    }
   ],
   "source": [
    "dt = DecisionTreeClassifier(max_depth = 7, min_samples_split =2)\n",
    "dt.fit(x_train, y_train)\n",
    "\n",
    "#note I started with a depth of 3 and only votes and ranking was important. So I \n",
    "#increased the depth to 5 and then 7 and 9.  The last change did not add any more variables"
   ]
  },
  {
   "cell_type": "code",
   "execution_count": 78,
   "metadata": {
    "collapsed": false
   },
   "outputs": [
    {
     "name": "stdout",
     "output_type": "stream",
     "text": [
      "Decision tree score is 1.0\n"
     ]
    }
   ],
   "source": [
    "print 'Decision tree score is ' + str(dt.score(x_train, y_train))\n",
    "\n",
    "#pehaps this is a little overfitted"
   ]
  },
  {
   "cell_type": "code",
   "execution_count": 114,
   "metadata": {
    "collapsed": false
   },
   "outputs": [
    {
     "data": {
      "text/html": [
       "<div>\n",
       "<table border=\"1\" class=\"dataframe\">\n",
       "  <thead>\n",
       "    <tr style=\"text-align: right;\">\n",
       "      <th></th>\n",
       "      <th>importance</th>\n",
       "    </tr>\n",
       "  </thead>\n",
       "  <tbody>\n",
       "    <tr>\n",
       "      <th>imdbVotes</th>\n",
       "      <td>0.784932</td>\n",
       "    </tr>\n",
       "    <tr>\n",
       "      <th>Ranking</th>\n",
       "      <td>0.163669</td>\n",
       "    </tr>\n",
       "    <tr>\n",
       "      <th>gDrama</th>\n",
       "      <td>0.027211</td>\n",
       "    </tr>\n",
       "    <tr>\n",
       "      <th>Year</th>\n",
       "      <td>0.024187</td>\n",
       "    </tr>\n",
       "    <tr>\n",
       "      <th>Rated__NOT RATED</th>\n",
       "      <td>0.000000</td>\n",
       "    </tr>\n",
       "  </tbody>\n",
       "</table>\n",
       "</div>"
      ],
      "text/plain": [
       "                  importance\n",
       "imdbVotes           0.784932\n",
       "Ranking             0.163669\n",
       "gDrama              0.027211\n",
       "Year                0.024187\n",
       "Rated__NOT RATED    0.000000"
      ]
     },
     "execution_count": 114,
     "metadata": {},
     "output_type": "execute_result"
    }
   ],
   "source": [
    "feature_importancesDT = pd.DataFrame(dt.feature_importances_,\n",
    "                                   index = X.columns,\n",
    "                                    columns=['importance']).sort_values('importance',\n",
    "                                                                        ascending=False)\n",
    "feature_importancesDT.head()"
   ]
  },
  {
   "cell_type": "code",
   "execution_count": 79,
   "metadata": {
    "collapsed": false
   },
   "outputs": [
    {
     "name": "stdout",
     "output_type": "stream",
     "text": [
      "[ 0.925       0.975       0.84615385  0.94871795  0.94736842]\n",
      "The mean for cv with dt is 0.928448043185\n"
     ]
    }
   ],
   "source": [
    "#lets run model through cv  the result proves the DT was overfitted\n",
    "scores=cross_val_score(dt, x_train, y_train,  cv=5, scoring ='accuracy')\n",
    "print scores\n",
    "print 'The mean for cv with dt is ' + str(scores.mean())\n"
   ]
  },
  {
   "cell_type": "code",
   "execution_count": 87,
   "metadata": {
    "collapsed": true
   },
   "outputs": [],
   "source": [
    "#setting up the parameters before we start\n",
    "cv = StratifiedKFold(y, n_folds=3, shuffle=True, random_state=41)\n",
    "def score(model, name):\n",
    "    s = cross_val_score(model, x_train, y_train, cv=cv, n_jobs=-1)\n",
    "    print \"{} Score:\\t{:0.3} ± {:0.3}\".format(name, s.mean().round(3), s.std().round(3))"
   ]
  },
  {
   "cell_type": "code",
   "execution_count": 106,
   "metadata": {
    "collapsed": false
   },
   "outputs": [
    {
     "name": "stdout",
     "output_type": "stream",
     "text": [
      "0.959487179487\n"
     ]
    }
   ],
   "source": [
    "# #lets run through bagging which is similar to cv\n",
    "# bdt = BaggingClassifier(DecisionTreeClassifier())\n",
    "# print score(bdt, \"Bagging DT\")\n",
    "#the cv score is different from the bagging score - I wonder which is better\n",
    "bagging = BaggingClassifier(dt, max_samples=0.5, max_features=0.5)\n",
    "bagging.fit(x_train, y_train)\n",
    "print cross_val_score(bagging, x_train, y_train, cv=5, n_jobs=-1).mean()"
   ]
  },
  {
   "cell_type": "code",
   "execution_count": 127,
   "metadata": {
    "collapsed": false
   },
   "outputs": [
    {
     "name": "stdout",
     "output_type": "stream",
     "text": [
      "            Predicted High score  Low score\n",
      "High score                    49          0\n",
      "Low score                      0        147\n"
     ]
    }
   ],
   "source": [
    "#confusion matrix\n",
    "Y_pred = dt.predict(x_train)\n",
    "conmat = np.array(confusion_matrix(y_train, Y_pred))\n",
    "\n",
    "confusion = pd.DataFrame(conmat, index=['High score', 'Low score'],\n",
    "                         columns=['Predicted High score', 'Low score'])\n",
    "\n",
    "print(confusion)"
   ]
  },
  {
   "cell_type": "code",
   "execution_count": 128,
   "metadata": {
    "collapsed": false
   },
   "outputs": [
    {
     "name": "stdout",
     "output_type": "stream",
     "text": [
      "             precision    recall  f1-score   support\n",
      "\n",
      "          0       1.00      1.00      1.00        49\n",
      "          1       1.00      1.00      1.00       147\n",
      "\n",
      "avg / total       1.00      1.00      1.00       196\n",
      "\n"
     ]
    }
   ],
   "source": [
    "#Precision is tp/(tp + fp)  is the probabliy that some predicted to be high were not \n",
    "\n",
    "#recall = tp/(tp + fn)  that someone who predicted to be high was so\n",
    "\n",
    "cls_rep = classification_report(y_train, Y_pred)\n",
    "print(cls_rep)"
   ]
  },
  {
   "cell_type": "code",
   "execution_count": null,
   "metadata": {
    "collapsed": true
   },
   "outputs": [],
   "source": []
  },
  {
   "cell_type": "code",
   "execution_count": null,
   "metadata": {
    "collapsed": true
   },
   "outputs": [],
   "source": []
  },
  {
   "cell_type": "code",
   "execution_count": null,
   "metadata": {
    "collapsed": true
   },
   "outputs": [],
   "source": []
  },
  {
   "cell_type": "markdown",
   "metadata": {},
   "source": [
    "# Random Forest"
   ]
  },
  {
   "cell_type": "code",
   "execution_count": 110,
   "metadata": {
    "collapsed": false
   },
   "outputs": [
    {
     "name": "stdout",
     "output_type": "stream",
     "text": [
      "0.959615384615\n"
     ]
    }
   ],
   "source": [
    "#Random forest \n",
    "#random forest worked better\n",
    "rf = RandomForestClassifier(class_weight='balanced', n_jobs=-1)\n",
    "rf.fit(x_train, y_train)\n",
    "print cross_val_score(rf, x_train, y_train, cv=5, n_jobs=-1).mean()"
   ]
  },
  {
   "cell_type": "code",
   "execution_count": 111,
   "metadata": {
    "collapsed": false
   },
   "outputs": [],
   "source": [
    "#graphing\n",
    "all(rf.feature_importances_ == np.mean([tree.feature_importances_ for tree in rf.estimators_], \n",
    "                                       axis=0))\n",
    "importances = rf.feature_importances_\n",
    "std = np.std([tree.feature_importances_ for tree in rf.estimators_], axis=0)"
   ]
  },
  {
   "cell_type": "code",
   "execution_count": 112,
   "metadata": {
    "collapsed": false
   },
   "outputs": [
    {
     "data": {
      "text/plain": [
       "array([ 3,  0,  1, 10,  2,  7,  6, 15, 36,  9,  4, 24, 31,  8, 12, 28,  5,\n",
       "       30, 20, 23, 32, 16, 35, 25, 22, 17, 26, 11, 33, 34, 27, 13, 29, 14,\n",
       "       19, 21, 18])"
      ]
     },
     "execution_count": 112,
     "metadata": {},
     "output_type": "execute_result"
    }
   ],
   "source": [
    "indices = np.argsort(importances)[::-1]\n",
    "feature_names = x_train.columns\n",
    "\n",
    "indices"
   ]
  },
  {
   "cell_type": "code",
   "execution_count": 113,
   "metadata": {
    "collapsed": false
   },
   "outputs": [
    {
     "data": {
      "text/plain": [
       "(-1, 37)"
      ]
     },
     "execution_count": 113,
     "metadata": {},
     "output_type": "execute_result"
    },
    {
     "data": {
      "image/png": "[encoded data removed]",
      "text/plain": [
       "<matplotlib.figure.Figure at 0x117ecc410>"
      ]
     },
     "metadata": {},
     "output_type": "display_data"
    }
   ],
   "source": [
    "plt.figure()\n",
    "plt.title(\"Feature importances\")\n",
    "plt.bar(range(x_train.shape[1]), importances[indices],\n",
    "       color=\"r\", yerr=std[indices], align=\"center\")\n",
    "plt.xticks(range(x_train.shape[1]), feature_names[indices], rotation=90)\n",
    "plt.xlim([-1, x_train.shape[1]])"
   ]
  },
  {
   "cell_type": "code",
   "execution_count": 132,
   "metadata": {
    "collapsed": false
   },
   "outputs": [
    {
     "name": "stdout",
     "output_type": "stream",
     "text": [
      "            Predicted High score  Low score\n",
      "High score                    49          0\n",
      "Low score                      0        147\n"
     ]
    }
   ],
   "source": [
    "#confusion matrix\n",
    "Y_pred = rf.predict(x_train)\n",
    "conmat = np.array(confusion_matrix(y_train, Y_pred))\n",
    "\n",
    "confusion = pd.DataFrame(conmat, index=['High score', 'Low score'],\n",
    "                         columns=['Predicted High score', 'Low score'])\n",
    "\n",
    "print(confusion)\n",
    "#something is wrong with these numbers"
   ]
  },
  {
   "cell_type": "code",
   "execution_count": 131,
   "metadata": {
    "collapsed": false
   },
   "outputs": [
    {
     "name": "stdout",
     "output_type": "stream",
     "text": [
      "             precision    recall  f1-score   support\n",
      "\n",
      "          0       1.00      1.00      1.00        49\n",
      "          1       1.00      1.00      1.00       147\n",
      "\n",
      "avg / total       1.00      1.00      1.00       196\n",
      "\n"
     ]
    }
   ],
   "source": [
    "#Precision is tp/(tp + fp)  is the probabliy that some predicted to be high were not \n",
    "\n",
    "#recall = tp/(tp + fn)  that someone who predicted to be high was so\n",
    "\n",
    "cls_rep = classification_report(y_train, Y_pred)\n",
    "print(cls_rep)"
   ]
  },
  {
   "cell_type": "markdown",
   "metadata": {},
   "source": [
    "# Extra Trees"
   ]
  },
  {
   "cell_type": "code",
   "execution_count": 136,
   "metadata": {
    "collapsed": false
   },
   "outputs": [
    {
     "data": {
      "text/plain": [
       "1.0"
      ]
     },
     "execution_count": 136,
     "metadata": {},
     "output_type": "execute_result"
    }
   ],
   "source": [
    "et = ExtraTreesClassifier(class_weight='balanced', n_jobs=-1)\n",
    "et.fit(x_train, y_train)\n",
    "importances = et.feature_importances_\n",
    "std = np.std([tree.feature_importances_ for tree in et.estimators_], axis=0)\n",
    "indices = np.argsort(importances)[::-1]\n",
    "feature_names = X.columns\n",
    "et.score(x_train, y_train)"
   ]
  },
  {
   "cell_type": "code",
   "execution_count": 118,
   "metadata": {
    "collapsed": false
   },
   "outputs": [
    {
     "data": {
      "text/plain": [
       "(-1, 37)"
      ]
     },
     "execution_count": 118,
     "metadata": {},
     "output_type": "execute_result"
    },
    {
     "data": {
      "image/png": "[encoded data removed]",
      "text/plain": [
       "<matplotlib.figure.Figure at 0x103c70f50>"
      ]
     },
     "metadata": {},
     "output_type": "display_data"
    }
   ],
   "source": [
    "# Plot the feature importances of the forest\n",
    "plt.figure()\n",
    "plt.title(\"Feature importances\")\n",
    "plt.bar(range(x_train.shape[1]), importances[indices],\n",
    "        color=\"r\", yerr=std[indices], align=\"center\")\n",
    "plt.xticks(range(x_train.shape[1]), feature_names[indices], rotation=90)\n",
    "plt.xlim([-1, x_train.shape[1]])"
   ]
  },
  {
   "cell_type": "code",
   "execution_count": 134,
   "metadata": {
    "collapsed": false
   },
   "outputs": [
    {
     "name": "stdout",
     "output_type": "stream",
     "text": [
      "            Predicted High score  Low score\n",
      "High score                    49          0\n",
      "Low score                      0        147\n"
     ]
    }
   ],
   "source": [
    "Y_pred = et.predict(x_train)\n",
    "conmat = np.array(confusion_matrix(y_train, Y_pred))\n",
    "\n",
    "confusion = pd.DataFrame(conmat, index=['High score', 'Low score'],\n",
    "                         columns=['Predicted High score', 'Low score'])\n",
    "print(confusion)"
   ]
  },
  {
   "cell_type": "markdown",
   "metadata": {},
   "source": [
    "# Finally running test data through the model"
   ]
  },
  {
   "cell_type": "markdown",
   "metadata": {},
   "source": [
    "The models\n",
    "Knn\n",
    "Decision Trees\n",
    "Random Forest\n",
    "Extra Trees"
   ]
  },
  {
   "cell_type": "code",
   "execution_count": 140,
   "metadata": {
    "collapsed": false
   },
   "outputs": [
    {
     "name": "stdout",
     "output_type": "stream",
     "text": [
      "The knn score is 0.908396946565\n",
      "[ 0.96296296  0.92592593  0.76923077  0.88461538  0.92      ]\n",
      "0.892547008547\n"
     ]
    }
   ],
   "source": [
    "#Knn\n",
    "\n",
    "print 'The knn score is ' + str(knn.score(x_test, y_test))\n",
    "scores=cross_val_score(knn, x_test, y_test,  cv=5, scoring ='accuracy')\n",
    "print scores\n",
    "print scores.mean()\n"
   ]
  },
  {
   "cell_type": "code",
   "execution_count": 141,
   "metadata": {
    "collapsed": false
   },
   "outputs": [
    {
     "name": "stdout",
     "output_type": "stream",
     "text": [
      "Decision tree score is 1.0\n"
     ]
    }
   ],
   "source": [
    "#decision tree\n",
    "dt.fit(x_test, y_test)\n",
    "print 'Decision tree score is ' + str(dt.score(x_test, y_test))"
   ]
  },
  {
   "cell_type": "code",
   "execution_count": 142,
   "metadata": {
    "collapsed": false
   },
   "outputs": [
    {
     "name": "stdout",
     "output_type": "stream",
     "text": [
      "0.930746438746\n"
     ]
    }
   ],
   "source": [
    "bagging.fit(x_test, y_test)\n",
    "print cross_val_score(bagging, x_test, y_test, cv=5, n_jobs=-1).mean()"
   ]
  },
  {
   "cell_type": "code",
   "execution_count": 144,
   "metadata": {
    "collapsed": false
   },
   "outputs": [
    {
     "name": "stdout",
     "output_type": "stream",
     "text": [
      "0.938700854701\n"
     ]
    }
   ],
   "source": [
    "#random forest\n",
    "rf.fit(x_test, y_test)\n",
    "print cross_val_score(rf, x_test, y_test, cv=5, n_jobs=-1).mean()"
   ]
  },
  {
   "cell_type": "code",
   "execution_count": 148,
   "metadata": {
    "collapsed": false
   },
   "outputs": [
    {
     "name": "stdout",
     "output_type": "stream",
     "text": [
      "1.0\n"
     ]
    }
   ],
   "source": [
    "#Extra trees\n",
    "et.fit(x_test, y_test)\n",
    "print et.score(x_test, y_test)"
   ]
  },
  {
   "cell_type": "code",
   "execution_count": null,
   "metadata": {
    "collapsed": true
   },
   "outputs": [],
   "source": []
  }
 ],
 "metadata": {
  "kernelspec": {
   "display_name": "Python [Root]",
   "language": "python",
   "name": "Python [Root]"
  },
  "language_info": {
   "codemirror_mode": {
    "name": "ipython",
    "version": 2
   },
   "file_extension": ".py",
   "mimetype": "text/x-python",
   "name": "python",
   "nbconvert_exporter": "python",
   "pygments_lexer": "ipython2",
   "version": "2.7.12"
  }
 },
 "nbformat": 4,
 "nbformat_minor": 0
}
