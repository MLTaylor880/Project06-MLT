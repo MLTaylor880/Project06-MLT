{
 "cells": [
  {
   "cell_type": "code",
   "execution_count": 90,
   "metadata": {
    "collapsed": true
   },
   "outputs": [],
   "source": [
    "import pandas as pd\n",
    "import csv\n",
    "import numpy as np\n",
    "import matplotlib.pyplot as plt\n",
    "%matplotlib inline\n",
    "from sklearn.cross_validation import cross_val_score, StratifiedKFold\n",
    "from sklearn.tree import DecisionTreeClassifier\n",
    "\n",
    "from datetime import datetime"
   ]
  },
  {
   "cell_type": "code",
   "execution_count": 54,
   "metadata": {
    "collapsed": false
   },
   "outputs": [],
   "source": [
    "movieData=pd.read_csv('movieData.csv')"
   ]
  },
  {
   "cell_type": "code",
   "execution_count": null,
   "metadata": {
    "collapsed": true
   },
   "outputs": [],
   "source": []
  },
  {
   "cell_type": "code",
   "execution_count": 55,
   "metadata": {
    "collapsed": false
   },
   "outputs": [
    {
     "data": {
      "text/html": [
       "<div>\n",
       "<table border=\"1\" class=\"dataframe\">\n",
       "  <thead>\n",
       "    <tr style=\"text-align: right;\">\n",
       "      <th></th>\n",
       "      <th>Unnamed: 0</th>\n",
       "      <th>Actors</th>\n",
       "      <th>Awards</th>\n",
       "      <th>Country</th>\n",
       "      <th>Director</th>\n",
       "      <th>Genre</th>\n",
       "      <th>Language</th>\n",
       "      <th>Metascore</th>\n",
       "      <th>Plot</th>\n",
       "      <th>Ranking</th>\n",
       "      <th>...</th>\n",
       "      <th>Released</th>\n",
       "      <th>Response</th>\n",
       "      <th>Runtime</th>\n",
       "      <th>Title</th>\n",
       "      <th>Type</th>\n",
       "      <th>Writer</th>\n",
       "      <th>Year</th>\n",
       "      <th>imdbID</th>\n",
       "      <th>imdbRating</th>\n",
       "      <th>imdbVotes</th>\n",
       "    </tr>\n",
       "  </thead>\n",
       "  <tbody>\n",
       "    <tr>\n",
       "      <th>241</th>\n",
       "      <td>241</td>\n",
       "      <td>Harry Dean Stanton, Sam Berry, Bernhard Wicki,...</td>\n",
       "      <td>Nominated for 1 Golden Globe. Another 16 wins ...</td>\n",
       "      <td>West Germany, France, UK</td>\n",
       "      <td>Wim Wenders</td>\n",
       "      <td>Drama</td>\n",
       "      <td>English</td>\n",
       "      <td>NaN</td>\n",
       "      <td>Travis Henderson, an aimless drifter who has b...</td>\n",
       "      <td>247</td>\n",
       "      <td>...</td>\n",
       "      <td>19 Sep 1984</td>\n",
       "      <td>True</td>\n",
       "      <td>147 min</td>\n",
       "      <td>Paris, Texas</td>\n",
       "      <td>movie</td>\n",
       "      <td>L.M. Kit Carson (adaptation), Sam Shepard</td>\n",
       "      <td>1984</td>\n",
       "      <td>tt0087884</td>\n",
       "      <td>8.1</td>\n",
       "      <td>50,636</td>\n",
       "    </tr>\n",
       "    <tr>\n",
       "      <th>242</th>\n",
       "      <td>242</td>\n",
       "      <td>Aamir Khan, Gracy Singh, Rachel Shelley, Paul ...</td>\n",
       "      <td>Nominated for 1 Oscar. Another 44 wins &amp; 19 no...</td>\n",
       "      <td>India</td>\n",
       "      <td>Ashutosh Gowariker</td>\n",
       "      <td>Adventure, Drama, Musical</td>\n",
       "      <td>Hindi, English, Awadhi, Urdu</td>\n",
       "      <td>84.0</td>\n",
       "      <td>The people of a small village in Victorian Ind...</td>\n",
       "      <td>248</td>\n",
       "      <td>...</td>\n",
       "      <td>08 May 2002</td>\n",
       "      <td>True</td>\n",
       "      <td>224 min</td>\n",
       "      <td>Lagaan: Once Upon a Time in India</td>\n",
       "      <td>movie</td>\n",
       "      <td>Ashutosh Gowariker (story), Ashutosh Gowariker...</td>\n",
       "      <td>2001</td>\n",
       "      <td>tt0169102</td>\n",
       "      <td>8.2</td>\n",
       "      <td>73,792</td>\n",
       "    </tr>\n",
       "  </tbody>\n",
       "</table>\n",
       "<p>2 rows × 21 columns</p>\n",
       "</div>"
      ],
      "text/plain": [
       "     Unnamed: 0                                             Actors  \\\n",
       "241         241  Harry Dean Stanton, Sam Berry, Bernhard Wicki,...   \n",
       "242         242  Aamir Khan, Gracy Singh, Rachel Shelley, Paul ...   \n",
       "\n",
       "                                                Awards  \\\n",
       "241  Nominated for 1 Golden Globe. Another 16 wins ...   \n",
       "242  Nominated for 1 Oscar. Another 44 wins & 19 no...   \n",
       "\n",
       "                      Country            Director                      Genre  \\\n",
       "241  West Germany, France, UK         Wim Wenders                      Drama   \n",
       "242                     India  Ashutosh Gowariker  Adventure, Drama, Musical   \n",
       "\n",
       "                         Language  Metascore  \\\n",
       "241                       English        NaN   \n",
       "242  Hindi, English, Awadhi, Urdu       84.0   \n",
       "\n",
       "                                                  Plot  Ranking    ...      \\\n",
       "241  Travis Henderson, an aimless drifter who has b...      247    ...       \n",
       "242  The people of a small village in Victorian Ind...      248    ...       \n",
       "\n",
       "        Released Response  Runtime                              Title   Type  \\\n",
       "241  19 Sep 1984     True  147 min                       Paris, Texas  movie   \n",
       "242  08 May 2002     True  224 min  Lagaan: Once Upon a Time in India  movie   \n",
       "\n",
       "                                                Writer  Year     imdbID  \\\n",
       "241          L.M. Kit Carson (adaptation), Sam Shepard  1984  tt0087884   \n",
       "242  Ashutosh Gowariker (story), Ashutosh Gowariker...  2001  tt0169102   \n",
       "\n",
       "    imdbRating  imdbVotes  \n",
       "241        8.1     50,636  \n",
       "242        8.2     73,792  \n",
       "\n",
       "[2 rows x 21 columns]"
      ]
     },
     "execution_count": 55,
     "metadata": {},
     "output_type": "execute_result"
    }
   ],
   "source": [
    "movieData.tail(2)"
   ]
  },
  {
   "cell_type": "code",
   "execution_count": 56,
   "metadata": {
    "collapsed": false
   },
   "outputs": [
    {
     "data": {
      "text/plain": [
       "Index([u'Unnamed: 0', u'Actors', u'Awards', u'Country', u'Director', u'Genre',\n",
       "       u'Language', u'Metascore', u'Plot', u'Ranking', u'Rated', u'Released',\n",
       "       u'Response', u'Runtime', u'Title', u'Type', u'Writer', u'Year',\n",
       "       u'imdbID', u'imdbRating', u'imdbVotes'],\n",
       "      dtype='object')"
      ]
     },
     "execution_count": 56,
     "metadata": {},
     "output_type": "execute_result"
    }
   ],
   "source": [
    "movieData.columns"
   ]
  },
  {
   "cell_type": "code",
   "execution_count": 57,
   "metadata": {
    "collapsed": true
   },
   "outputs": [],
   "source": [
    "movieDataEdited=movieData.copy()"
   ]
  },
  {
   "cell_type": "code",
   "execution_count": 58,
   "metadata": {
    "collapsed": false
   },
   "outputs": [
    {
     "data": {
      "text/html": [
       "<div>\n",
       "<table border=\"1\" class=\"dataframe\">\n",
       "  <thead>\n",
       "    <tr style=\"text-align: right;\">\n",
       "      <th></th>\n",
       "      <th>Unnamed: 0</th>\n",
       "      <th>Actors</th>\n",
       "      <th>Awards</th>\n",
       "      <th>Country</th>\n",
       "      <th>Director</th>\n",
       "      <th>Genre</th>\n",
       "      <th>Language</th>\n",
       "      <th>Metascore</th>\n",
       "      <th>Plot</th>\n",
       "      <th>Ranking</th>\n",
       "      <th>...</th>\n",
       "      <th>Released</th>\n",
       "      <th>Response</th>\n",
       "      <th>Runtime</th>\n",
       "      <th>Title</th>\n",
       "      <th>Type</th>\n",
       "      <th>Writer</th>\n",
       "      <th>Year</th>\n",
       "      <th>imdbID</th>\n",
       "      <th>imdbRating</th>\n",
       "      <th>imdbVotes</th>\n",
       "    </tr>\n",
       "  </thead>\n",
       "  <tbody>\n",
       "    <tr>\n",
       "      <th>242</th>\n",
       "      <td>242</td>\n",
       "      <td>Aamir Khan, Gracy Singh, Rachel Shelley, Paul ...</td>\n",
       "      <td>Nominated for 1 Oscar. Another 44 wins &amp; 19 no...</td>\n",
       "      <td>India</td>\n",
       "      <td>Ashutosh Gowariker</td>\n",
       "      <td>Adventure, Drama, Musical</td>\n",
       "      <td>Hindi, English, Awadhi, Urdu</td>\n",
       "      <td>84.0</td>\n",
       "      <td>The people of a small village in Victorian Ind...</td>\n",
       "      <td>248</td>\n",
       "      <td>...</td>\n",
       "      <td>08 May 2002</td>\n",
       "      <td>True</td>\n",
       "      <td>224 min</td>\n",
       "      <td>Lagaan: Once Upon a Time in India</td>\n",
       "      <td>movie</td>\n",
       "      <td>Ashutosh Gowariker (story), Ashutosh Gowariker...</td>\n",
       "      <td>2001</td>\n",
       "      <td>tt0169102</td>\n",
       "      <td>8.2</td>\n",
       "      <td>73,792</td>\n",
       "    </tr>\n",
       "  </tbody>\n",
       "</table>\n",
       "<p>1 rows × 21 columns</p>\n",
       "</div>"
      ],
      "text/plain": [
       "     Unnamed: 0                                             Actors  \\\n",
       "242         242  Aamir Khan, Gracy Singh, Rachel Shelley, Paul ...   \n",
       "\n",
       "                                                Awards Country  \\\n",
       "242  Nominated for 1 Oscar. Another 44 wins & 19 no...   India   \n",
       "\n",
       "               Director                      Genre  \\\n",
       "242  Ashutosh Gowariker  Adventure, Drama, Musical   \n",
       "\n",
       "                         Language  Metascore  \\\n",
       "242  Hindi, English, Awadhi, Urdu       84.0   \n",
       "\n",
       "                                                  Plot  Ranking    ...      \\\n",
       "242  The people of a small village in Victorian Ind...      248    ...       \n",
       "\n",
       "        Released Response  Runtime                              Title   Type  \\\n",
       "242  08 May 2002     True  224 min  Lagaan: Once Upon a Time in India  movie   \n",
       "\n",
       "                                                Writer  Year     imdbID  \\\n",
       "242  Ashutosh Gowariker (story), Ashutosh Gowariker...  2001  tt0169102   \n",
       "\n",
       "    imdbRating  imdbVotes  \n",
       "242        8.2     73,792  \n",
       "\n",
       "[1 rows x 21 columns]"
      ]
     },
     "execution_count": 58,
     "metadata": {},
     "output_type": "execute_result"
    }
   ],
   "source": [
    "movieDataEdited.tail(1)"
   ]
  },
  {
   "cell_type": "markdown",
   "metadata": {},
   "source": [
    "imdbRating = float\n",
    "imdbVotes = object - need to convert to integer\n",
    "\n",
    "1 missing\n",
    "Language\n",
    "imdbRating\n",
    "imdbVotes\n",
    "\n",
    "2 missing from rating, runtime \n",
    "metascore missing 80\n",
    "plot missing 3\n",
    "rating 4"
   ]
  },
  {
   "cell_type": "code",
   "execution_count": 85,
   "metadata": {
    "collapsed": false
   },
   "outputs": [
    {
     "name": "stdout",
     "output_type": "stream",
     "text": [
      "For Unnamed: 0\n",
      "0\n",
      "count    243.000000\n",
      "mean     121.000000\n",
      "std       70.292247\n",
      "min        0.000000\n",
      "25%       60.500000\n",
      "50%      121.000000\n",
      "75%      181.500000\n",
      "max      242.000000\n",
      "Name: Unnamed: 0, dtype: float64\n",
      " \n",
      "For Actors\n",
      "0\n",
      "count                                                   243\n",
      "unique                                                  242\n",
      "top       Mark Hamill, Harrison Ford, Carrie Fisher, Bil...\n",
      "freq                                                      2\n",
      "Name: Actors, dtype: object\n",
      " \n",
      "For Awards\n",
      "6\n",
      "count         237\n",
      "unique        227\n",
      "top       3 wins.\n",
      "freq            4\n",
      "Name: Awards, dtype: object\n",
      " \n",
      "For Country\n",
      "0\n",
      "count     243\n",
      "unique     56\n",
      "top       USA\n",
      "freq      121\n",
      "Name: Country, dtype: object\n",
      " \n",
      "For Director\n",
      "0\n",
      "count                 243\n",
      "unique                154\n",
      "top       Martin Scorsese\n",
      "freq                    7\n",
      "Name: Director, dtype: object\n",
      " \n",
      "For Genre\n",
      "0\n",
      "count       243\n",
      "unique      103\n",
      "top       Drama\n",
      "freq         19\n",
      "Name: Genre, dtype: object\n",
      " \n",
      "For Language\n",
      "1\n",
      "count         242\n",
      "unique         86\n",
      "top       English\n",
      "freq           98\n",
      "Name: Language, dtype: object\n",
      " \n",
      "For Metascore\n",
      "80\n",
      "count    163.000000\n",
      "mean      80.153374\n",
      "std       10.774102\n",
      "min       53.000000\n",
      "25%             NaN\n",
      "50%             NaN\n",
      "75%             NaN\n",
      "max      100.000000\n",
      "Name: Metascore, dtype: float64\n",
      " \n",
      "For Plot\n",
      "3\n",
      "count                                                   240\n",
      "unique                                                  240\n",
      "top       A young F.B.I. cadet must confide in an incarc...\n",
      "freq                                                      1\n",
      "Name: Plot, dtype: object\n",
      " \n",
      "For Ranking\n",
      "0\n",
      "count    243.000000\n",
      "mean     124.115226\n",
      "std       72.089040\n",
      "min        0.000000\n",
      "25%       61.500000\n",
      "50%      125.000000\n",
      "75%      185.500000\n",
      "max      248.000000\n",
      "Name: Ranking, dtype: float64\n",
      " \n",
      "For Rated\n",
      "4\n",
      "count     239\n",
      "unique      9\n",
      "top         R\n",
      "freq      101\n",
      "Name: Rated, dtype: object\n",
      " \n",
      "For Released\n",
      "2\n",
      "count             241\n",
      "unique            235\n",
      "top       22 Nov 1995\n",
      "freq                2\n",
      "Name: Released, dtype: object\n",
      " \n",
      "For Response\n",
      "0\n",
      "count      243\n",
      "unique       1\n",
      "top       True\n",
      "freq       243\n",
      "Name: Response, dtype: object\n",
      " \n",
      "For Runtime\n",
      "0\n",
      "count    243.000000\n",
      "mean     128.831276\n",
      "std       34.781614\n",
      "min        0.000000\n",
      "25%      107.000000\n",
      "50%      125.000000\n",
      "75%      145.000000\n",
      "max      320.000000\n",
      "Name: Runtime, dtype: float64\n",
      " \n",
      "For Title\n",
      "0\n",
      "count         243\n",
      "unique        243\n",
      "top       Network\n",
      "freq            1\n",
      "Name: Title, dtype: object\n",
      " \n",
      "For Type\n",
      "0\n",
      "count       243\n",
      "unique        1\n",
      "top       movie\n",
      "freq        243\n",
      "Name: Type, dtype: object\n",
      " \n",
      "For Writer\n",
      "0\n",
      "count                 243\n",
      "unique                229\n",
      "top       Charles Chaplin\n",
      "freq                    5\n",
      "Name: Writer, dtype: object\n",
      " \n",
      "For Year\n",
      "0\n",
      "count     243.000000\n",
      "mean     1984.065844\n",
      "std        24.188562\n",
      "min      1921.000000\n",
      "25%      1964.500000\n",
      "50%      1991.000000\n",
      "75%      2003.500000\n",
      "max      2016.000000\n",
      "Name: Year, dtype: float64\n",
      " \n",
      "For imdbID\n",
      "0\n",
      "count           243\n",
      "unique          243\n",
      "top       tt0075314\n",
      "freq              1\n",
      "Name: imdbID, dtype: object\n",
      " \n",
      "For imdbRating\n",
      "1\n",
      "count    242.000000\n",
      "mean       8.289669\n",
      "std        0.340759\n",
      "min        5.200000\n",
      "25%             NaN\n",
      "50%             NaN\n",
      "75%             NaN\n",
      "max        9.300000\n",
      "Name: imdbRating, dtype: float64\n",
      " \n",
      "For imdbVotes\n",
      "0\n",
      "count    2.430000e+02\n",
      "mean     4.152912e+05\n",
      "std      3.434877e+05\n",
      "min      0.000000e+00\n",
      "25%      1.182005e+05\n",
      "50%      3.393270e+05\n",
      "75%      6.107885e+05\n",
      "max      1.711064e+06\n",
      "Name: imdbVotes, dtype: float64\n",
      " \n"
     ]
    }
   ],
   "source": [
    "tColumms = []\n",
    "i=0\n",
    "for labels in movieDataEdited.columns:  \n",
    "    if i >=0:\n",
    "        tColumms.append(labels)\n",
    "        i = i+1\n",
    "    else:\n",
    "        i=i+1\n",
    "\n",
    "for item in tColumms:\n",
    "    print 'For %s' %item\n",
    "    print movieDataEdited[item].isnull().sum()\n",
    "    print movieDataEdited[item].describe()\n",
    "    print ' '"
   ]
  },
  {
   "cell_type": "code",
   "execution_count": null,
   "metadata": {
    "collapsed": true
   },
   "outputs": [],
   "source": [
    "# titanic['unknownAge']=titanic['Age']\n",
    "# titanic['unknownAge'].fillna('Missing', inplace=True)\n",
    "# titanic['unknownAge'] = titanic['unknownAge'].apply(lambda x: 1 if x =='Missing' else 0)"
   ]
  },
  {
   "cell_type": "code",
   "execution_count": 51,
   "metadata": {
    "collapsed": false
   },
   "outputs": [
    {
     "name": "stderr",
     "output_type": "stream",
     "text": [
      "/anaconda/lib/python2.7/site-packages/ipykernel/__main__.py:4: FutureWarning: convert_objects is deprecated.  Use the data-type specific converters pd.to_datetime, pd.to_timedelta and pd.to_numeric.\n"
     ]
    }
   ],
   "source": [
    "\n",
    "# movieDataEdited['imdbVotes'] = movieDataEdited['imdbVotes'].convert_objects(convert_numeric=True)b"
   ]
  },
  {
   "cell_type": "code",
   "execution_count": 79,
   "metadata": {
    "collapsed": false
   },
   "outputs": [],
   "source": [
    "#one imdbVotes missing\n",
    "#strip the comma out of the number\n",
    "#movieDataEdited['imdbVotes'] = movieDataEdited['imdbVotes'].str.strip(',)\n",
    "movieDataEdited['imdbVotes']=movieDataEdited['imdbVotes'].str.replace(',','')\n",
    "movieDataEdited['imdbVotes'].fillna(0, inplace=True)\n",
    "movieDataEdited['imdbVotes']=movieDataEdited['imdbVotes'].astype(int)\n",
    "#movieDataEdited['imdbVotes']"
   ]
  },
  {
   "cell_type": "code",
   "execution_count": 83,
   "metadata": {
    "collapsed": false
   },
   "outputs": [],
   "source": [
    "#two run times missing\n",
    "#movieDataEdited['imdbVotes'] = movieDataEdited['imdbVotes'].str.strip('min')\n",
    "#movieDataEdited['Runtime']=movieDataEdited['Runtime'].str.replace(' min','')\n",
    "movieDataEdited['Runtime'].fillna(0, inplace=True)\n",
    "movieDataEdited['Runtime']=movieDataEdited['Runtime'].astype(int)"
   ]
  },
  {
   "cell_type": "code",
   "execution_count": 84,
   "metadata": {
    "collapsed": false
   },
   "outputs": [
    {
     "data": {
      "text/plain": [
       "0    142\n",
       "1    175\n",
       "2    202\n",
       "3    152\n",
       "4     96\n",
       "Name: Runtime, dtype: int64"
      ]
     },
     "execution_count": 84,
     "metadata": {},
     "output_type": "execute_result"
    }
   ],
   "source": [
    "movieDataEdited['Runtime'].head()"
   ]
  },
  {
   "cell_type": "code",
   "execution_count": 94,
   "metadata": {
    "collapsed": false
   },
   "outputs": [
    {
     "data": {
      "text/plain": [
       "RangeIndex(start=0, stop=3, step=1)"
      ]
     },
     "execution_count": 94,
     "metadata": {},
     "output_type": "execute_result"
    }
   ],
   "source": [
    "tempDF=movieDataEdited['Genre'].str[0:].str.split(',', expand=True )\n",
    "tempDF.columns"
   ]
  },
  {
   "cell_type": "code",
   "execution_count": 99,
   "metadata": {
    "collapsed": false
   },
   "outputs": [],
   "source": [
    "pd.melt?"
   ]
  },
  {
   "cell_type": "code",
   "execution_count": 108,
   "metadata": {
    "collapsed": true
   },
   "outputs": [],
   "source": [
    "pd.get_dummies?"
   ]
  },
  {
   "cell_type": "code",
   "execution_count": 110,
   "metadata": {
    "collapsed": false
   },
   "outputs": [
    {
     "data": {
      "text/html": [
       "<div>\n",
       "<table border=\"1\" class=\"dataframe\">\n",
       "  <thead>\n",
       "    <tr style=\"text-align: right;\">\n",
       "      <th></th>\n",
       "      <th>0_Action</th>\n",
       "      <th>0_Adventure</th>\n",
       "      <th>0_Animation</th>\n",
       "      <th>0_Biography</th>\n",
       "      <th>0_Comedy</th>\n",
       "      <th>0_Crime</th>\n",
       "      <th>0_Drama</th>\n",
       "      <th>0_Film-Noir</th>\n",
       "      <th>0_Horror</th>\n",
       "      <th>0_Mystery</th>\n",
       "      <th>...</th>\n",
       "      <th>2_ History</th>\n",
       "      <th>2_ Horror</th>\n",
       "      <th>2_ Musical</th>\n",
       "      <th>2_ Mystery</th>\n",
       "      <th>2_ Romance</th>\n",
       "      <th>2_ Sci-Fi</th>\n",
       "      <th>2_ Sport</th>\n",
       "      <th>2_ Thriller</th>\n",
       "      <th>2_ War</th>\n",
       "      <th>2_ Western</th>\n",
       "    </tr>\n",
       "  </thead>\n",
       "  <tbody>\n",
       "    <tr>\n",
       "      <th>0</th>\n",
       "      <td>0.0</td>\n",
       "      <td>0.0</td>\n",
       "      <td>0.0</td>\n",
       "      <td>0.0</td>\n",
       "      <td>0.0</td>\n",
       "      <td>1.0</td>\n",
       "      <td>0.0</td>\n",
       "      <td>0.0</td>\n",
       "      <td>0.0</td>\n",
       "      <td>0.0</td>\n",
       "      <td>...</td>\n",
       "      <td>0.0</td>\n",
       "      <td>0.0</td>\n",
       "      <td>0.0</td>\n",
       "      <td>0.0</td>\n",
       "      <td>0.0</td>\n",
       "      <td>0.0</td>\n",
       "      <td>0.0</td>\n",
       "      <td>0.0</td>\n",
       "      <td>0.0</td>\n",
       "      <td>0.0</td>\n",
       "    </tr>\n",
       "    <tr>\n",
       "      <th>1</th>\n",
       "      <td>0.0</td>\n",
       "      <td>0.0</td>\n",
       "      <td>0.0</td>\n",
       "      <td>0.0</td>\n",
       "      <td>0.0</td>\n",
       "      <td>1.0</td>\n",
       "      <td>0.0</td>\n",
       "      <td>0.0</td>\n",
       "      <td>0.0</td>\n",
       "      <td>0.0</td>\n",
       "      <td>...</td>\n",
       "      <td>0.0</td>\n",
       "      <td>0.0</td>\n",
       "      <td>0.0</td>\n",
       "      <td>0.0</td>\n",
       "      <td>0.0</td>\n",
       "      <td>0.0</td>\n",
       "      <td>0.0</td>\n",
       "      <td>0.0</td>\n",
       "      <td>0.0</td>\n",
       "      <td>0.0</td>\n",
       "    </tr>\n",
       "    <tr>\n",
       "      <th>2</th>\n",
       "      <td>0.0</td>\n",
       "      <td>0.0</td>\n",
       "      <td>0.0</td>\n",
       "      <td>0.0</td>\n",
       "      <td>0.0</td>\n",
       "      <td>1.0</td>\n",
       "      <td>0.0</td>\n",
       "      <td>0.0</td>\n",
       "      <td>0.0</td>\n",
       "      <td>0.0</td>\n",
       "      <td>...</td>\n",
       "      <td>0.0</td>\n",
       "      <td>0.0</td>\n",
       "      <td>0.0</td>\n",
       "      <td>0.0</td>\n",
       "      <td>0.0</td>\n",
       "      <td>0.0</td>\n",
       "      <td>0.0</td>\n",
       "      <td>0.0</td>\n",
       "      <td>0.0</td>\n",
       "      <td>0.0</td>\n",
       "    </tr>\n",
       "    <tr>\n",
       "      <th>3</th>\n",
       "      <td>1.0</td>\n",
       "      <td>0.0</td>\n",
       "      <td>0.0</td>\n",
       "      <td>0.0</td>\n",
       "      <td>0.0</td>\n",
       "      <td>0.0</td>\n",
       "      <td>0.0</td>\n",
       "      <td>0.0</td>\n",
       "      <td>0.0</td>\n",
       "      <td>0.0</td>\n",
       "      <td>...</td>\n",
       "      <td>0.0</td>\n",
       "      <td>0.0</td>\n",
       "      <td>0.0</td>\n",
       "      <td>0.0</td>\n",
       "      <td>0.0</td>\n",
       "      <td>0.0</td>\n",
       "      <td>0.0</td>\n",
       "      <td>0.0</td>\n",
       "      <td>0.0</td>\n",
       "      <td>0.0</td>\n",
       "    </tr>\n",
       "    <tr>\n",
       "      <th>4</th>\n",
       "      <td>0.0</td>\n",
       "      <td>0.0</td>\n",
       "      <td>0.0</td>\n",
       "      <td>0.0</td>\n",
       "      <td>0.0</td>\n",
       "      <td>1.0</td>\n",
       "      <td>0.0</td>\n",
       "      <td>0.0</td>\n",
       "      <td>0.0</td>\n",
       "      <td>0.0</td>\n",
       "      <td>...</td>\n",
       "      <td>0.0</td>\n",
       "      <td>0.0</td>\n",
       "      <td>0.0</td>\n",
       "      <td>0.0</td>\n",
       "      <td>0.0</td>\n",
       "      <td>0.0</td>\n",
       "      <td>0.0</td>\n",
       "      <td>0.0</td>\n",
       "      <td>0.0</td>\n",
       "      <td>0.0</td>\n",
       "    </tr>\n",
       "  </tbody>\n",
       "</table>\n",
       "<p>5 rows × 49 columns</p>\n",
       "</div>"
      ],
      "text/plain": [
       "   0_Action  0_Adventure  0_Animation  0_Biography  0_Comedy  0_Crime  \\\n",
       "0       0.0          0.0          0.0          0.0       0.0      1.0   \n",
       "1       0.0          0.0          0.0          0.0       0.0      1.0   \n",
       "2       0.0          0.0          0.0          0.0       0.0      1.0   \n",
       "3       1.0          0.0          0.0          0.0       0.0      0.0   \n",
       "4       0.0          0.0          0.0          0.0       0.0      1.0   \n",
       "\n",
       "   0_Drama  0_Film-Noir  0_Horror  0_Mystery     ...      2_ History  \\\n",
       "0      0.0          0.0       0.0        0.0     ...             0.0   \n",
       "1      0.0          0.0       0.0        0.0     ...             0.0   \n",
       "2      0.0          0.0       0.0        0.0     ...             0.0   \n",
       "3      0.0          0.0       0.0        0.0     ...             0.0   \n",
       "4      0.0          0.0       0.0        0.0     ...             0.0   \n",
       "\n",
       "   2_ Horror  2_ Musical  2_ Mystery  2_ Romance  2_ Sci-Fi  2_ Sport  \\\n",
       "0        0.0         0.0         0.0         0.0        0.0       0.0   \n",
       "1        0.0         0.0         0.0         0.0        0.0       0.0   \n",
       "2        0.0         0.0         0.0         0.0        0.0       0.0   \n",
       "3        0.0         0.0         0.0         0.0        0.0       0.0   \n",
       "4        0.0         0.0         0.0         0.0        0.0       0.0   \n",
       "\n",
       "   2_ Thriller  2_ War  2_ Western  \n",
       "0          0.0     0.0         0.0  \n",
       "1          0.0     0.0         0.0  \n",
       "2          0.0     0.0         0.0  \n",
       "3          0.0     0.0         0.0  \n",
       "4          0.0     0.0         0.0  \n",
       "\n",
       "[5 rows x 49 columns]"
      ]
     },
     "execution_count": 110,
     "metadata": {},
     "output_type": "execute_result"
    }
   ],
   "source": [
    "pd.get_dummies(tempDF).head()"
   ]
  },
  {
   "cell_type": "code",
   "execution_count": 111,
   "metadata": {
    "collapsed": false
   },
   "outputs": [
    {
     "data": {
      "text/html": [
       "<div>\n",
       "<table border=\"1\" class=\"dataframe\">\n",
       "  <thead>\n",
       "    <tr style=\"text-align: right;\">\n",
       "      <th></th>\n",
       "      <th>0</th>\n",
       "      <th>1</th>\n",
       "      <th>2</th>\n",
       "    </tr>\n",
       "  </thead>\n",
       "  <tbody>\n",
       "    <tr>\n",
       "      <th>0</th>\n",
       "      <td>Crime</td>\n",
       "      <td>Drama</td>\n",
       "      <td>None</td>\n",
       "    </tr>\n",
       "  </tbody>\n",
       "</table>\n",
       "</div>"
      ],
      "text/plain": [
       "       0       1     2\n",
       "0  Crime   Drama  None"
      ]
     },
     "execution_count": 111,
     "metadata": {},
     "output_type": "execute_result"
    }
   ],
   "source": [
    "tempDF.head(1)"
   ]
  },
  {
   "cell_type": "code",
   "execution_count": 96,
   "metadata": {
    "collapsed": false
   },
   "outputs": [],
   "source": []
  },
  {
   "cell_type": "code",
   "execution_count": null,
   "metadata": {
    "collapsed": true
   },
   "outputs": [],
   "source": []
  }
 ],
 "metadata": {
  "kernelspec": {
   "display_name": "Python [Root]",
   "language": "python",
   "name": "Python [Root]"
  },
  "language_info": {
   "codemirror_mode": {
    "name": "ipython",
    "version": 2
   },
   "file_extension": ".py",
   "mimetype": "text/x-python",
   "name": "python",
   "nbconvert_exporter": "python",
   "pygments_lexer": "ipython2",
   "version": "2.7.12"
  }
 },
 "nbformat": 4,
 "nbformat_minor": 0
}
